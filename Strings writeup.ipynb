{
 "cells": [
  {
   "cell_type": "markdown",
   "id": "60a91992",
   "metadata": {},
   "source": [
    "$ STRINGS $"
   ]
  },
  {
   "cell_type": "markdown",
   "id": "d163fa95",
   "metadata": {},
   "source": [
    "### How to read the Strings ###"
   ]
  },
  {
   "cell_type": "code",
   "execution_count": null,
   "id": "c4d4c78f",
   "metadata": {},
   "outputs": [],
   "source": [
    "There are three types of strings\n",
    "1.single quotes\n",
    "2.double quotes\n",
    "3.triple quotes"
   ]
  },
  {
   "cell_type": "code",
   "execution_count": 5,
   "id": "85aaf2ac",
   "metadata": {},
   "outputs": [
    {
     "data": {
      "text/plain": [
       "'python'"
      ]
     },
     "execution_count": 5,
     "metadata": {},
     "output_type": "execute_result"
    }
   ],
   "source": [
    "string1='python'   # Single quote\n",
    "string1"
   ]
  },
  {
   "cell_type": "code",
   "execution_count": 6,
   "id": "9e9d7a65",
   "metadata": {},
   "outputs": [
    {
     "data": {
      "text/plain": [
       "'python'"
      ]
     },
     "execution_count": 6,
     "metadata": {},
     "output_type": "execute_result"
    }
   ],
   "source": [
    "string2=\"python\"    # Double quotes\n",
    "string2"
   ]
  },
  {
   "cell_type": "code",
   "execution_count": null,
   "id": "28002da0",
   "metadata": {},
   "outputs": [],
   "source": [
    "## Triple quotes is to create multi-line strings and docstrings.We can create triple quotes using double (\"\"\" \"\"\") as well as \n",
    "## single (\"' '\") quotes."
   ]
  },
  {
   "cell_type": "code",
   "execution_count": null,
   "id": "5206f7d0",
   "metadata": {},
   "outputs": [],
   "source": [
    "* Doc string is used to say same information about your python code\n",
    "\"\"\"\n",
    "im creating a while condition\n",
    "arguements: None\n",
    "return:    None\n",
    "\"\"\"\n",
    "def hello():\n",
    "    print(\"good morning\")"
   ]
  },
  {
   "cell_type": "code",
   "execution_count": 10,
   "id": "3241ef3f",
   "metadata": {},
   "outputs": [
    {
     "name": "stdout",
     "output_type": "stream",
     "text": [
      "hello \"python\"\n"
     ]
    }
   ],
   "source": [
    "string3='hello \"python\"'\n",
    "print(string3)"
   ]
  },
  {
   "cell_type": "markdown",
   "id": "b81418bd",
   "metadata": {},
   "source": [
    "$type$\n",
    "\n",
    "    type() is a built-in function that is used to return the type of data stored in the objects or variables in the program."
   ]
  },
  {
   "cell_type": "code",
   "execution_count": 11,
   "id": "1931c0d1",
   "metadata": {},
   "outputs": [
    {
     "data": {
      "text/plain": [
       "'python'"
      ]
     },
     "execution_count": 11,
     "metadata": {},
     "output_type": "execute_result"
    }
   ],
   "source": [
    "string1"
   ]
  },
  {
   "cell_type": "code",
   "execution_count": 12,
   "id": "9800f8f9",
   "metadata": {},
   "outputs": [
    {
     "data": {
      "text/plain": [
       "str"
      ]
     },
     "execution_count": 12,
     "metadata": {},
     "output_type": "execute_result"
    }
   ],
   "source": [
    "type(string1)"
   ]
  },
  {
   "cell_type": "markdown",
   "id": "a883c961",
   "metadata": {},
   "source": [
    "$len$\n",
    "\n",
    "    - len() returns the number of items in an object."
   ]
  },
  {
   "cell_type": "code",
   "execution_count": 13,
   "id": "c4906f22",
   "metadata": {},
   "outputs": [
    {
     "data": {
      "text/plain": [
       "6"
      ]
     },
     "execution_count": 13,
     "metadata": {},
     "output_type": "execute_result"
    }
   ],
   "source": [
    "len(string1)          # python #"
   ]
  },
  {
   "cell_type": "markdown",
   "id": "7d1c2c72",
   "metadata": {},
   "source": [
    "$max$\n",
    "\n",
    "      Max() is built-in tool that returns the largest item in an iterable or the largest of two or more arguements. "
   ]
  },
  {
   "cell_type": "code",
   "execution_count": 14,
   "id": "782c29f7",
   "metadata": {},
   "outputs": [
    {
     "data": {
      "text/plain": [
       "'p'"
      ]
     },
     "execution_count": 14,
     "metadata": {},
     "output_type": "execute_result"
    }
   ],
   "source": [
    "string1='pP'\n",
    "max(string1)     # python\n",
    "\n",
    "# ASCII\n",
    "#'A':     "
   ]
  },
  {
   "cell_type": "markdown",
   "id": "6a68ecbe",
   "metadata": {},
   "source": [
    "$min$\n",
    "  \n",
    "     Min() returns the item with the lowest value,or the item with the lowest value in an iterable. "
   ]
  },
  {
   "cell_type": "code",
   "execution_count": 15,
   "id": "abb53eae",
   "metadata": {},
   "outputs": [
    {
     "data": {
      "text/plain": [
       "'P'"
      ]
     },
     "execution_count": 15,
     "metadata": {},
     "output_type": "execute_result"
    }
   ],
   "source": [
    "string1='pP'\n",
    "min(string1)"
   ]
  },
  {
   "cell_type": "markdown",
   "id": "812c5c28",
   "metadata": {},
   "source": [
    "$Ord-Chr$\n",
    "\n",
    "     The chr() function takes an integer and converts it to a character, so it returns a character string\n",
    "     The ord() function takes a single Unicode character and returns an integer value. "
   ]
  },
  {
   "cell_type": "code",
   "execution_count": 1,
   "id": "96f5b8b6",
   "metadata": {},
   "outputs": [
    {
     "data": {
      "text/plain": [
       "112"
      ]
     },
     "execution_count": 1,
     "metadata": {},
     "output_type": "execute_result"
    }
   ],
   "source": [
    "ord('p')  # it will provide ascii value of charord"
   ]
  },
  {
   "cell_type": "code",
   "execution_count": 2,
   "id": "d0d10410",
   "metadata": {},
   "outputs": [
    {
     "data": {
      "text/plain": [
       "(112, 121, 116, 104, 111, 110)"
      ]
     },
     "execution_count": 2,
     "metadata": {},
     "output_type": "execute_result"
    }
   ],
   "source": [
    "ord('p'),ord('y'),ord('t'),ord('h'),ord('o'),ord('n')"
   ]
  },
  {
   "cell_type": "code",
   "execution_count": 3,
   "id": "4b91bd8e",
   "metadata": {},
   "outputs": [
    {
     "data": {
      "text/plain": [
       "('p', 'y', 't', 'h', 'o', 'n')"
      ]
     },
     "execution_count": 3,
     "metadata": {},
     "output_type": "execute_result"
    }
   ],
   "source": [
    "chr(112),chr(121),chr(116),chr(104),chr(111),chr(110)"
   ]
  },
  {
   "cell_type": "markdown",
   "id": "9a5be672",
   "metadata": {},
   "source": [
    " Addition of Two strings (concatenation) \n",
    "\n",
    "                You can concatenate two different strings together and also the same string to itself multiple times using + operator respectively."
   ]
  },
  {
   "cell_type": "code",
   "execution_count": 16,
   "id": "2f33e7ea",
   "metadata": {},
   "outputs": [
    {
     "data": {
      "text/plain": [
       "'haihow'"
      ]
     },
     "execution_count": 16,
     "metadata": {},
     "output_type": "execute_result"
    }
   ],
   "source": [
    "str1='hai'\n",
    "str2='how'\n",
    "str1+str2"
   ]
  },
  {
   "cell_type": "code",
   "execution_count": 10,
   "id": "295653dc",
   "metadata": {},
   "outputs": [
    {
     "data": {
      "text/plain": [
       "'haihaihai'"
      ]
     },
     "execution_count": 10,
     "metadata": {},
     "output_type": "execute_result"
    }
   ],
   "source": [
    "string1+string1+string1"
   ]
  },
  {
   "cell_type": "markdown",
   "id": "60dd80a6",
   "metadata": {},
   "source": [
    "$Multiplication$\n",
    "           \n",
    "           You can use the * operator to multiply not only numbers but also lists and strings. "
   ]
  },
  {
   "cell_type": "code",
   "execution_count": 17,
   "id": "5b654152",
   "metadata": {},
   "outputs": [
    {
     "data": {
      "text/plain": [
       "'howhowhow'"
      ]
     },
     "execution_count": 17,
     "metadata": {},
     "output_type": "execute_result"
    }
   ],
   "source": [
    "3*str2"
   ]
  },
  {
   "cell_type": "markdown",
   "id": "cb0a872f",
   "metadata": {},
   "source": [
    "$Subtraction$\n",
    "\n",
    "          You can use the operator for subtraction is\"-\" .It subtracts the second value from the first one."
   ]
  },
  {
   "cell_type": "code",
   "execution_count": 7,
   "id": "a83758d6",
   "metadata": {},
   "outputs": [
    {
     "ename": "TypeError",
     "evalue": "unsupported operand type(s) for -: 'str' and 'str'",
     "output_type": "error",
     "traceback": [
      "\u001b[1;31m---------------------------------------------------------------------------\u001b[0m",
      "\u001b[1;31mTypeError\u001b[0m                                 Traceback (most recent call last)",
      "Cell \u001b[1;32mIn[7], line 1\u001b[0m\n\u001b[1;32m----> 1\u001b[0m string1\u001b[38;5;241m-\u001b[39mstring2\n",
      "\u001b[1;31mTypeError\u001b[0m: unsupported operand type(s) for -: 'str' and 'str'"
     ]
    }
   ],
   "source": [
    "string1-string2"
   ]
  },
  {
   "cell_type": "markdown",
   "id": "69b21cd0",
   "metadata": {},
   "source": [
    "$Division$\n",
    "        \n",
    "       Divides the number on its left by the number on its right,rounds down the answer,and returns a whole number."
   ]
  },
  {
   "cell_type": "code",
   "execution_count": 8,
   "id": "5d3a4a87",
   "metadata": {},
   "outputs": [
    {
     "ename": "TypeError",
     "evalue": "unsupported operand type(s) for /: 'str' and 'str'",
     "output_type": "error",
     "traceback": [
      "\u001b[1;31m---------------------------------------------------------------------------\u001b[0m",
      "\u001b[1;31mTypeError\u001b[0m                                 Traceback (most recent call last)",
      "Cell \u001b[1;32mIn[8], line 1\u001b[0m\n\u001b[1;32m----> 1\u001b[0m string1\u001b[38;5;241m/\u001b[39mstring2\n",
      "\u001b[1;31mTypeError\u001b[0m: unsupported operand type(s) for /: 'str' and 'str'"
     ]
    }
   ],
   "source": [
    "string1/string2"
   ]
  },
  {
   "cell_type": "markdown",
   "id": "9a87b6c6",
   "metadata": {},
   "source": [
    "$In operator (for loop)$\n",
    "\n",
    "         In Operator determines whether a given value is a constituent element of a sequence such as a string,array,list,or tuple."
   ]
  },
  {
   "cell_type": "code",
   "execution_count": 11,
   "id": "0f15d5f5",
   "metadata": {},
   "outputs": [
    {
     "name": "stdout",
     "output_type": "stream",
     "text": [
      "0\n",
      "1\n",
      "2\n",
      "3\n",
      "4\n",
      "5\n"
     ]
    }
   ],
   "source": [
    "for i in range(len('python')):\n",
    "    print(i)"
   ]
  },
  {
   "cell_type": "code",
   "execution_count": null,
   "id": "bbedf573",
   "metadata": {},
   "outputs": [],
   "source": [
    "# I want print p y t h o n\n",
    "*** in:"
   ]
  },
  {
   "cell_type": "code",
   "execution_count": 12,
   "id": "2d4426e5",
   "metadata": {},
   "outputs": [
    {
     "data": {
      "text/plain": [
       "True"
      ]
     },
     "execution_count": 12,
     "metadata": {},
     "output_type": "execute_result"
    }
   ],
   "source": [
    "string1='python'\n",
    "\n",
    "'p' in string1\n",
    "'y' in string1\n",
    "'t' in string1\n",
    "'h' in string1\n",
    "'o' in string1\n",
    "'n' in string1\n",
    "\n",
    "# i in string1"
   ]
  },
  {
   "cell_type": "code",
   "execution_count": 13,
   "id": "23a4c6f2",
   "metadata": {},
   "outputs": [
    {
     "name": "stdout",
     "output_type": "stream",
     "text": [
      "p\n",
      "y\n",
      "t\n",
      "h\n",
      "o\n",
      "n\n"
     ]
    }
   ],
   "source": [
    "for i in string1:\n",
    "    print(i)\n",
    "    "
   ]
  },
  {
   "cell_type": "code",
   "execution_count": null,
   "id": "e70f695f",
   "metadata": {},
   "outputs": [],
   "source": [
    "- range() : you need to provide number inside the range\n",
    "- in      : is used only for strings   \n",
    "if you want print the letters using for loop go for in operator"
   ]
  },
  {
   "cell_type": "markdown",
   "id": "3e8e98ad",
   "metadata": {},
   "source": [
    "$Index$\n",
    "\n",
    "      Index refers to the process of accessing a specific element in a sequence,such as a string or list,using its position or index number"
   ]
  },
  {
   "cell_type": "code",
   "execution_count": null,
   "id": "37e441e6",
   "metadata": {},
   "outputs": [],
   "source": [
    "string1='python'   # 6 letters\n"
   ]
  },
  {
   "cell_type": "code",
   "execution_count": null,
   "id": "f17550e5",
   "metadata": {},
   "outputs": [],
   "source": [
    "p  y  t  h  o  n\n",
    "0  1  2  3  4  5"
   ]
  },
  {
   "cell_type": "code",
   "execution_count": 14,
   "id": "f989bf41",
   "metadata": {},
   "outputs": [
    {
     "data": {
      "text/plain": [
       "('p', 'y', 't', 'h', 'o', 'n')"
      ]
     },
     "execution_count": 14,
     "metadata": {},
     "output_type": "execute_result"
    }
   ],
   "source": [
    "string1[0],string1[1],string1[2],string1[3],string1[4],string1[5]"
   ]
  },
  {
   "cell_type": "code",
   "execution_count": 15,
   "id": "aaaa2060",
   "metadata": {},
   "outputs": [
    {
     "name": "stdout",
     "output_type": "stream",
     "text": [
      "the index no of 'p' is 0\n",
      "the index no of 'y' is 1\n",
      "the index no of 't' is 2\n",
      "the index no of 'h' is 3\n",
      "the index no of 'o' is 4\n",
      "the index no of 'n' is 5\n",
      "the index no of ' ' is 6\n",
      "the index no of 'c' is 7\n",
      "the index no of 'l' is 8\n",
      "the index no of 'a' is 9\n",
      "the index no of 's' is 10\n",
      "the index no of 's' is 11\n"
     ]
    }
   ],
   "source": [
    "name='python class'\n",
    "\n",
    "for i in range(len(name)):\n",
    "    print(\"the index no of '{}' is {}\".format(name[i],i))\n",
    "    \n",
    "   # i='p' name[' p ']='p'\n",
    "# if you want to print any number"
   ]
  },
  {
   "cell_type": "code",
   "execution_count": 16,
   "id": "6186e26f",
   "metadata": {},
   "outputs": [
    {
     "data": {
      "text/plain": [
       "'the index of y is 1'"
      ]
     },
     "execution_count": 16,
     "metadata": {},
     "output_type": "execute_result"
    }
   ],
   "source": [
    "'the index of p is 0'\n",
    "'the index of y is 1'\n"
   ]
  },
  {
   "cell_type": "code",
   "execution_count": 17,
   "id": "24ea8467",
   "metadata": {},
   "outputs": [
    {
     "name": "stdout",
     "output_type": "stream",
     "text": [
      "the index of p is 0\n",
      "the index of y is 1\n",
      "the index of t is 2\n",
      "the index of h is 3\n",
      "the index of o is 4\n",
      "the index of n is 5\n"
     ]
    }
   ],
   "source": [
    "for i in range(len(string1)):   # i means numbers 0\n",
    "    print('the index of {} is {}'.format (string1[i],i))"
   ]
  },
  {
   "cell_type": "code",
   "execution_count": null,
   "id": "5422c6b8",
   "metadata": {},
   "outputs": [],
   "source": [
    "## Positive Index \n",
    "## Negative Index"
   ]
  },
  {
   "cell_type": "code",
   "execution_count": 18,
   "id": "ec91857c",
   "metadata": {},
   "outputs": [
    {
     "name": "stdout",
     "output_type": "stream",
     "text": [
      "the positive index of p is -6\n",
      "the positive index of y is -5\n",
      "the positive index of t is -4\n",
      "the positive index of h is -3\n",
      "the positive index of o is -2\n",
      "the positive index of n is -1\n"
     ]
    }
   ],
   "source": [
    "string1='python'\n",
    "for i in range(-6,0):\n",
    "    print(\"the positive index of {} is {}\".format(string1[i],i))"
   ]
  },
  {
   "cell_type": "code",
   "execution_count": 19,
   "id": "19f6729d",
   "metadata": {},
   "outputs": [
    {
     "name": "stdout",
     "output_type": "stream",
     "text": [
      "the negative index of p is -12\n",
      "the negative index of y is -11\n",
      "the negative index of t is -10\n",
      "the negative index of h is -9\n",
      "the negative index of o is -8\n",
      "the negative index of n is -7\n"
     ]
    }
   ],
   "source": [
    "string1='python'\n",
    "for i in range(-6,0):\n",
    "    print(\"the negative index of {} is {}\".format(string1[i],i-6))"
   ]
  },
  {
   "cell_type": "markdown",
   "id": "4e07e324",
   "metadata": {},
   "source": [
    " MUTABLE CONDITION\n",
    "\n",
    "    - Mutable and immutable concept\n",
    "    - Mutable  ====  We can change\n",
    "    - Immutable==== we can not change\n",
    "    - Strings are immutable "
   ]
  },
  {
   "cell_type": "code",
   "execution_count": 20,
   "id": "03cf8648",
   "metadata": {},
   "outputs": [
    {
     "ename": "TypeError",
     "evalue": "'str' object does not support item assignment",
     "output_type": "error",
     "traceback": [
      "\u001b[1;31m---------------------------------------------------------------------------\u001b[0m",
      "\u001b[1;31mTypeError\u001b[0m                                 Traceback (most recent call last)",
      "Cell \u001b[1;32mIn[20], line 4\u001b[0m\n\u001b[0;32m      1\u001b[0m string1\u001b[38;5;241m=\u001b[39m\u001b[38;5;124m'\u001b[39m\u001b[38;5;124mpython\u001b[39m\u001b[38;5;124m'\u001b[39m\n\u001b[0;32m      2\u001b[0m \u001b[38;5;66;03m# i want change 'p' ====== 'p'\u001b[39;00m\n\u001b[0;32m      3\u001b[0m \u001b[38;5;66;03m# o/p:     'python'\u001b[39;00m\n\u001b[1;32m----> 4\u001b[0m string1[\u001b[38;5;241m0\u001b[39m]\u001b[38;5;241m=\u001b[39m\u001b[38;5;124m'\u001b[39m\u001b[38;5;124mp\u001b[39m\u001b[38;5;124m'\u001b[39m\n",
      "\u001b[1;31mTypeError\u001b[0m: 'str' object does not support item assignment"
     ]
    }
   ],
   "source": [
    "string1='python'\n",
    "# i want change 'p' ====== 'p'\n",
    "# o/p:     'python'\n",
    "string1[0]='p'\n"
   ]
  },
  {
   "cell_type": "code",
   "execution_count": 21,
   "id": "d69d2d15",
   "metadata": {},
   "outputs": [
    {
     "data": {
      "text/plain": [
       "[1000, 200, 300]"
      ]
     },
     "execution_count": 21,
     "metadata": {},
     "output_type": "execute_result"
    }
   ],
   "source": [
    "list1=[100,200,300]  # 100 ======1000\n",
    "list1[0]=1000\n",
    "list1"
   ]
  },
  {
   "cell_type": "markdown",
   "id": "e43307c3",
   "metadata": {},
   "source": [
    "$Slice$\n",
    "\n",
    " The format for list slicing is [start:stop:step].\n",
    "\n",
    "        start is the index of the list where slicing starts.\n",
    "        stop is the index of the list where slicing ends.\n",
    "        step allows you to select nth item within the range start to stop."
   ]
  },
  {
   "cell_type": "code",
   "execution_count": null,
   "id": "7e3a8164",
   "metadata": {},
   "outputs": [],
   "source": [
    "String Methods\n",
    "- capitalize/upper/lower/casefold\n",
    "- index/find\n",
    "- count\n",
    "- replace\n",
    "- lstrip/rstrip/strip\n",
    "- startswith/endswith\n",
    "- isalpha/isnumeric/isalnum\n",
    "- split"
   ]
  },
  {
   "cell_type": "markdown",
   "id": "d5c69e0c",
   "metadata": {},
   "source": [
    "$ Capitalize $\n",
    "\n",
    "         Capitalize() method is a bulit-in string function in python that is used to modify the case of the characters in a string."
   ]
  },
  {
   "cell_type": "code",
   "execution_count": 39,
   "id": "4c39fa4c",
   "metadata": {},
   "outputs": [
    {
     "name": "stdout",
     "output_type": "stream",
     "text": [
      "Help on built-in function capitalize:\n",
      "\n",
      "capitalize() method of builtins.str instance\n",
      "    Return a capitalized version of the string.\n",
      "    \n",
      "    More specifically, make the first character have upper case and the rest lower\n",
      "    case.\n",
      "\n"
     ]
    }
   ],
   "source": [
    "string1='welcome'\n",
    "help(string1.capitalize)"
   ]
  },
  {
   "cell_type": "code",
   "execution_count": 40,
   "id": "e59c1458",
   "metadata": {},
   "outputs": [
    {
     "data": {
      "text/plain": [
       "'Welcome'"
      ]
     },
     "execution_count": 40,
     "metadata": {},
     "output_type": "execute_result"
    }
   ],
   "source": [
    "string1='welcome'\n",
    "string1.capitalize()"
   ]
  },
  {
   "cell_type": "markdown",
   "id": "0fdb6074",
   "metadata": {},
   "source": [
    "$Upper$\n",
    "\n",
    "            upper() method returns uppercase string from the given string.It converts all lowercase characters to uppercase characters."
   ]
  },
  {
   "cell_type": "code",
   "execution_count": 41,
   "id": "1a4f9377",
   "metadata": {},
   "outputs": [
    {
     "data": {
      "text/plain": [
       "'WELCOME'"
      ]
     },
     "execution_count": 41,
     "metadata": {},
     "output_type": "execute_result"
    }
   ],
   "source": [
    "string1.upper()\n"
   ]
  },
  {
   "cell_type": "markdown",
   "id": "d2435cd6",
   "metadata": {},
   "source": [
    "$Lower$\n",
    "\n",
    "          Lower() method returns string class method that converts all the uppercase characters in the string into lowercase characters and returns a new string."
   ]
  },
  {
   "cell_type": "code",
   "execution_count": 42,
   "id": "b357ac59",
   "metadata": {},
   "outputs": [
    {
     "data": {
      "text/plain": [
       "'welcome'"
      ]
     },
     "execution_count": 42,
     "metadata": {},
     "output_type": "execute_result"
    }
   ],
   "source": [
    "string1.lower()"
   ]
  },
  {
   "cell_type": "code",
   "execution_count": 43,
   "id": "b5f1bd0b",
   "metadata": {},
   "outputs": [
    {
     "name": "stdout",
     "output_type": "stream",
     "text": [
      "Welcome\n",
      "WELCOME\n",
      "welcome\n"
     ]
    }
   ],
   "source": [
    "string1='welcome'\n",
    "print(string1.capitalize())\n",
    "print(string1.upper())\n",
    "print(string1.lower())"
   ]
  },
  {
   "cell_type": "markdown",
   "id": "530e2479",
   "metadata": {},
   "source": [
    "$Index$\n",
    "\n",
    "    The process of accessing a specific element in a sequence, such as a string or list, using its position or index number."
   ]
  },
  {
   "cell_type": "code",
   "execution_count": 44,
   "id": "1394cc49",
   "metadata": {},
   "outputs": [
    {
     "data": {
      "text/plain": [
       "3"
      ]
     },
     "execution_count": 44,
     "metadata": {},
     "output_type": "execute_result"
    }
   ],
   "source": [
    "string1='welcome python'\n",
    "string1.index('c')\n",
    "\n",
    "# index of 'c'"
   ]
  },
  {
   "cell_type": "code",
   "execution_count": 45,
   "id": "d6f0f715",
   "metadata": {},
   "outputs": [
    {
     "name": "stdout",
     "output_type": "stream",
     "text": [
      "0\n"
     ]
    },
    {
     "data": {
      "text/plain": [
       "0"
      ]
     },
     "execution_count": 45,
     "metadata": {},
     "output_type": "execute_result"
    }
   ],
   "source": [
    "sring1='hai how are you and'\n",
    "# how many 'a' are there\n",
    "# what are the indexes of 'a'\n",
    "\n",
    "count=0\n",
    "for i in string1:\n",
    "    if i=='a':\n",
    "        count+=1\n",
    "        \n",
    "print(count) \n",
    "\n",
    "string1.count('a')"
   ]
  },
  {
   "cell_type": "code",
   "execution_count": 46,
   "id": "68a906a1",
   "metadata": {},
   "outputs": [
    {
     "name": "stdout",
     "output_type": "stream",
     "text": [
      "1\n",
      "8\n"
     ]
    }
   ],
   "source": [
    "for i in range(len(string1)):\n",
    "    if string[i]=='a':\n",
    "        print(i)"
   ]
  },
  {
   "cell_type": "code",
   "execution_count": 47,
   "id": "1229b725",
   "metadata": {},
   "outputs": [
    {
     "ename": "ValueError",
     "evalue": "substring not found",
     "output_type": "error",
     "traceback": [
      "\u001b[1;31m---------------------------------------------------------------------------\u001b[0m",
      "\u001b[1;31mValueError\u001b[0m                                Traceback (most recent call last)",
      "Cell \u001b[1;32mIn[47], line 6\u001b[0m\n\u001b[0;32m      4\u001b[0m i3\u001b[38;5;241m=\u001b[39m(string1\u001b[38;5;241m.\u001b[39mindex(\u001b[38;5;124m'\u001b[39m\u001b[38;5;124ma\u001b[39m\u001b[38;5;124m'\u001b[39m,i2\u001b[38;5;241m+\u001b[39m\u001b[38;5;241m1\u001b[39m))\n\u001b[0;32m      5\u001b[0m i4\u001b[38;5;241m=\u001b[39m(string1\u001b[38;5;241m.\u001b[39mindex(\u001b[38;5;124m'\u001b[39m\u001b[38;5;124ma\u001b[39m\u001b[38;5;124m'\u001b[39m,i3\u001b[38;5;241m+\u001b[39m\u001b[38;5;241m1\u001b[39m))\n\u001b[1;32m----> 6\u001b[0m i5\u001b[38;5;241m=\u001b[39m(string1\u001b[38;5;241m.\u001b[39mindex(\u001b[38;5;124m'\u001b[39m\u001b[38;5;124ma\u001b[39m\u001b[38;5;124m'\u001b[39m,i4\u001b[38;5;241m+\u001b[39m\u001b[38;5;241m1\u001b[39m))\n\u001b[0;32m      7\u001b[0m \u001b[38;5;28mprint\u001b[39m(i1,i2,i3,i4,i5)\n",
      "\u001b[1;31mValueError\u001b[0m: substring not found"
     ]
    }
   ],
   "source": [
    "string1='hai hai hai hai'\n",
    "i1=(string1.index('a'))\n",
    "i2=(string1.index('a',i1+1))  \n",
    "i3=(string1.index('a',i2+1))\n",
    "i4=(string1.index('a',i3+1))\n",
    "i5=(string1.index('a',i4+1))\n",
    "print(i1,i2,i3,i4,i5)\n"
   ]
  },
  {
   "cell_type": "code",
   "execution_count": 48,
   "id": "2b39778a",
   "metadata": {},
   "outputs": [
    {
     "data": {
      "text/plain": [
       "9"
      ]
     },
     "execution_count": 48,
     "metadata": {},
     "output_type": "execute_result"
    }
   ],
   "source": [
    "string1='hai hai hai hai hai'\n",
    "# i want to first occurance of 'a'\n",
    "string1.index('a')\n",
    "# second occurance of 'a'\n",
    "string1.index('a',i1+1)\n",
    "string1.index('a',i2+1)"
   ]
  },
  {
   "cell_type": "code",
   "execution_count": null,
   "id": "65644c65",
   "metadata": {},
   "outputs": [],
   "source": [
    "string1.index('a',string1.index('a',string1.index))"
   ]
  },
  {
   "cell_type": "markdown",
   "id": "584ee655",
   "metadata": {},
   "source": [
    "$Find$\n",
    "\n",
    "     Use to find the index of the first occurrence of a substring from the given string."
   ]
  },
  {
   "cell_type": "code",
   "execution_count": 50,
   "id": "f50fae8c",
   "metadata": {},
   "outputs": [
    {
     "ename": "ValueError",
     "evalue": "substring not found",
     "output_type": "error",
     "traceback": [
      "\u001b[1;31m---------------------------------------------------------------------------\u001b[0m",
      "\u001b[1;31mValueError\u001b[0m                                Traceback (most recent call last)",
      "Cell \u001b[1;32mIn[50], line 12\u001b[0m\n\u001b[0;32m      8\u001b[0m string1\u001b[38;5;241m.\u001b[39mfind(\u001b[38;5;124m'\u001b[39m\u001b[38;5;124mz\u001b[39m\u001b[38;5;124m'\u001b[39m)      \u001b[38;5;66;03m# no error\u001b[39;00m\n\u001b[0;32m     10\u001b[0m \u001b[38;5;66;03m# if substring not found it returns -1\u001b[39;00m\n\u001b[1;32m---> 12\u001b[0m string1\u001b[38;5;241m.\u001b[39mindex(\u001b[38;5;124m'\u001b[39m\u001b[38;5;124mz\u001b[39m\u001b[38;5;124m'\u001b[39m)\n\u001b[0;32m     13\u001b[0m \u001b[38;5;66;03m# value error: sustring not found\u001b[39;00m\n\u001b[0;32m     15\u001b[0m string1\u001b[38;5;241m.\u001b[39mcount(\u001b[38;5;124m'\u001b[39m\u001b[38;5;124mz\u001b[39m\u001b[38;5;124m'\u001b[39m)\n",
      "\u001b[1;31mValueError\u001b[0m: substring not found"
     ]
    }
   ],
   "source": [
    "# take one string1\n",
    "# string1.find()\n",
    "# apply shift+tab\n",
    "# road what is is says\n",
    "# implement that\n",
    "\n",
    "string1='hai hai'\n",
    "string1.find('z')      # no error\n",
    "\n",
    "# if substring not found it returns -1\n",
    "\n",
    "string1.index('z')\n",
    "# value error: sustring not found\n",
    "\n",
    "string1.count('z')    # no error\n",
    "# returns"
   ]
  },
  {
   "cell_type": "markdown",
   "id": "0957c5de",
   "metadata": {},
   "source": [
    "$Count$\n",
    "\n",
    "      The count() method returns the number of times a specified value appears in the string."
   ]
  },
  {
   "cell_type": "code",
   "execution_count": 51,
   "id": "1fbc6cf2",
   "metadata": {},
   "outputs": [],
   "source": [
    "string1='hai how are you'\n",
    "# how many 'a's are there"
   ]
  },
  {
   "cell_type": "code",
   "execution_count": 52,
   "id": "dd4d7cb2",
   "metadata": {},
   "outputs": [
    {
     "data": {
      "text/plain": [
       "2"
      ]
     },
     "execution_count": 52,
     "metadata": {},
     "output_type": "execute_result"
    }
   ],
   "source": [
    "string1.count('a')"
   ]
  },
  {
   "cell_type": "code",
   "execution_count": 53,
   "id": "9509127d",
   "metadata": {},
   "outputs": [],
   "source": [
    "count=0\n",
    "for i in string1:\n",
    "    if i=='a':\n",
    "        count+=1"
   ]
  },
  {
   "cell_type": "code",
   "execution_count": null,
   "id": "f5b00027",
   "metadata": {},
   "outputs": [],
   "source": [
    "string1='ola ola ola'\n"
   ]
  },
  {
   "cell_type": "code",
   "execution_count": 54,
   "id": "5b91ab70",
   "metadata": {},
   "outputs": [
    {
     "name": "stdout",
     "output_type": "stream",
     "text": [
      "2\n",
      "2\n",
      "0\n",
      "1\n",
      "0\n",
      "2\n",
      "0\n"
     ]
    }
   ],
   "source": [
    "string1='ola ola ola'\n",
    "# ola ola ola\n",
    "#012 3 456 7 8910\n",
    "# we are counting the number of 'a' from index 4\n",
    "print(string1.count('a',4))\n",
    "print(string1.count('a',6))\n",
    "print(string1.count('a',4,6))         # 4 and 5\n",
    "print(string1.count('a',4,7))         # 4 5 6\n",
    "print(string1.count('A',4))           # 0\n",
    "print(string1.count('A'.lower(),4))   # 2\n",
    "print(string1.count('a'.upper(),4,7))\n"
   ]
  },
  {
   "cell_type": "code",
   "execution_count": 55,
   "id": "596e6ba5",
   "metadata": {},
   "outputs": [
    {
     "data": {
      "text/plain": [
       "3"
      ]
     },
     "execution_count": 55,
     "metadata": {},
     "output_type": "execute_result"
    }
   ],
   "source": [
    "'ola ola ola'.count('a')"
   ]
  },
  {
   "cell_type": "code",
   "execution_count": 56,
   "id": "41b06de1",
   "metadata": {},
   "outputs": [
    {
     "name": "stdout",
     "output_type": "stream",
     "text": [
      "3\n"
     ]
    }
   ],
   "source": [
    "string1='ola ola ola'\n",
    "count=0\n",
    "for i in string1:\n",
    "    if i=='a':\n",
    "        count+=1\n",
    "print(count)        "
   ]
  },
  {
   "cell_type": "markdown",
   "id": "a678efdf",
   "metadata": {},
   "source": [
    "$Replace$\n",
    "      \n",
    "      The replace() method replaces a specified phrase with another specified phrase.\n",
    "       "
   ]
  },
  {
   "cell_type": "code",
   "execution_count": 57,
   "id": "447c3a38",
   "metadata": {},
   "outputs": [
    {
     "data": {
      "text/plain": [
       "'welcome'"
      ]
     },
     "execution_count": 57,
     "metadata": {},
     "output_type": "execute_result"
    }
   ],
   "source": [
    "string1='welcome'\n",
    "# replace 'l' with 'L'\n",
    "string1.replace('1','L')"
   ]
  },
  {
   "cell_type": "code",
   "execution_count": 58,
   "id": "f9c9d7d2",
   "metadata": {},
   "outputs": [
    {
     "data": {
      "text/plain": [
       "'welcome'"
      ]
     },
     "execution_count": 58,
     "metadata": {},
     "output_type": "execute_result"
    }
   ],
   "source": [
    "string1='welcome'\n",
    "# replace 'l' with 'L'\n",
    "string1.replace('1','@')"
   ]
  },
  {
   "cell_type": "code",
   "execution_count": 59,
   "id": "fa1417b3",
   "metadata": {},
   "outputs": [
    {
     "data": {
      "text/plain": [
       "'$estart rrr'"
      ]
     },
     "execution_count": 59,
     "metadata": {},
     "output_type": "execute_result"
    }
   ],
   "source": [
    "string1='restart rrr'\n",
    "# replace 'r' with '$'\n",
    "string1.replace('r','$',1)"
   ]
  },
  {
   "cell_type": "markdown",
   "id": "f9b111c0",
   "metadata": {},
   "source": [
    "$Lstrip/ Rstrip/ Strip$\n",
    "\n",
    "          The lstrip(s) (left strip) function removes leading whitespace (on the left) in the string. \n",
    "          The rstrip(s) (right strip) function removes the trailing whitespace (on the right)."
   ]
  },
  {
   "cell_type": "code",
   "execution_count": 5,
   "id": "aacd3489",
   "metadata": {},
   "outputs": [],
   "source": [
    "str1=' hello how are you '\n",
    "str2=\" hello how are you\"\n",
    "str3=\"hello how are you \"\n",
    "\n",
    "# i want remove the spaces\n",
    "# if you want to remove the spaces both side use strip method\n",
    "# if you want to remove the spaces only left side then use lstrip:left strip\n",
    "# if you want to remove the spaces only right side then use rstrip:right strip"
   ]
  },
  {
   "cell_type": "code",
   "execution_count": 6,
   "id": "1f214876",
   "metadata": {},
   "outputs": [
    {
     "name": "stdout",
     "output_type": "stream",
     "text": [
      "hello how are you\n",
      "hello how are you \n",
      " hello how are you\n"
     ]
    }
   ],
   "source": [
    "print(str1.strip())\n",
    "print(str1.lstrip())\n",
    "print(str1.rstrip())"
   ]
  },
  {
   "cell_type": "code",
   "execution_count": 7,
   "id": "46552f0e",
   "metadata": {},
   "outputs": [
    {
     "name": "stdout",
     "output_type": "stream",
     "text": [
      "hello how are you\n",
      "hello how are you\n",
      "hello how are you\n"
     ]
    }
   ],
   "source": [
    "print(str1.strip())\n",
    "print(str2.lstrip())\n",
    "print(str3.rstrip())"
   ]
  },
  {
   "cell_type": "code",
   "execution_count": 8,
   "id": "751ca992",
   "metadata": {},
   "outputs": [
    {
     "data": {
      "text/plain": [
       "'hello how are you '"
      ]
     },
     "execution_count": 8,
     "metadata": {},
     "output_type": "execute_result"
    }
   ],
   "source": [
    "str3"
   ]
  },
  {
   "cell_type": "code",
   "execution_count": 25,
   "id": "9f5a8b63",
   "metadata": {},
   "outputs": [
    {
     "data": {
      "text/plain": [
       "'hello'"
      ]
     },
     "execution_count": 25,
     "metadata": {},
     "output_type": "execute_result"
    }
   ],
   "source": [
    "str1='%%%%hello%%%%'\n",
    "str1.strip('%')"
   ]
  },
  {
   "cell_type": "markdown",
   "id": "13d73bbc",
   "metadata": {},
   "source": [
    "$Startswith-Endswith$\n",
    "\n",
    "          The Python startswith() function checks if a string starts with a specified substring.\n",
    "          The Python endswith() checks if a string ends with a substring."
   ]
  },
  {
   "cell_type": "code",
   "execution_count": 9,
   "id": "b0649611",
   "metadata": {},
   "outputs": [],
   "source": [
    "str1='hai how are you'"
   ]
  },
  {
   "cell_type": "code",
   "execution_count": 10,
   "id": "ee22a875",
   "metadata": {},
   "outputs": [
    {
     "data": {
      "text/plain": [
       "True"
      ]
     },
     "execution_count": 10,
     "metadata": {},
     "output_type": "execute_result"
    }
   ],
   "source": [
    "str1.startswith('hai')\n",
    "str1.startswith('h')"
   ]
  },
  {
   "cell_type": "code",
   "execution_count": 11,
   "id": "a94a4fa7",
   "metadata": {},
   "outputs": [
    {
     "data": {
      "text/plain": [
       "True"
      ]
     },
     "execution_count": 11,
     "metadata": {},
     "output_type": "execute_result"
    }
   ],
   "source": [
    "str1.startswith('hai')"
   ]
  },
  {
   "cell_type": "code",
   "execution_count": 12,
   "id": "a8b113d6",
   "metadata": {},
   "outputs": [
    {
     "data": {
      "text/plain": [
       "False"
      ]
     },
     "execution_count": 12,
     "metadata": {},
     "output_type": "execute_result"
    }
   ],
   "source": [
    "str1.endswith('hai')"
   ]
  },
  {
   "cell_type": "markdown",
   "id": "ca1a3cb7",
   "metadata": {},
   "source": [
    " $isalpha / isnumeric / isalnum $\n",
    " \n",
    "    The isalpha() method returns True if all the characters are alphabet letters (a-z)\n",
    "    The isnumeric() method returns True if all the characters are numeric (0-9), otherwise False\n",
    "    The isalnum() method returns True if all the characters are alphanumeric, meaning alphabet letter(a-z)and numbers(0-9)"
   ]
  },
  {
   "cell_type": "code",
   "execution_count": null,
   "id": "74bfbe45",
   "metadata": {},
   "outputs": [],
   "source": [
    "# take one string1\n",
    "# string1.isalnum()\n",
    "# isalpha\n",
    "# isnumeric\n",
    "# isupper\n",
    "# islower"
   ]
  },
  {
   "cell_type": "code",
   "execution_count": 21,
   "id": "59e3b37d",
   "metadata": {},
   "outputs": [
    {
     "ename": "IndentationError",
     "evalue": "unexpected indent (1005674369.py, line 6)",
     "output_type": "error",
     "traceback": [
      "\u001b[1;36m  Cell \u001b[1;32mIn[21], line 6\u001b[1;36m\u001b[0m\n\u001b[1;33m    .isalpha\u001b[0m\n\u001b[1;37m    ^\u001b[0m\n\u001b[1;31mIndentationError\u001b[0m\u001b[1;31m:\u001b[0m unexpected indent\n"
     ]
    }
   ],
   "source": [
    "string1='abc'\n",
    "string2='123'\n",
    "string3='abc123'\n",
    "string4='ABC'\n",
    "string1.isnumeric()\n",
    "       .isalpha\n",
    "       .isnumeric\n",
    "       .isupper\n",
    "       .islower"
   ]
  },
  {
   "cell_type": "code",
   "execution_count": 15,
   "id": "5fafa61f",
   "metadata": {},
   "outputs": [
    {
     "data": {
      "text/plain": [
       "False"
      ]
     },
     "execution_count": 15,
     "metadata": {},
     "output_type": "execute_result"
    }
   ],
   "source": [
    "str1='90hai hello 8 888how are you'\n",
    "str1.isalnum()"
   ]
  },
  {
   "cell_type": "code",
   "execution_count": 20,
   "id": "92c87501",
   "metadata": {},
   "outputs": [
    {
     "data": {
      "text/plain": [
       "False"
      ]
     },
     "execution_count": 20,
     "metadata": {},
     "output_type": "execute_result"
    }
   ],
   "source": [
    "str1='90hai hello 8 888how are you'\n",
    "str1.isnumeric()"
   ]
  },
  {
   "cell_type": "markdown",
   "id": "40328b79",
   "metadata": {},
   "source": [
    "$Split$\n",
    "\n",
    "       The split() method splits a string into a list. You can specify the separator, default separator is any whitespace"
   ]
  },
  {
   "cell_type": "code",
   "execution_count": 22,
   "id": "1bf8aad4",
   "metadata": {},
   "outputs": [
    {
     "data": {
      "text/plain": [
       "['hai', 'how', 'are', 'you']"
      ]
     },
     "execution_count": 22,
     "metadata": {},
     "output_type": "execute_result"
    }
   ],
   "source": [
    "str1='hai how are you'\n",
    "str1.split()\n",
    "\n",
    "# if i not provide anything inside brackets space"
   ]
  },
  {
   "cell_type": "code",
   "execution_count": 23,
   "id": "ea173c58",
   "metadata": {},
   "outputs": [
    {
     "data": {
      "text/plain": [
       "['hai how', 'are you']"
      ]
     },
     "execution_count": 23,
     "metadata": {},
     "output_type": "execute_result"
    }
   ],
   "source": [
    "str1='hai how,are you'\n",
    "str1.split(',')"
   ]
  },
  {
   "cell_type": "code",
   "execution_count": 24,
   "id": "a596de7b",
   "metadata": {},
   "outputs": [
    {
     "data": {
      "text/plain": [
       "['h', 'i how,', 're you']"
      ]
     },
     "execution_count": 24,
     "metadata": {},
     "output_type": "execute_result"
    }
   ],
   "source": [
    "str1='hai how,are you'\n",
    "str1.split('a')  #h i how, re you"
   ]
  }
 ],
 "metadata": {
  "kernelspec": {
   "display_name": "Python 3 (ipykernel)",
   "language": "python",
   "name": "python3"
  },
  "language_info": {
   "codemirror_mode": {
    "name": "ipython",
    "version": 3
   },
   "file_extension": ".py",
   "mimetype": "text/x-python",
   "name": "python",
   "nbconvert_exporter": "python",
   "pygments_lexer": "ipython3",
   "version": "3.11.5"
  }
 },
 "nbformat": 4,
 "nbformat_minor": 5
}
