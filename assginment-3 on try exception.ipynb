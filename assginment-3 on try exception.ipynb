{
 "cells": [
  {
   "cell_type": "code",
   "execution_count": 1,
   "id": "7681207f",
   "metadata": {},
   "outputs": [
    {
     "name": "stdout",
     "output_type": "stream",
     "text": [
      "enter a value50\n",
      "the square of 50 is 2500\n"
     ]
    }
   ],
   "source": [
    "try:\n",
    "    number=eval(input(\"enter a value\"))\n",
    "    square=number*number\n",
    "    print(\"the square of {} is {}\".format(number,square))\n",
    "except Exception as e:\n",
    "    print(e)"
   ]
  },
  {
   "cell_type": "code",
   "execution_count": 2,
   "id": "0e8e57af",
   "metadata": {},
   "outputs": [
    {
     "name": "stdout",
     "output_type": "stream",
     "text": [
      "enter a  number:66\n",
      "66----132----198----264----330\n"
     ]
    }
   ],
   "source": [
    "try:\n",
    "    x=eval(input(\"enter a  number:\"))\n",
    "    print(x,2*x,3*x,4*x,5*x,sep='----')\n",
    "except Exception as e:\n",
    "    print(e)"
   ]
  },
  {
   "cell_type": "code",
   "execution_count": 3,
   "id": "80daaaa5",
   "metadata": {},
   "outputs": [
    {
     "name": "stdout",
     "output_type": "stream",
     "text": [
      "enter a weight in kg to coverted into pounds:80\n",
      "80.0 kilo_grams 176.0 pounds\n"
     ]
    }
   ],
   "source": [
    "try:\n",
    "    kilo_grams=float(input(\"enter a weight in kg to coverted into pounds:\"))\n",
    "    pounds=kilo_grams*2.2\n",
    "    print(kilo_grams,\"kilo_grams\",pounds,\"pounds\")\n",
    "except Exception as e:\n",
    "    print(e)"
   ]
  },
  {
   "cell_type": "code",
   "execution_count": 4,
   "id": "a6302d9e",
   "metadata": {},
   "outputs": [
    {
     "name": "stdout",
     "output_type": "stream",
     "text": [
      "enter the first num88\n",
      "enter the second num66\n",
      "enter the third num77\n",
      "total: 231\n",
      "average: 77.0\n"
     ]
    }
   ],
   "source": [
    "try:\n",
    "    num1=eval(input(\"enter the first num\"))\n",
    "    num2=eval(input(\"enter the second num\"))\n",
    "    num3=eval(input(\"enter the third num\"))\n",
    "    total=num1+num2+num3\n",
    "    average=total/3\n",
    "    print(\"total:\",total)\n",
    "    print(\"average:\",average)\n",
    "except Exception as e:\n",
    "    print(e)    "
   ]
  },
  {
   "cell_type": "code",
   "execution_count": 5,
   "id": "65975410",
   "metadata": {},
   "outputs": [
    {
     "name": "stdout",
     "output_type": "stream",
     "text": [
      "enter the price of the meal:250\n",
      "enter the tip percentage you want to leave:20\n",
      "bill of meal: 250.0 total_bill: 1500.0\n"
     ]
    }
   ],
   "source": [
    "try:\n",
    "    meal_price=float(input(\"enter the price of the meal:\"))\n",
    "    tip_percentage=float(input(\"enter the tip percentage you want to leave:\"))\n",
    "    total_bill=meal_price/tip_percentage*100\n",
    "    p=meal_price+total_bill\n",
    "    print(\"bill of meal:\",meal_price,\"total_bill:\",p)\n",
    "except Exception as e:\n",
    "    print(e)  "
   ]
  },
  {
   "cell_type": "code",
   "execution_count": 21,
   "id": "879f62ce",
   "metadata": {},
   "outputs": [
    {
     "name": "stdout",
     "output_type": "stream",
     "text": [
      "enter the basic salary90000\n",
      "gross_salary: 144000.0\n"
     ]
    }
   ],
   "source": [
    "try:\n",
    "    basic_salary=eval(input(\"enter the basic salary\"))\n",
    "    dearness_allowance=0.4*basic_salary\n",
    "    house_rent_allowance=0.2*basic_salary\n",
    "    gross_salary=basic_salary+dearness_allowance+house_rent_allowance\n",
    "    print(\"gross_salary:\",gross_salary)\n",
    "except Exception as e:\n",
    "    print(e)  "
   ]
  },
  {
   "cell_type": "code",
   "execution_count": 20,
   "id": "10472c46",
   "metadata": {},
   "outputs": [
    {
     "name": "stdout",
     "output_type": "stream",
     "text": [
      "enter the distance between two citizen in km8\n",
      "distance in meters of {} is {}: 16000.0\n",
      "distance in feet of {} is {}: 36004.16\n",
      "distance in inches of {} is {}: 22402.4\n",
      "distance in centimeters of {} is {}: 120000.0\n"
     ]
    }
   ],
   "source": [
    "try:\n",
    "    distance_in_km=float(input(\"enter the distance between two citizen in km\"))\n",
    "    meters=distance_in_km*2000\n",
    "    feet=distance_in_km*4500.52\n",
    "    inches=distance_in_km*2800.30\n",
    "    centimeters=distance_in_km*15000\n",
    "    print(\"distance in meters of {} is {}:\",format(meters))\n",
    "    print(\"distance in feet of {} is {}:\",format(feet))\n",
    "    print(\"distance in inches of {} is {}:\",format(inches))\n",
    "    print(\"distance in centimeters of {} is {}:\",format(centimeters))\n",
    "except Exception as e:\n",
    "    print(e)"
   ]
  },
  {
   "cell_type": "code",
   "execution_count": 19,
   "id": "7ff3c756",
   "metadata": {},
   "outputs": [
    {
     "name": "stdout",
     "output_type": "stream",
     "text": [
      "enter the temperature in fahrenheit degrees:45\n",
      "fahrenheit of {} is {} degree celsuis: 7.222222222222222\n"
     ]
    }
   ],
   "source": [
    "try:\n",
    "    fahrenheit=eval(input(\"enter the temperature in fahrenheit degrees:\"))\n",
    "    celsuis=(fahrenheit-32)*5/9\n",
    "    print(\"fahrenheit of {} is {} degree celsuis:\",format(celsuis))\n",
    "except Exception as e:\n",
    "    print(e)"
   ]
  },
  {
   "cell_type": "code",
   "execution_count": 17,
   "id": "d5efe0c8",
   "metadata": {},
   "outputs": [
    {
     "name": "stdout",
     "output_type": "stream",
     "text": [
      "enter the student marks in 1st subject:89\n",
      "enter the student marks in 2nd subject:78\n",
      "enter the student marks in 3rd subject:65\n",
      "enter the student marks in 4th subject:56\n",
      "enter the student marks in 5th subject:55\n",
      "percentage marks of all subjects 3.43 is 3.43:\n",
      "the highest marks in 5th subject 89 is 78:\n"
     ]
    }
   ],
   "source": [
    "try:\n",
    "    m1=eval(input(\"enter the student marks in 1st subject:\"))\n",
    "    m2=eval(input(\"enter the student marks in 2nd subject:\"))\n",
    "    m3=eval(input(\"enter the student marks in 3rd subject:\"))\n",
    "    m4=eval(input(\"enter the student marks in 4th subject:\"))\n",
    "    m5=eval(input(\"enter the student marks in 5th subject:\"))\n",
    "    total_marks=m1+m2+m3+m4+m5\n",
    "    percentage_marks=total_marks/100\n",
    "    print(\"percentage marks of all subjects {} is {}:\".format(percentage_marks,total_marks/100))\n",
    "    if m1>=90:\n",
    "        print(\"the highest marks in 1st subject {} is {}:\".format(m1,m2,m3,m4,m5,percentage_marks))\n",
    "    elif m2>=85:\n",
    "        print(\"the highest marks in 2nd subject {} is {}:\".format(m1,m2,m3,m4,m5,percentage_marks))\n",
    "    elif m3>=80:\n",
    "        print(\"the highest marks in 3rd subject {} is {}:\".format(m1,m2,m3,m4,m5,percentage_marks))\n",
    "    elif m4>=95:\n",
    "        print(\"the highest marks in 4th subject {} is {}:\".format(m1,m2,m3,m4,m5,percentage_marks))\n",
    "    elif m5>=35:\n",
    "        print(\"the highest marks in 5th subject {} is {}:\".format(m1,m2,m3,m4,m5,percentage_marks))\n",
    "    else:\n",
    "        print(\"fail\")\n",
    "except Exception as e:\n",
    "    print(e)\n",
    "except Exception as e:\n",
    "    print(e)"
   ]
  },
  {
   "cell_type": "code",
   "execution_count": 16,
   "id": "7a244067",
   "metadata": {},
   "outputs": [
    {
     "name": "stdout",
     "output_type": "stream",
     "text": [
      "enter the length of rectangle6\n",
      "enter the breadth of rectangle7\n",
      "enter the radius of circle8\n",
      "area_rectangle of {} is {}: 42\n",
      "area_perimeter of {} is {}: 26\n",
      "area_circle of {} is {}: 201.06192982974676\n",
      "area_circumference of {} is {}: 22.283185307179586\n"
     ]
    }
   ],
   "source": [
    "import math\n",
    "try:\n",
    "    length=eval(input(\"enter the length of rectangle\"))\n",
    "    breadth=eval(input(\"enter the breadth of rectangle\"))\n",
    "    radius=eval(input(\"enter the radius of circle\"))\n",
    "    area_rectangle=length*breadth\n",
    "    area_perimeter=2*(length+breadth)\n",
    "    area_circle=math.pi*radius**2\n",
    "    area_circumference=2*(math.pi+radius)\n",
    "    print(\"area_rectangle of {} is {}:\",format(area_rectangle))\n",
    "    print(\"area_perimeter of {} is {}:\",format(area_perimeter))\n",
    "    print(\"area_circle of {} is {}:\",format(area_circle))\n",
    "    print(\"area_circumference of {} is {}:\",format(area_circumference))\n",
    "except Exception as e:\n",
    "    print(e)"
   ]
  },
  {
   "cell_type": "code",
   "execution_count": 15,
   "id": "aa8c940a",
   "metadata": {},
   "outputs": [
    {
     "name": "stdout",
     "output_type": "stream",
     "text": [
      "enter the value of c:90\n",
      "enter the value od d:40\n",
      "the value of c is{}: 40\n",
      "the value of d is{}: 90\n"
     ]
    }
   ],
   "source": [
    "try:\n",
    "    c=int(input(\"enter the value of c:\"))\n",
    "    d=int(input(\"enter the value od d:\"))\n",
    "    a=c\n",
    "    c=d\n",
    "    d=a\n",
    "    print(\"the value of c is{}:\",format(c))\n",
    "    print(\"the value of d is{}:\",format(d))\n",
    "except Exception as e:\n",
    "    print(e)"
   ]
  },
  {
   "cell_type": "code",
   "execution_count": 14,
   "id": "4b85073f",
   "metadata": {},
   "outputs": [
    {
     "name": "stdout",
     "output_type": "stream",
     "text": [
      "enter the five_digits:63053\n",
      "enter the reversed number is 35036:\n"
     ]
    }
   ],
   "source": [
    "try:\n",
    "    number=(input(\"enter the five_digits:\"))\n",
    "    if len(number) == 5 and number.isdigit():\n",
    "        number = int(number)\n",
    "        reversed_number=0\n",
    "        last_digit=number % 10\n",
    "        reversed_number=reversed_number*10+last_digit\n",
    "        number=number // 10\n",
    "        second_digit=number % 10\n",
    "        reversed_number=reversed_number*10+second_digit\n",
    "        number=number // 10\n",
    "        third_digit=number % 10\n",
    "        reversed_number=reversed_number*10+third_digit\n",
    "        number=number  // 10\n",
    "        fourth_digit=number % 10\n",
    "        reversed_number=reversed_number*10+fourth_digit\n",
    "        number=number  // 10\n",
    "        fifth_digit=number % 10\n",
    "        reversed_number=reversed_number*10+fifth_digit\n",
    "        number=number  // 10\n",
    "        print(\"enter the reversed number is {}:\".format(reversed_number))\n",
    "    else:\n",
    "        print(\"please enter a valid four-digit number.\")\n",
    "except Exception as e:\n",
    "    print(e)"
   ]
  },
  {
   "cell_type": "code",
   "execution_count": 13,
   "id": "c26aac5f",
   "metadata": {},
   "outputs": [
    {
     "name": "stdout",
     "output_type": "stream",
     "text": [
      "enter a four-digit number:9784\n",
      "the sum of the first and last digits is: 13\n"
     ]
    }
   ],
   "source": [
    "try:\n",
    "    number = input(\"enter a four-digit number:\")\n",
    "    if len(number) == 4 and number.isdigit():\n",
    "        number = int(number)\n",
    "        first_digit = number // 1000\n",
    "        last_digit = number % 10\n",
    "        sum_of_digits = first_digit + last_digit\n",
    "        print(f\"the sum of the first and last digits is: {sum_of_digits}\")\n",
    "    else:\n",
    "        print(\"please enter a valid four-digit number.\")\n",
    "except Exception as e:\n",
    "    print(e)"
   ]
  },
  {
   "cell_type": "code",
   "execution_count": 9,
   "id": "c76a8f43",
   "metadata": {},
   "outputs": [
    {
     "name": "stdout",
     "output_type": "stream",
     "text": [
      "total illiterate men is: 13600.0\n",
      "total illiterate women is: 0.0\n"
     ]
    }
   ],
   "source": [
    "try:\n",
    "    percentage_men=52\n",
    "    percentage_total_literate=48\n",
    "    percentage_literate_men=35\n",
    "    total_population=80000\n",
    "    total_men=(percentage_men/100)*total_population\n",
    "    total_women=total_population-total_men\n",
    "    literate_men=(percentage_literate_men/100)*total_population\n",
    "    illiterate_men=total_men-literate_men\n",
    "    illiterate_women=total_women-(percentage_total_literate/100)*total_population\n",
    "    print(\"total illiterate men is:\",format(illiterate_men))\n",
    "    print(\"total illiterate women is:\",format(illiterate_women))\n",
    "except Exception as e:\n",
    "    print(e)"
   ]
  },
  {
   "cell_type": "code",
   "execution_count": 8,
   "id": "4e4aa1db",
   "metadata": {},
   "outputs": [
    {
     "name": "stdout",
     "output_type": "stream",
     "text": [
      "enter the amount to withdrawn in hundred:55\n",
      "num of 100 is {}: 55\n",
      "num of 50 is {}: 0\n",
      "num of 10 is {}: 0\n"
     ]
    }
   ],
   "source": [
    "try:\n",
    "    amount_in_hundred=eval(input(\"enter the amount to withdrawn in hundred:\"))\n",
    "    num_50=0\n",
    "    num_100=0\n",
    "    num_10=0\n",
    "    if amount_in_hundred>0:\n",
    "        if amount_in_hundred>=1:\n",
    "            num_100=amount_in_hundred\n",
    "            amount_in_hundred=0\n",
    "        elif amount_in_hundred>=0.5:\n",
    "            num_50=1\n",
    "            amount_in_hundred=0.5\n",
    "        else:\n",
    "            num_10=1\n",
    "            amount_in_hundred=0.1\n",
    "        print(\"num of 100 is {}:\",format(num_100))\n",
    "        print(\"num of 50 is {}:\",format(num_50))\n",
    "        print(\"num of 10 is {}:\",format(num_10))\n",
    "except Exception as e:\n",
    "    print(e)"
   ]
  },
  {
   "cell_type": "code",
   "execution_count": null,
   "id": "56b4b514",
   "metadata": {},
   "outputs": [],
   "source": []
  }
 ],
 "metadata": {
  "kernelspec": {
   "display_name": "Python 3 (ipykernel)",
   "language": "python",
   "name": "python3"
  },
  "language_info": {
   "codemirror_mode": {
    "name": "ipython",
    "version": 3
   },
   "file_extension": ".py",
   "mimetype": "text/x-python",
   "name": "python",
   "nbconvert_exporter": "python",
   "pygments_lexer": "ipython3",
   "version": "3.11.5"
  }
 },
 "nbformat": 4,
 "nbformat_minor": 5
}
