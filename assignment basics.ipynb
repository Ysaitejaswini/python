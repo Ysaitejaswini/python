{
 "cells": [
  {
   "cell_type": "code",
   "execution_count": 1,
   "id": "ff07fef2",
   "metadata": {},
   "outputs": [
    {
     "name": "stdout",
     "output_type": "stream",
     "text": [
      "enter a value25\n",
      "the square of 25 is 625\n"
     ]
    }
   ],
   "source": [
    "number=eval(input(\"enter a value\"))\n",
    "square=number*number\n",
    "print(\"the square of {} is {}\".format(number,square))"
   ]
  },
  {
   "cell_type": "code",
   "execution_count": 2,
   "id": "e30d51d3",
   "metadata": {},
   "outputs": [
    {
     "name": "stdout",
     "output_type": "stream",
     "text": [
      "enter a  number:88\n",
      "88----176----264----352----440\n"
     ]
    }
   ],
   "source": [
    "x=eval(input(\"enter a  number:\"))\n",
    "print(x,2*x,3*x,4*x,5*x,sep='----')"
   ]
  },
  {
   "cell_type": "code",
   "execution_count": 3,
   "id": "31169241",
   "metadata": {},
   "outputs": [
    {
     "name": "stdout",
     "output_type": "stream",
     "text": [
      "enter a weight in kg to coverted into pounds:55\n",
      "55.0 kilo_grams 121.00000000000001 pounds\n"
     ]
    }
   ],
   "source": [
    "kilo_grams=float(input(\"enter a weight in kg to coverted into pounds:\"))\n",
    "pounds=kilo_grams*2.2\n",
    "print(kilo_grams,\"kilo_grams\",pounds,\"pounds\")"
   ]
  },
  {
   "cell_type": "code",
   "execution_count": 4,
   "id": "b8609c8b",
   "metadata": {},
   "outputs": [
    {
     "name": "stdout",
     "output_type": "stream",
     "text": [
      "enter the first num20\n",
      "enter the second num30\n",
      "enter the third num40\n",
      "total: 90\n",
      "average: 30.0\n"
     ]
    }
   ],
   "source": [
    "num1=eval(input(\"enter the first num\"))\n",
    "num2=eval(input(\"enter the second num\"))\n",
    "num3=eval(input(\"enter the third num\"))\n",
    "total=num1+num2+num3\n",
    "average=total/3\n",
    "print(\"total:\",total)\n",
    "print(\"average:\",average)"
   ]
  },
  {
   "cell_type": "code",
   "execution_count": 6,
   "id": "c2bf9b8f",
   "metadata": {},
   "outputs": [
    {
     "name": "stdout",
     "output_type": "stream",
     "text": [
      "enter the price of the meal:5000\n",
      "enter the tip percentage you want to leave:200\n",
      "bill of meal: 5000.0 total_bill: 7500.0\n"
     ]
    }
   ],
   "source": [
    "meal_price=float(input(\"enter the price of the meal:\"))\n",
    "tip_percentage=float(input(\"enter the tip percentage you want to leave:\"))\n",
    "total_bill=meal_price/tip_percentage*100\n",
    "p=meal_price+total_bill\n",
    "print(\"bill of meal:\",meal_price,\"total_bill:\",p)"
   ]
  },
  {
   "cell_type": "code",
   "execution_count": null,
   "id": "b769973d",
   "metadata": {},
   "outputs": [],
   "source": []
  }
 ],
 "metadata": {
  "kernelspec": {
   "display_name": "Python 3 (ipykernel)",
   "language": "python",
   "name": "python3"
  },
  "language_info": {
   "codemirror_mode": {
    "name": "ipython",
    "version": 3
   },
   "file_extension": ".py",
   "mimetype": "text/x-python",
   "name": "python",
   "nbconvert_exporter": "python",
   "pygments_lexer": "ipython3",
   "version": "3.11.5"
  }
 },
 "nbformat": 4,
 "nbformat_minor": 5
}
