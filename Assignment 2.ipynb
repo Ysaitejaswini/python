{
 "cells": [
  {
   "cell_type": "markdown",
   "id": "05f3b884",
   "metadata": {},
   "source": [
    "# Assignment 1"
   ]
  },
  {
   "cell_type": "code",
   "execution_count": 2,
   "id": "6436d86b",
   "metadata": {},
   "outputs": [
    {
     "name": "stdout",
     "output_type": "stream",
     "text": [
      "enter the basic salary50000\n",
      "gross_salary: 80000.0\n"
     ]
    }
   ],
   "source": [
    "# Ramesh's basic salary is input through the keyword.His dearness allowance is 40% of basic salary,and house rent allowance is\n",
    "# 20% of basic salary .Write a program to calculate his gross salary.\n",
    "\n",
    "\n",
    "\n",
    "\n",
    "basic_salary=eval(input(\"enter the basic salary\"))\n",
    "dearness_allowance=0.4*basic_salary\n",
    "house_rent_allowance=0.2*basic_salary\n",
    "gross_salary=basic_salary+dearness_allowance+house_rent_allowance\n",
    "print(\"gross_salary:\",gross_salary)\n"
   ]
  },
  {
   "cell_type": "code",
   "execution_count": 4,
   "id": "e855ba13",
   "metadata": {},
   "outputs": [
    {
     "name": "stdout",
     "output_type": "stream",
     "text": [
      "enter the distance between two citizen in km100\n",
      "distance in meters of {} is {}: 200000.0\n",
      "distance in feet of {} is {}: 450052.00000000006\n",
      "distance in inches of {} is {}: 280030.0\n",
      "distance in centimeters of {} is {}: 1500000.0\n"
     ]
    }
   ],
   "source": [
    "# The distance between two cities (in km.) is input through the keyword.write a program to convert and print this distance in \n",
    "# meters and print this distance in meters,feet,inches and centimeters.\n",
    "\n",
    "\n",
    "\n",
    "distance_in_km=float(input(\"enter the distance between two citizen in km\"))\n",
    "meters=distance_in_km*2000\n",
    "feet=distance_in_km*4500.52\n",
    "inches=distance_in_km*2800.30\n",
    "centimeters=distance_in_km*15000\n",
    "print(\"distance in meters of {} is {}:\",format(meters))\n",
    "print(\"distance in feet of {} is {}:\",format(feet))\n",
    "print(\"distance in inches of {} is {}:\",format(inches))\n",
    "print(\"distance in centimeters of {} is {}:\",format(centimeters))\n"
   ]
  },
  {
   "cell_type": "code",
   "execution_count": 5,
   "id": "c22855d1",
   "metadata": {},
   "outputs": [
    {
     "name": "stdout",
     "output_type": "stream",
     "text": [
      "enter the temperature in fahrenheit degrees:75\n",
      "fahrenheit of {} is {} degree celsuis: 23.88888888888889\n"
     ]
    }
   ],
   "source": [
    "# Temperature of a city in fahrenheit degrees is input through the keyboard.write a program to convert this temperature into\n",
    "# centigrade degrees.\n",
    "\n",
    "\n",
    "\n",
    "fahrenheit=eval(input(\"enter the temperature in fahrenheit degrees:\"))\n",
    "celsuis=(fahrenheit-32)*5/9\n",
    "print(\"fahrenheit of {} is {} degree celsuis:\",format(celsuis))"
   ]
  },
  {
   "cell_type": "code",
   "execution_count": 18,
   "id": "c8e9e8b7",
   "metadata": {},
   "outputs": [
    {
     "name": "stdout",
     "output_type": "stream",
     "text": [
      "enter the student marks in 1st subject:98\n",
      "enter the student marks in 2nd subject:80\n",
      "enter the student marks in 3rd subject:89\n",
      "enter the student marks in 4th subject:92\n",
      "enter the student marks in 5th subject:85\n",
      "percentage marks of all subjects 4.44 is 4.44:\n",
      "the highest marks in 1st subject 98 is 80:\n"
     ]
    }
   ],
   "source": [
    "# If the marks obtained by a student in five different subjects are input through the keyboard,find out the aggregate marks and\n",
    "# percentage marks obtained by the student.Assume that the maximum marks that can be obtained by a student in each subject is\n",
    "# 100.\n",
    "\n",
    "\n",
    "\n",
    "try:\n",
    "    m1=eval(input(\"enter the student marks in 1st subject:\"))\n",
    "    m2=eval(input(\"enter the student marks in 2nd subject:\"))\n",
    "    m3=eval(input(\"enter the student marks in 3rd subject:\"))\n",
    "    m4=eval(input(\"enter the student marks in 4th subject:\"))\n",
    "    m5=eval(input(\"enter the student marks in 5th subject:\"))\n",
    "    total_marks=m1+m2+m3+m4+m5\n",
    "    percentage_marks=total_marks/100\n",
    "    print(\"percentage marks of all subjects {} is {}:\".format(percentage_marks,total_marks/100))\n",
    "    if m1>=90:\n",
    "        print(\"the highest marks in 1st subject {} is {}:\".format(m1,m2,m3,m4,m5,percentage_marks))\n",
    "    elif m2>=85:\n",
    "        print(\"the highest marks in 2nd subject {} is {}:\".format(m1,m2,m3,m4,m5,percentage_marks))\n",
    "    elif m3>=80:\n",
    "        print(\"the highest marks in 3rd subject {} is {}:\".format(m1,m2,m3,m4,m5,percentage_marks))\n",
    "    elif m4>=95:\n",
    "        print(\"the highest marks in 4th subject {} is {}:\".format(m1,m2,m3,m4,m5,percentage_marks))\n",
    "    elif m5>=35:\n",
    "        print(\"the highest marks in 5th subject {} is {}:\".format(m1,m2,m3,m4,m5,percentage_marks))\n",
    "    else:\n",
    "        print(\"fail\")\n",
    "except Exception as e:\n",
    "    print(e)\n",
    "        "
   ]
  },
  {
   "cell_type": "code",
   "execution_count": 10,
   "id": "671d6e37",
   "metadata": {},
   "outputs": [
    {
     "name": "stdout",
     "output_type": "stream",
     "text": [
      "enter the length of rectangle6.5\n",
      "enter the breadth of rectangle5.3\n",
      "enter the radius of circle3.1\n",
      "area_rectangle of {} is {}: 34.449999999999996\n",
      "area_perimeter of {} is {}: 23.6\n",
      "area_circle of {} is {}: 30.190705400997917\n",
      "area_circumference of {} is {}: 12.483185307179586\n"
     ]
    }
   ],
   "source": [
    "# The length & breadth of a rectangle and radius of a circle are input through the keyboard.write a progam to calculate the area\n",
    "# & peimeter of the rectangle,and the area & circumference of the circle.\n",
    "\n",
    "\n",
    "\n",
    "\n",
    "\n",
    "import math\n",
    "try:\n",
    "    length=eval(input(\"enter the length of rectangle\"))\n",
    "    breadth=eval(input(\"enter the breadth of rectangle\"))\n",
    "    radius=eval(input(\"enter the radius of circle\"))\n",
    "    area_rectangle=length*breadth\n",
    "    area_perimeter=2*(length+breadth)\n",
    "    area_circle=math.pi*radius**2\n",
    "    area_circumference=2*(math.pi+radius)\n",
    "    print(\"area_rectangle of {} is {}:\",format(area_rectangle))\n",
    "    print(\"area_perimeter of {} is {}:\",format(area_perimeter))\n",
    "    print(\"area_circle of {} is {}:\",format(area_circle))\n",
    "    print(\"area_circumference of {} is {}:\",format(area_circumference))\n",
    "except Exception as e:\n",
    "    print(e)"
   ]
  },
  {
   "cell_type": "code",
   "execution_count": 12,
   "id": "9bbc613c",
   "metadata": {},
   "outputs": [
    {
     "name": "stdout",
     "output_type": "stream",
     "text": [
      "enter the value of c:50\n",
      "enter the value od d:60\n",
      "the value of c is{}: 60\n",
      "the value of d is{}: 50\n"
     ]
    }
   ],
   "source": [
    "# Two numbers are input through the keyboard into two locations c and d.write a program to interchange the contents of c and d.\n",
    "\n",
    "\n",
    "c=int(input(\"enter the value of c:\"))\n",
    "d=int(input(\"enter the value od d:\"))\n",
    "a=c\n",
    "c=d\n",
    "d=a\n",
    "print(\"the value of c is{}:\",format(c))\n",
    "print(\"the value of d is{}:\",format(d))"
   ]
  },
  {
   "cell_type": "code",
   "execution_count": 9,
   "id": "3cb35abc",
   "metadata": {},
   "outputs": [
    {
     "name": "stdout",
     "output_type": "stream",
     "text": [
      "enter the five_digits:54321\n",
      "enter the reversed number is 12345:\n"
     ]
    }
   ],
   "source": [
    "# If a five digit number is input through the keyboard ,write a program to reverse the number.\n",
    "\n",
    "try:\n",
    "    number=(input(\"enter the five_digits:\"))\n",
    "    if len(number) == 5 and number.isdigit():\n",
    "        number = int(number)\n",
    "        reversed_number=0\n",
    "        last_digit=number % 10\n",
    "        reversed_number=reversed_number*10+last_digit\n",
    "        number=number // 10\n",
    "        second_digit=number % 10\n",
    "        reversed_number=reversed_number*10+second_digit\n",
    "        number=number // 10\n",
    "        third_digit=number % 10\n",
    "        reversed_number=reversed_number*10+third_digit\n",
    "        number=number  // 10\n",
    "        fourth_digit=number % 10\n",
    "        reversed_number=reversed_number*10+fourth_digit\n",
    "        number=number  // 10\n",
    "        fifth_digit=number % 10\n",
    "        reversed_number=reversed_number*10+fifth_digit\n",
    "        number=number  // 10\n",
    "        print(\"enter the reversed number is {}:\".format(reversed_number))\n",
    "    else:\n",
    "        print(\"please enter a valid four-digit number.\")\n",
    "except Exception as e:\n",
    "    print(e)\n",
    "        \n",
    "    "
   ]
  },
  {
   "cell_type": "code",
   "execution_count": 2,
   "id": "bf81f86f",
   "metadata": {},
   "outputs": [
    {
     "name": "stdout",
     "output_type": "stream",
     "text": [
      "enter a four-digit number:1313\n",
      "the sum of the first and last digits is: 4\n"
     ]
    }
   ],
   "source": [
    "# If a four digit number is input through the keyboard,write a program to obtain the sum of the first and last digit of this \n",
    "# number.\n",
    "\n",
    "\n",
    "number = input(\"enter a four-digit number:\")\n",
    "if len(number) == 4 and number.isdigit():\n",
    "    number = int(number)\n",
    "    first_digit = number // 1000\n",
    "    last_digit = number % 10\n",
    "    sum_of_digits = first_digit + last_digit\n",
    "    print(f\"the sum of the first and last digits is: {sum_of_digits}\")\n",
    "else:\n",
    "    print(\"please enter a valid four-digit number.\")"
   ]
  },
  {
   "cell_type": "code",
   "execution_count": 4,
   "id": "88e2285a",
   "metadata": {},
   "outputs": [
    {
     "name": "stdout",
     "output_type": "stream",
     "text": [
      "total illiterate men is: 13600.0\n",
      "total illiterate women is: 0.0\n"
     ]
    }
   ],
   "source": [
    "# In a town,the percentage of men is 52.the percentage of total literacy is 48.if total percentage of literate men is 35 of the \n",
    "# total population.write a program to find the total number of literate men and women if the population of the town is 80.000.\n",
    "\n",
    "\n",
    "\n",
    "percentage_men=52\n",
    "percentage_total_literate=48\n",
    "percentage_literate_men=35\n",
    "total_population=80000\n",
    "total_men=(percentage_men/100)*total_population\n",
    "total_women=total_population-total_men\n",
    "literate_men=(percentage_literate_men/100)*total_population\n",
    "illiterate_men=total_men-literate_men\n",
    "illiterate_women=total_women-(percentage_total_literate/100)*total_population\n",
    "print(\"total illiterate men is:\",format(illiterate_men))\n",
    "print(\"total illiterate women is:\",format(illiterate_women))"
   ]
  },
  {
   "cell_type": "code",
   "execution_count": 22,
   "id": "29c421c3",
   "metadata": {},
   "outputs": [
    {
     "name": "stdout",
     "output_type": "stream",
     "text": [
      "enter the amount to withdrawn in hundred:50000\n",
      "num of 100 is {}: 50000\n",
      "num of 50 is {}: 0\n",
      "num of 10 is {}: 0\n"
     ]
    }
   ],
   "source": [
    "# A cashier has currency notes of denominators 10,50 and 100.if the amount to be withdrawn is input through the keyboard inc=\n",
    "# hundreds,find the total number of currency notes of each denomination the cashier will have to give to the withdrawer.\n",
    "\n",
    "try:\n",
    "    amount_in_hundred=eval(input(\"enter the amount to withdrawn in hundred:\"))\n",
    "    num_50=0\n",
    "    num_100=0\n",
    "    num_10=0\n",
    "    if amount_in_hundred>0:\n",
    "        if amount_in_hundred>=1:\n",
    "            num_100=amount_in_hundred\n",
    "            amount_in_hundred=0\n",
    "        elif amount_in_hundred>=0.5:\n",
    "            num_50=1\n",
    "            amount_in_hundred=0.5\n",
    "        else:\n",
    "            num_10=1\n",
    "            amount_in_hundred=0.1\n",
    "        print(\"num of 100 is {}:\",format(num_100))\n",
    "        print(\"num of 50 is {}:\",format(num_50))\n",
    "        print(\"num of 10 is {}:\",format(num_10))\n",
    "except Exception as e:\n",
    "    print(e)"
   ]
  },
  {
   "cell_type": "code",
   "execution_count": null,
   "id": "8deb502b",
   "metadata": {},
   "outputs": [],
   "source": []
  }
 ],
 "metadata": {
  "kernelspec": {
   "display_name": "Python 3 (ipykernel)",
   "language": "python",
   "name": "python3"
  },
  "language_info": {
   "codemirror_mode": {
    "name": "ipython",
    "version": 3
   },
   "file_extension": ".py",
   "mimetype": "text/x-python",
   "name": "python",
   "nbconvert_exporter": "python",
   "pygments_lexer": "ipython3",
   "version": "3.11.5"
  }
 },
 "nbformat": 4,
 "nbformat_minor": 5
}
