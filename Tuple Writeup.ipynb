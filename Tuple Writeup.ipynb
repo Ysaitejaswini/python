{
 "cells": [
  {
   "cell_type": "markdown",
   "id": "fb418b02",
   "metadata": {},
   "source": [
    "Tuples"
   ]
  },
  {
   "cell_type": "markdown",
   "id": "b66095a3",
   "metadata": {},
   "source": [
    "- A tuple in python is similar to a list\n",
    "- The difference between the two is that we cannot change the elements of a tuple\n",
    "- Once it is assigned whereas we can change the elements of a list"
   ]
  },
  {
   "cell_type": "code",
   "execution_count": 29,
   "id": "905adc8c",
   "metadata": {},
   "outputs": [
    {
     "name": "stdout",
     "output_type": "stream",
     "text": [
      "()\n"
     ]
    }
   ],
   "source": [
    "my_tuple=()\n",
    "print(my_tuple)"
   ]
  },
  {
   "cell_type": "code",
   "execution_count": 30,
   "id": "620602f1",
   "metadata": {},
   "outputs": [
    {
     "name": "stdout",
     "output_type": "stream",
     "text": [
      "hello how are you\n"
     ]
    }
   ],
   "source": [
    "teju=(\"hello how are you\")\n",
    "print(teju)"
   ]
  },
  {
   "cell_type": "markdown",
   "id": "c5ff93c3",
   "metadata": {},
   "source": [
    "Index"
   ]
  },
  {
   "cell_type": "markdown",
   "id": "d462079a",
   "metadata": {},
   "source": [
    "- We can use index operator [] to access an item in a tuple,where the index starts from 0"
   ]
  },
  {
   "cell_type": "code",
   "execution_count": 31,
   "id": "96785e44",
   "metadata": {},
   "outputs": [],
   "source": [
    "teju=(\"h\",\"i\",\"m\",\"e\",\"s\",\"h\")"
   ]
  },
  {
   "cell_type": "code",
   "execution_count": 32,
   "id": "a42fbc36",
   "metadata": {},
   "outputs": [
    {
     "name": "stdout",
     "output_type": "stream",
     "text": [
      "h\n",
      "i\n",
      "m\n",
      "e\n",
      "s\n",
      "h\n"
     ]
    }
   ],
   "source": [
    "print(teju[0])\n",
    "print(teju[1])\n",
    "print(teju[2])\n",
    "print(teju[3])\n",
    "print(teju[4])\n",
    "print(teju[5])"
   ]
  },
  {
   "cell_type": "markdown",
   "id": "fbc23517",
   "metadata": {},
   "source": [
    "Negative Index"
   ]
  },
  {
   "cell_type": "markdown",
   "id": "a9481a6b",
   "metadata": {},
   "source": [
    "- Python allows negative indexing for its sequences."
   ]
  },
  {
   "cell_type": "code",
   "execution_count": 34,
   "id": "3f97e68c",
   "metadata": {},
   "outputs": [],
   "source": [
    "teju=(\"h\",\"i\",\"m\",\"e\",\"s\",\"h\")"
   ]
  },
  {
   "cell_type": "code",
   "execution_count": 36,
   "id": "23fc344e",
   "metadata": {},
   "outputs": [
    {
     "name": "stdout",
     "output_type": "stream",
     "text": [
      "s\n"
     ]
    }
   ],
   "source": [
    "print(teju[-2])"
   ]
  },
  {
   "cell_type": "code",
   "execution_count": 37,
   "id": "3adebbbb",
   "metadata": {},
   "outputs": [
    {
     "name": "stdout",
     "output_type": "stream",
     "text": [
      "h\n",
      "m\n",
      "i\n",
      "e\n",
      "s\n",
      "h\n"
     ]
    }
   ],
   "source": [
    "print(teju[-0])\n",
    "print(teju[-4])\n",
    "print(teju[-5])\n",
    "print(teju[-3])\n",
    "print(teju[-2])\n",
    "print(teju[-1])"
   ]
  },
  {
   "cell_type": "markdown",
   "id": "6700e1f0",
   "metadata": {},
   "source": [
    "Slicing"
   ]
  },
  {
   "cell_type": "markdown",
   "id": "10bc0225",
   "metadata": {},
   "source": [
    "We can access a range of items in a tuple by using the slicing operator colon"
   ]
  },
  {
   "cell_type": "code",
   "execution_count": 38,
   "id": "e9989ea5",
   "metadata": {},
   "outputs": [],
   "source": [
    "teju=(\"h\",\"i\",\"m\",\"e\",\"s\",\"h\")"
   ]
  },
  {
   "cell_type": "code",
   "execution_count": 42,
   "id": "b2fc615a",
   "metadata": {},
   "outputs": [
    {
     "name": "stdout",
     "output_type": "stream",
     "text": [
      "('i', 'm')\n"
     ]
    }
   ],
   "source": [
    "print(teju[1:3])"
   ]
  },
  {
   "cell_type": "code",
   "execution_count": 43,
   "id": "595fc0f9",
   "metadata": {},
   "outputs": [
    {
     "name": "stdout",
     "output_type": "stream",
     "text": [
      "('e', 's', 'h')\n"
     ]
    }
   ],
   "source": [
    "print(teju[3:6])"
   ]
  },
  {
   "cell_type": "code",
   "execution_count": 44,
   "id": "d921fb2d",
   "metadata": {},
   "outputs": [
    {
     "name": "stdout",
     "output_type": "stream",
     "text": [
      "('h', 'i', 'm', 'e')\n"
     ]
    }
   ],
   "source": [
    "print(teju[0:4])"
   ]
  },
  {
   "cell_type": "code",
   "execution_count": 45,
   "id": "b3dca63a",
   "metadata": {},
   "outputs": [
    {
     "name": "stdout",
     "output_type": "stream",
     "text": [
      "('h', 'i', 'm', 'e', 's', 'h')\n"
     ]
    }
   ],
   "source": [
    "print(teju[0:6])"
   ]
  },
  {
   "cell_type": "markdown",
   "id": "546b887d",
   "metadata": {},
   "source": [
    "Count"
   ]
  },
  {
   "cell_type": "markdown",
   "id": "35502b27",
   "metadata": {},
   "source": [
    "The count() method returns the number of times a specified value appears in the tuple"
   ]
  },
  {
   "cell_type": "code",
   "execution_count": 55,
   "id": "f3c00a85",
   "metadata": {},
   "outputs": [
    {
     "name": "stdout",
     "output_type": "stream",
     "text": [
      "2\n"
     ]
    }
   ],
   "source": [
    "teju=(9,0,5,2,8,0,3,1,2,9)\n",
    "g=teju.count(2)\n",
    "print(g)"
   ]
  },
  {
   "cell_type": "code",
   "execution_count": 56,
   "id": "a8566f43",
   "metadata": {},
   "outputs": [
    {
     "name": "stdout",
     "output_type": "stream",
     "text": [
      "2\n"
     ]
    }
   ],
   "source": [
    "teju=(9,0,5,2,8,0,3,1,2,9)\n",
    "p = teju.count(9)\n",
    "print(p)"
   ]
  },
  {
   "cell_type": "markdown",
   "id": "40c422de",
   "metadata": {},
   "source": [
    "Len"
   ]
  },
  {
   "cell_type": "markdown",
   "id": "0d3dc090",
   "metadata": {},
   "source": [
    "Return the number of elements in a tuple"
   ]
  },
  {
   "cell_type": "code",
   "execution_count": 57,
   "id": "b46af790",
   "metadata": {},
   "outputs": [
    {
     "name": "stdout",
     "output_type": "stream",
     "text": [
      "10\n"
     ]
    }
   ],
   "source": [
    "teju=(9,0,5,2,8,0,3,1,2,9)\n",
    "print(len(teju))"
   ]
  },
  {
   "cell_type": "code",
   "execution_count": 58,
   "id": "ef44fbe2",
   "metadata": {},
   "outputs": [
    {
     "name": "stdout",
     "output_type": "stream",
     "text": [
      "5\n"
     ]
    }
   ],
   "source": [
    "teju=(\"p\",\"a\",\"p\",\"p\",\"a\")\n",
    "print(len(teju))"
   ]
  },
  {
   "cell_type": "markdown",
   "id": "48db35f9",
   "metadata": {},
   "source": [
    "Min"
   ]
  },
  {
   "cell_type": "markdown",
   "id": "ff993ff8",
   "metadata": {},
   "source": [
    "returns the elements from the tuple with minimum values"
   ]
  },
  {
   "cell_type": "code",
   "execution_count": 65,
   "id": "f54da9fb",
   "metadata": {},
   "outputs": [
    {
     "data": {
      "text/plain": [
       "'e'"
      ]
     },
     "execution_count": 65,
     "metadata": {},
     "output_type": "execute_result"
    }
   ],
   "source": [
    "teju=(\"h\",\"i\",\"m\",\"e\",\"s\",\"h\")\n",
    "min(teju)   "
   ]
  },
  {
   "cell_type": "markdown",
   "id": "b361c438",
   "metadata": {},
   "source": [
    "Max"
   ]
  },
  {
   "cell_type": "markdown",
   "id": "44af1aab",
   "metadata": {},
   "source": [
    "returns the elements from the tuple with minimum value"
   ]
  },
  {
   "cell_type": "code",
   "execution_count": 64,
   "id": "25f36d63",
   "metadata": {},
   "outputs": [
    {
     "data": {
      "text/plain": [
       "'s'"
      ]
     },
     "execution_count": 64,
     "metadata": {},
     "output_type": "execute_result"
    }
   ],
   "source": [
    "teju=(\"h\",\"i\",\"m\",\"e\",\"s\",\"h\")\n",
    "max(teju)"
   ]
  },
  {
   "cell_type": "markdown",
   "id": "b200758b",
   "metadata": {},
   "source": [
    "Sum"
   ]
  },
  {
   "cell_type": "markdown",
   "id": "5cc0632a",
   "metadata": {},
   "source": [
    "- Python sum () function that returns the sum of all numerical values provided in a iterate\n",
    "- The numerical values that are passed in the function can be integer and floating-point numbers as well\n",
    "- In python one of the most used functions is the sum"
   ]
  },
  {
   "cell_type": "code",
   "execution_count": 66,
   "id": "41f5267b",
   "metadata": {},
   "outputs": [
    {
     "name": "stdout",
     "output_type": "stream",
     "text": [
      "39\n"
     ]
    }
   ],
   "source": [
    "teju=(9,0,5,2,8,0,3,1,2,9)\n",
    "result= sum(teju)\n",
    "print(result)"
   ]
  },
  {
   "cell_type": "markdown",
   "id": "91643750",
   "metadata": {},
   "source": [
    "Sort"
   ]
  },
  {
   "cell_type": "markdown",
   "id": "c9035235",
   "metadata": {},
   "source": [
    "The sort() method sorts the items of a list in ascending or descending order"
   ]
  },
  {
   "cell_type": "code",
   "execution_count": 67,
   "id": "ae3a3798",
   "metadata": {},
   "outputs": [
    {
     "name": "stdout",
     "output_type": "stream",
     "text": [
      "[{'car': 'mitsubishi', 'year': 2000}, {'car': 'ford', 'year': 2005}, {'car': 'vw', 'year': 2011}, {'car': 'BMW', 'year': 2019}]\n"
     ]
    }
   ],
   "source": [
    "def teju(p):\n",
    "    return p['year']\n",
    "\n",
    "cars =[\n",
    "    {'car':'ford','year': 2005},\n",
    "    {'car': 'mitsubishi','year':2000},\n",
    "    {'car':'BMW','year':2019},\n",
    "    {'car':'vw','year':2011}\n",
    "]\n",
    "\n",
    "cars.sort(key=teju)\n",
    "print(cars)"
   ]
  },
  {
   "cell_type": "code",
   "execution_count": null,
   "id": "8d5ce13a",
   "metadata": {},
   "outputs": [],
   "source": []
  }
 ],
 "metadata": {
  "kernelspec": {
   "display_name": "Python 3 (ipykernel)",
   "language": "python",
   "name": "python3"
  },
  "language_info": {
   "codemirror_mode": {
    "name": "ipython",
    "version": 3
   },
   "file_extension": ".py",
   "mimetype": "text/x-python",
   "name": "python",
   "nbconvert_exporter": "python",
   "pygments_lexer": "ipython3",
   "version": "3.11.5"
  }
 },
 "nbformat": 4,
 "nbformat_minor": 5
}
