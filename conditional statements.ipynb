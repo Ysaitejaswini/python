{
 "cells": [
  {
   "cell_type": "code",
   "execution_count": null,
   "id": "a860da7e",
   "metadata": {},
   "outputs": [],
   "source": [
    "if - else\n",
    "if pak won the match they have more chance to go to sf\n",
    "else they have more chance to go home\n",
    "\n",
    "if i study will pass\n",
    "else will fail"
   ]
  },
  {
   "cell_type": "code",
   "execution_count": null,
   "id": "07d4315f",
   "metadata": {},
   "outputs": [],
   "source": [
    "name='python'\n",
    "# i want to make some condition\n",
    "# whenever the name ==python===>success\n",
    "#       otherwise==============>fail"
   ]
  },
  {
   "cell_type": "code",
   "execution_count": null,
   "id": "a2472ad4",
   "metadata": {},
   "outputs": [],
   "source": [
    "name='python'\n",
    "if <condition>:\n",
    "    # sta-1\n",
    "    # code\n",
    "else:\n",
    "    # code"
   ]
  },
  {
   "cell_type": "code",
   "execution_count": null,
   "id": "d3090bb3",
   "metadata": {},
   "outputs": [],
   "source": [
    "name='python'   # name\n",
    "if name=='python': # is the name really equal to python\n",
    "    print('won')"
   ]
  },
  {
   "cell_type": "code",
   "execution_count": 1,
   "id": "46cdd316",
   "metadata": {},
   "outputs": [
    {
     "data": {
      "text/plain": [
       "True"
      ]
     },
     "execution_count": 1,
     "metadata": {},
     "output_type": "execute_result"
    }
   ],
   "source": [
    "a=10\n",
    "a==10"
   ]
  },
  {
   "cell_type": "code",
   "execution_count": 2,
   "id": "eafaf441",
   "metadata": {},
   "outputs": [
    {
     "data": {
      "text/plain": [
       "False"
      ]
     },
     "execution_count": 2,
     "metadata": {},
     "output_type": "execute_result"
    }
   ],
   "source": [
    "name='python'\n",
    "name=='py'\n"
   ]
  },
  {
   "cell_type": "code",
   "execution_count": null,
   "id": "ad09670e",
   "metadata": {},
   "outputs": [],
   "source": [
    "if <condition>:\n",
    "    \n",
    "if True/False:\n",
    "    inside the block"
   ]
  },
  {
   "cell_type": "code",
   "execution_count": 3,
   "id": "f376ef1a",
   "metadata": {},
   "outputs": [
    {
     "name": "stdout",
     "output_type": "stream",
     "text": [
      "won\n"
     ]
    }
   ],
   "source": [
    "## True case..\n",
    "name='python'   #'python' is saved in a variable 'name'\n",
    "if name=='python': # is the name really equal to python\n",
    "    print('won')"
   ]
  },
  {
   "cell_type": "code",
   "execution_count": null,
   "id": "d620c461",
   "metadata": {},
   "outputs": [],
   "source": [
    "# Error capture =====> my code should not stop\n",
    "# try: 100 lines   50 line you got error\n",
    "# first 49 exec======= 50====>exception"
   ]
  },
  {
   "cell_type": "code",
   "execution_count": null,
   "id": "540a9d09",
   "metadata": {},
   "outputs": [],
   "source": [
    "## False case..\n",
    "name='python'\n",
    "if name=='py'"
   ]
  },
  {
   "cell_type": "code",
   "execution_count": 4,
   "id": "047f908a",
   "metadata": {},
   "outputs": [
    {
     "name": "stdout",
     "output_type": "stream",
     "text": [
      "30\n"
     ]
    }
   ],
   "source": [
    "a=10\n",
    "b=20\n",
    "print(a+b)"
   ]
  },
  {
   "cell_type": "code",
   "execution_count": 5,
   "id": "304eada3",
   "metadata": {},
   "outputs": [
    {
     "name": "stdout",
     "output_type": "stream",
     "text": [
      "lost\n"
     ]
    }
   ],
   "source": [
    "name='python'\n",
    "if name=='py':      #False: np\n",
    "    print('won')\n",
    "else:\n",
    "    print('lost')"
   ]
  },
  {
   "cell_type": "code",
   "execution_count": 7,
   "id": "9ab630db",
   "metadata": {},
   "outputs": [
    {
     "name": "stdout",
     "output_type": "stream",
     "text": [
      "hello\n",
      "10\n",
      "enter a number1:20\n",
      "enter a number2:30\n",
      "this is true case\n",
      "we are doing multiplication operation\n",
      "the multiplication of 20 and 30 is: 600\n",
      "subtraction: -10\n",
      "great!\n"
     ]
    }
   ],
   "source": [
    "print('hello')\n",
    "print(10)\n",
    "num1=eval(input(\"enter a number1:\"))\n",
    "num2=eval(input(\"enter a number2:\"))\n",
    "if num1==num2:\n",
    "    print(\"this is true case\")\n",
    "    print(\"we are doing addition operation\")\n",
    "    print(\"the addition of {} and {} is: {}\".format(num1,num2,num1+num2))\n",
    "    print(\"happy ending!\")\n",
    "    \n",
    "else:\n",
    "    print(\"this is true case\")\n",
    "    print(\"we are doing multiplication operation\")\n",
    "    print(\"the multiplication of {} and {} is: {}\".format(num1,num2,num1*num2))\n",
    "    \n",
    "subtraction=num1-num2\n",
    "print('subtraction:',subtraction)\n",
    "print(\"great!\")\n",
    "        \n"
   ]
  },
  {
   "cell_type": "code",
   "execution_count": null,
   "id": "1c38c08c",
   "metadata": {},
   "outputs": [],
   "source": [
    "#WAP ask the user enter a number\n",
    "# find the number is even number or odd number\n",
    "# even number: if you divide with 2 the reminder is zero\n",
    "# odd number\n",
    "# in python modulus operator gives reminder"
   ]
  },
  {
   "cell_type": "code",
   "execution_count": 8,
   "id": "60c83a18",
   "metadata": {},
   "outputs": [
    {
     "name": "stdout",
     "output_type": "stream",
     "text": [
      "enter the number10\n",
      "The 10 is even number\n"
     ]
    }
   ],
   "source": [
    "num1=eval(input(\"enter the number\"))    ##55\n",
    "if(num1%2==0):        ##55%2==0\n",
    "    print(\"The {} is even number\".format(num1))\n",
    "else:         ## else block\n",
    "    print(\"The {} is odd number\".foramt(num2))"
   ]
  },
  {
   "cell_type": "code",
   "execution_count": 9,
   "id": "7afe8f8c",
   "metadata": {},
   "outputs": [
    {
     "name": "stdout",
     "output_type": "stream",
     "text": [
      "enter the number100\n",
      "The 100 is even number\n"
     ]
    }
   ],
   "source": [
    "num1=eval(input(\"enter the number\"))    ##55\n",
    "if(num1%2==0):        ##55%2==0\n",
    "    print(\"The {} is even number\".format(num1))\n",
    "else:         ## else block\n",
    "    print(\"The {} is odd number\".foramt(num1))\n",
    "    "
   ]
  },
  {
   "cell_type": "code",
   "execution_count": null,
   "id": "f13909f5",
   "metadata": {},
   "outputs": [],
   "source": [
    "#WAP get a random number between 1 to 50\n",
    "# and check it is an even number or odd number"
   ]
  },
  {
   "cell_type": "code",
   "execution_count": 12,
   "id": "7c64c2ba",
   "metadata": {},
   "outputs": [
    {
     "name": "stdout",
     "output_type": "stream",
     "text": [
      "The 17 is odd number\n"
     ]
    }
   ],
   "source": [
    "import random\n",
    "num1=random.randint(1,50)\n",
    "    \n",
    "if(num1%2!=0):        \n",
    "    print(\"The {} is odd number\".format(num1))\n",
    "else:         \n",
    "    print(\"The {} is even number\".foramt(num1))\n",
    "    "
   ]
  },
  {
   "cell_type": "code",
   "execution_count": null,
   "id": "a86d6a57",
   "metadata": {},
   "outputs": [],
   "source": [
    "#WAP get a random number between 1 to 200\n",
    "# print you won,if number between 10 to 99: num>=10 and num<99\n",
    "# otherwise print you lost"
   ]
  },
  {
   "cell_type": "code",
   "execution_count": 20,
   "id": "aa8101f3",
   "metadata": {},
   "outputs": [
    {
     "name": "stdout",
     "output_type": "stream",
     "text": [
      "you won because 71 is between 10 and 99.\n",
      "you lost because 71 is between 10 and 99.\n"
     ]
    }
   ],
   "source": [
    "import random\n",
    "try:\n",
    "    num=random.randint(1,200)\n",
    "    if (num>=10 and num<=99):\n",
    "        print(\"you won because {} is between 10 and 99.\".format(num))\n",
    "        print(\"you lost because {} is between 10 and 99.\".format(num))\n",
    "        \n",
    "except Exception as err:\n",
    "    print(err)"
   ]
  },
  {
   "cell_type": "code",
   "execution_count": 16,
   "id": "b07517a6",
   "metadata": {},
   "outputs": [
    {
     "data": {
      "text/plain": [
       "False"
      ]
     },
     "execution_count": 16,
     "metadata": {},
     "output_type": "execute_result"
    }
   ],
   "source": [
    "10<170<99"
   ]
  },
  {
   "cell_type": "code",
   "execution_count": null,
   "id": "f36f38bf",
   "metadata": {},
   "outputs": [],
   "source": [
    "# WAP ask the user\n",
    "# if the number >=0 print it is a positive number\n",
    "# otherwise print it is a negtative number"
   ]
  },
  {
   "cell_type": "code",
   "execution_count": 22,
   "id": "3e71102b",
   "metadata": {},
   "outputs": [
    {
     "name": "stdout",
     "output_type": "stream",
     "text": [
      "enter a number:88\n",
      "it is a pos num\n"
     ]
    }
   ],
   "source": [
    "num=eval(input(\"enter a number:\"))\n",
    "if num>=0:\n",
    "    print(\"it is a pos num\")\n",
    "else:\n",
    "    print(\"it is neg num\")"
   ]
  },
  {
   "cell_type": "code",
   "execution_count": null,
   "id": "57066da5",
   "metadata": {},
   "outputs": [],
   "source": [
    "#con-1:>0=========pos      if<cond>:\n",
    "#con-2:>0=========neg      elif<cond>\n",
    "#con-3:=0=========zero     else:"
   ]
  },
  {
   "cell_type": "code",
   "execution_count": 32,
   "id": "ae2e1f6e",
   "metadata": {},
   "outputs": [
    {
     "name": "stdout",
     "output_type": "stream",
     "text": [
      "enter a number:70\n"
     ]
    },
    {
     "ename": "AttributeError",
     "evalue": "'str' object has no attribute 'foramt'",
     "output_type": "error",
     "traceback": [
      "\u001b[1;31m---------------------------------------------------------------------------\u001b[0m",
      "\u001b[1;31mAttributeError\u001b[0m                            Traceback (most recent call last)",
      "Cell \u001b[1;32mIn[32], line 3\u001b[0m\n\u001b[0;32m      1\u001b[0m num2\u001b[38;5;241m=\u001b[39m\u001b[38;5;28meval\u001b[39m(\u001b[38;5;28minput\u001b[39m(\u001b[38;5;124m\"\u001b[39m\u001b[38;5;124menter a number:\u001b[39m\u001b[38;5;124m\"\u001b[39m))\n\u001b[0;32m      2\u001b[0m \u001b[38;5;28;01mif\u001b[39;00m num\u001b[38;5;241m>\u001b[39m\u001b[38;5;241m0\u001b[39m:\n\u001b[1;32m----> 3\u001b[0m     \u001b[38;5;28mprint\u001b[39m(\u001b[38;5;124m\"\u001b[39m\u001b[38;5;124mthe given number \u001b[39m\u001b[38;5;132;01m{}\u001b[39;00m\u001b[38;5;124m is positive\u001b[39m\u001b[38;5;124m\"\u001b[39m\u001b[38;5;241m.\u001b[39mforamt(num2))\n\u001b[0;32m      4\u001b[0m \u001b[38;5;28;01melif\u001b[39;00m num\u001b[38;5;241m>\u001b[39m\u001b[38;5;241m0\u001b[39m:\n\u001b[0;32m      5\u001b[0m     \u001b[38;5;28mprint\u001b[39m(\u001b[38;5;124m\"\u001b[39m\u001b[38;5;124mthe given number \u001b[39m\u001b[38;5;132;01m{}\u001b[39;00m\u001b[38;5;124m is negative\u001b[39m\u001b[38;5;124m\"\u001b[39m\u001b[38;5;241m.\u001b[39mforamt(num2))\n",
      "\u001b[1;31mAttributeError\u001b[0m: 'str' object has no attribute 'foramt'"
     ]
    }
   ],
   "source": [
    "num2=eval(input(\"enter a number:\"))\n",
    "if num>0:\n",
    "    print(\"the given number {} is positive\".foramt(num2))\n",
    "elif num>0:\n",
    "    print(\"the given number {} is negative\".foramt(num2))\n",
    "else:\n",
    "    print(\"the given number {} is zero\".foramt(num2))"
   ]
  },
  {
   "cell_type": "code",
   "execution_count": null,
   "id": "30f89946",
   "metadata": {},
   "outputs": [],
   "source": [
    "#WAP ask the user enter the percentage of marks\n",
    "#if per>90 print a\n",
    "#if per between 70 to 90 print b\n",
    "#if per between 50 to 70 print b\n",
    "# otherwise print b\n",
    "#if - elif-elif-else\n"
   ]
  },
  {
   "cell_type": "code",
   "execution_count": 33,
   "id": "8ea75f3d",
   "metadata": {},
   "outputs": [
    {
     "name": "stdout",
     "output_type": "stream",
     "text": [
      "enter your percentage:80\n",
      "B grade\n"
     ]
    }
   ],
   "source": [
    "per=eval(input(\"enter your percentage:\"))\n",
    "if per>=90:\n",
    "    print(\"A grade\")\n",
    "elif per>=70:\n",
    "    print(\"B grade\")\n",
    "elif per>=50:\n",
    "    print(\"c grade\")\n",
    "else:\n",
    "    ptint(\"D grade\")\n",
    "         \n",
    "\n",
    "\n",
    "        "
   ]
  },
  {
   "cell_type": "code",
   "execution_count": 34,
   "id": "51be22f1",
   "metadata": {},
   "outputs": [
    {
     "name": "stdout",
     "output_type": "stream",
     "text": [
      "enter your percentage:98\n",
      "the given number 98 is A grade:\n"
     ]
    }
   ],
   "source": [
    "per=eval(input(\"enter your percentage:\"))\n",
    "if per>=90:\n",
    "    print(\"the given number {} is A grade:\".format(per))\n",
    "elif per>=70:\n",
    "    print(\"the given number {} is B grade:\".foramt(per))\n",
    "elif per>=50:\n",
    "    print(\"the given number {} is c grade:\".format(per))\n",
    "else:\n",
    "    ptint(\"the given number {} is D grade:\".foramt(per))\n",
    "         "
   ]
  },
  {
   "cell_type": "code",
   "execution_count": null,
   "id": "f50906b3",
   "metadata": {},
   "outputs": [],
   "source": [
    "#WAP "
   ]
  },
  {
   "cell_type": "code",
   "execution_count": null,
   "id": "8f2e9a7d",
   "metadata": {},
   "outputs": [],
   "source": [
    "age=eval(input(\"enter a age:\"))\n",
    "if age>60:\n",
    "    print('')"
   ]
  },
  {
   "cell_type": "code",
   "execution_count": null,
   "id": "0feadd82",
   "metadata": {},
   "outputs": [],
   "source": [
    "#WAP ask the user enter distance in km\n",
    "#    if distance is more than 10km:print charge is 100rs\n",
    "#    if distance is between 7 to 10km: print charge is 70rs\n",
    "#    if distance is between 4 to 7km: print charge is 40rs\n",
    "#    otherwise print charge is 30rs\n",
    "#  total 4: if,elif,elif,else"
   ]
  },
  {
   "cell_type": "code",
   "execution_count": 6,
   "id": "a46fd6c2",
   "metadata": {},
   "outputs": [
    {
     "name": "stdout",
     "output_type": "stream",
     "text": [
      "enter the distance in km50\n",
      "print charge is 100rs\n"
     ]
    }
   ],
   "source": [
    "distance=eval(input(\"enter the distance in km\"))\n",
    "if distance>=10:\n",
    "    print(\"print charge is 100rs\")\n",
    "elif distance>=7:\n",
    "    print(\"print charge is 70rs\")\n",
    "elif distance>=10:\n",
    "    print(\"print charge is 40rs\")\n",
    "else:\n",
    "    print(\"print charge is 30rs\")"
   ]
  },
  {
   "cell_type": "code",
   "execution_count": null,
   "id": "25446b58",
   "metadata": {},
   "outputs": [],
   "source": [
    "#WAP ask the user enter salary\n",
    "# if salary >10laks :\n",
    "#        enter the user tax percentage :10%\n",
    "#        print: the amount of tax paid:(salary*tax_per)/100\n",
    "# if salary between 7 lakhs to 10 laks\n",
    "#        enter the user tax percentage:5%\n",
    "#         print the amount of tax paid\n",
    "# if salary between 4 to 7 lakhs\n",
    "#         enter the user tax percentage:2.5%\n",
    "#         print the amount of tax paid\n",
    "# otherwise: print ('no tax required')\n",
    "# if-elif-elif-else\n"
   ]
  },
  {
   "cell_type": "code",
   "execution_count": 9,
   "id": "954a323d",
   "metadata": {},
   "outputs": [
    {
     "name": "stdout",
     "output_type": "stream",
     "text": [
      "enter the salary:700000\n",
      "enter the tax_per40000\n",
      "the amount tax paid\n"
     ]
    }
   ],
   "source": [
    "salary=eval(input(\"enter the salary:\"))\n",
    "if salary>=100000:\n",
    "    tax_per=eval(input(\"enter the tax_per\"))\n",
    "    tax_per=(salary*tax_per)/100\n",
    "    print(\"the amount tax paid\")\n",
    "elif salary>700000:\n",
    "    tax_per=eval(input(\"enter the tax_per\"))\n",
    "    tax_per=(salary*tax_per)/100\n",
    "    print(\"the amount tax paid\")\n",
    "elif salary>=400000:\n",
    "    tax_per=eval(input(\"enter the tax_per\"))\n",
    "    tax_per=(salary*tax_per)/100\n",
    "    print(\"the amount tax paid\")\n",
    "else:\n",
    "    print('no tax required')\n",
    "    \n",
    "        \n",
    "    "
   ]
  },
  {
   "cell_type": "code",
   "execution_count": null,
   "id": "606cd3fd",
   "metadata": {},
   "outputs": [],
   "source": [
    "#WAP ask the user enter which operation you need to perform \n",
    "#                operations are:addition/mu/sub/div\n",
    "# ask the user enter a number1\n",
    "# ask the user enter a number2\n",
    "# if operation equal to addition\n",
    "#            print(\"we are doing addition operation\")\n",
    "#            print(\"the addition of num1 and num2 is\")\n",
    "# if the operation equal to multiplication\n",
    "#            print(\"we are doing multiplication operation\")\n",
    "#            print(\"the multiplication of num1 and num2\")\n",
    "# if the operation equal to subtraction \n",
    "#            print(\"we are doing subtraction operation\")\n",
    "#            print(\"the subtarction of num1 and num2\")\n",
    "# if the operation equal to division\n",
    "#            print(\"we are donig division operation\")\n",
    "#            print(\"the division of num1 and num2\")\n",
    "# else:\n",
    "#     print(\"provide suitable operation\")\n",
    "#if------elif------elif------elif------else"
   ]
  },
  {
   "cell_type": "code",
   "execution_count": 13,
   "id": "35055033",
   "metadata": {},
   "outputs": [
    {
     "name": "stdout",
     "output_type": "stream",
     "text": [
      "enter which operation you need to perform*\n",
      "enter 1st number:8000\n",
      "enter 2nd number:2000\n",
      "provide suitable operation\n"
     ]
    }
   ],
   "source": [
    "operation=input(\"enter which operation you need to perform\")\n",
    "num1=eval(input(\"enter 1st number:\"))\n",
    "num2=eval(input(\"enter 2nd number:\"))\n",
    "if operation=='addition':\n",
    "    print(\"we are doing addition operation\")\n",
    "    print(\"the addition of{} is{}\".foramt(num1,num2,num1+num2))\n",
    "elif operation=='multiplication':\n",
    "    print(\"we are doing multiplication operation\")\n",
    "    print(\"the multiplication of{} is{}\".foramt(num1,num2,num1*num2))\n",
    "elif operation=='subtraction':\n",
    "    print(\"we are doing subtraction operation\")\n",
    "    print(\"the subtraction of{} is{}\".foramt(num1,num2,num1-num2))\n",
    "elif operation=='division':\n",
    "    print(\"we are doing divison operation\")\n",
    "    print(\"the division of{} is{}\".foramt(num1,num2,num1/num2))\n",
    "else:\n",
    "    print(\"provide suitable operation\")\n",
    "        \n",
    "     \n"
   ]
  },
  {
   "cell_type": "code",
   "execution_count": null,
   "id": "230c6a16",
   "metadata": {},
   "outputs": [],
   "source": [
    "#WAP ask the user enter a number\n",
    "# if the number greater than zero\n",
    "#              if the number==0:\n",
    "#                    print('it is a zero number')\n",
    "#              else:\n",
    "#                    print('it is a pos number')\n",
    "#              else:\n",
    "#                   print('it is a neg number')"
   ]
  },
  {
   "cell_type": "code",
   "execution_count": 15,
   "id": "d2638aef",
   "metadata": {},
   "outputs": [
    {
     "name": "stdout",
     "output_type": "stream",
     "text": [
      "enter a number:500\n",
      "it is a pos number\n"
     ]
    }
   ],
   "source": [
    "number=eval(input(\"enter a number:\"))\n",
    "if number>=0:\n",
    "    if number==0:\n",
    "        print(\"it is a zero number\")\n",
    "    else:\n",
    "        print(\"it is a pos number\")  \n",
    "else:            \n",
    "        print(\"it is a neg number\")\n",
    "        "
   ]
  },
  {
   "cell_type": "code",
   "execution_count": null,
   "id": "83184547",
   "metadata": {},
   "outputs": [],
   "source": [
    "#WAP ask the user enter gender male n female\n",
    "# if gender equal to male\n",
    "#   ask the user enter age\n",
    "#   if age>60: print(cs)\n",
    "#   if age betwwen 30 to 60 print (middle aged man)\n",
    "#   if age between 20 to 30 print(young boy)\n",
    "#   if age between 13 to 20: print(teenage girl)\n",
    "# otherwise: print('girl')"
   ]
  },
  {
   "cell_type": "code",
   "execution_count": 28,
   "id": "b1602329",
   "metadata": {},
   "outputs": [
    {
     "ename": "SyntaxError",
     "evalue": "invalid syntax (1197373824.py, line 15)",
     "output_type": "error",
     "traceback": [
      "\u001b[1;36m  Cell \u001b[1;32mIn[28], line 15\u001b[1;36m\u001b[0m\n\u001b[1;33m    elif gender==\"female\":\u001b[0m\n\u001b[1;37m    ^\u001b[0m\n\u001b[1;31mSyntaxError\u001b[0m\u001b[1;31m:\u001b[0m invalid syntax\n"
     ]
    }
   ],
   "source": [
    "try:\n",
    "    gender=input(\"enter the gender either male and female:\")\n",
    "    if gender==\"male\":\n",
    "        age=eval(input(\"enter the age:\"))\n",
    "    if age>=60:\n",
    "        print(\"cs\")\n",
    "    elif age>=30:\n",
    "        print(\"middle aged male\")\n",
    "    elif age>=20:\n",
    "        print(\"young boy\")\n",
    "    elif age>=13:\n",
    "        print(\"teenage boy\")\n",
    "    else:\n",
    "        print(\"boy\")\n",
    "    elif gender==\"female\":\n",
    "        age=eval(input(\"enter the age:\"))\n",
    "        if age>=60:\n",
    "            print(\"sc\")\n",
    "    elif age>=30:\n",
    "        print(\"middle aged female\")\n",
    "    elif age>=20:\n",
    "        print(\"young girl\")\n",
    "    elif age>=13:\n",
    "        print(\"teenage girl\")\n",
    "    else:\n",
    "        print(\"girl\")\n",
    "except Exception as e:\n",
    "    print(e)    \n",
    "           \n",
    "        \n",
    "            \n",
    "            \n",
    "    \n",
    "    \n",
    "        \n",
    "         \n",
    "            "
   ]
  },
  {
   "cell_type": "code",
   "execution_count": 34,
   "id": "8b11bfbd",
   "metadata": {},
   "outputs": [
    {
     "name": "stdout",
     "output_type": "stream",
     "text": [
      "enter the gender either male and female:male\n",
      "enter the age:60\n",
      "cs\n",
      "middle aged female\n"
     ]
    }
   ],
   "source": [
    "try:\n",
    "    gender=input(\"enter the gender either male and female:\")\n",
    "    if gender==\"male\":\n",
    "        age=eval(input(\"enter the age:\"))\n",
    "    if age>=60:\n",
    "        print(\"cs\")\n",
    "    elif age>=30:\n",
    "        print(\"middle aged male\")\n",
    "    elif age>=20:\n",
    "        print(\"young boy\")\n",
    "    elif age>=13:\n",
    "        print(\"teenage boy\")\n",
    "    else:\n",
    "        print(\"boy\")\n",
    "    if gender==\"female\":\n",
    "        age=eval(input(\"enter the age:\"))\n",
    "        if age>=60:\n",
    "            print(\"sc\")\n",
    "    elif age>=30:\n",
    "        print(\"middle aged female\")\n",
    "    elif age>=20:\n",
    "        print(\"young girl\")\n",
    "    elif age>=13:\n",
    "        print(\"teenage girl\")\n",
    "    else:\n",
    "        print(\"girl\")\n",
    "except Exception as e:\n",
    "    print(e)    \n",
    "           \n",
    "        \n",
    "            \n",
    "            \n",
    "    \n",
    "    \n",
    "        \n",
    "         \n",
    "            "
   ]
  },
  {
   "cell_type": "code",
   "execution_count": null,
   "id": "f84224dc",
   "metadata": {},
   "outputs": [],
   "source": [
    "#WAP ask the user enter three numbers\n",
    "# find the biggest number"
   ]
  },
  {
   "cell_type": "code",
   "execution_count": 2,
   "id": "5859c059",
   "metadata": {},
   "outputs": [
    {
     "name": "stdout",
     "output_type": "stream",
     "text": [
      "enter the first number101\n",
      "enter the second number95\n",
      "enter the third number68\n",
      "the biggest number: 101\n"
     ]
    }
   ],
   "source": [
    "try:\n",
    "    num1=eval(input(\"enter the first number\"))\n",
    "    num2=eval(input(\"enter the second number\"))\n",
    "    num3=eval(input(\"enter the third number\"))\n",
    "    if num1>=100:\n",
    "        print(\"the biggest number: {}\".format(num1,num2,num3))\n",
    "    elif num2>=90:\n",
    "        print(\"the biggest number: {}\".format(num1,num2,num3))\n",
    "    elif num3>=60:\n",
    "        print(\"the biggest number: {}\".format(num1,num2,num3))\n",
    "    else:\n",
    "        print(\"biggest number: {}\".format(num1,num2,num3))   \n",
    "except Exception as e:\n",
    "        print(e)\n",
    "        "
   ]
  },
  {
   "cell_type": "code",
   "execution_count": null,
   "id": "b121281c",
   "metadata": {},
   "outputs": [],
   "source": [
    "if <condition>\n",
    "elif <condition>\n",
    "else # No condition"
   ]
  },
  {
   "cell_type": "code",
   "execution_count": 5,
   "id": "1d1b3345",
   "metadata": {},
   "outputs": [
    {
     "name": "stdout",
     "output_type": "stream",
     "text": [
      "the addition of 10 and 20 is 30\n"
     ]
    }
   ],
   "source": [
    "n1=10\n",
    "n2=20\n",
    "add=n1+n2\n",
    "print(\"the addition of {} and {} is {}\".format(n1,n2,add))"
   ]
  },
  {
   "cell_type": "code",
   "execution_count": null,
   "id": "b2d324f3",
   "metadata": {},
   "outputs": [],
   "source": [
    "def <function_name>():\n",
    "    # write your code here"
   ]
  },
  {
   "cell_type": "code",
   "execution_count": 17,
   "id": "2a3c59fe",
   "metadata": {},
   "outputs": [
    {
     "name": "stdout",
     "output_type": "stream",
     "text": [
      "the addition of 10 and 20 is 30\n"
     ]
    }
   ],
   "source": [
    "def addition():\n",
    "    n1=10\n",
    "    n2=20\n",
    "    add=n1+n2\n",
    "print(\"the addition of {} and {} is {}\".format(n1,n2,add))"
   ]
  },
  {
   "cell_type": "code",
   "execution_count": null,
   "id": "a6eafe80",
   "metadata": {},
   "outputs": [],
   "source": [
    "# the output will not display untill unless you call the function"
   ]
  },
  {
   "cell_type": "code",
   "execution_count": 14,
   "id": "8308c839",
   "metadata": {},
   "outputs": [],
   "source": [
    "addition()"
   ]
  },
  {
   "cell_type": "code",
   "execution_count": 18,
   "id": "6b27ca2f",
   "metadata": {},
   "outputs": [
    {
     "name": "stdout",
     "output_type": "stream",
     "text": [
      "hello\n",
      "im writing function\n"
     ]
    }
   ],
   "source": [
    "def addition():\n",
    "    print('hello')\n",
    "    print('im writing function')\n",
    "addition()    \n",
    "    "
   ]
  },
  {
   "cell_type": "code",
   "execution_count": 19,
   "id": "16cf8905",
   "metadata": {},
   "outputs": [
    {
     "name": "stdout",
     "output_type": "stream",
     "text": [
      "hello good morning\n"
     ]
    }
   ],
   "source": [
    "def hello_world():\n",
    "    print('hello good morning')\n",
    "    \n",
    "hello_world()    "
   ]
  },
  {
   "cell_type": "code",
   "execution_count": 21,
   "id": "0f29eb9e",
   "metadata": {},
   "outputs": [
    {
     "name": "stdout",
     "output_type": "stream",
     "text": [
      "enter a number110\n",
      "enter a number220\n",
      "enter a number330\n",
      "the average of 60 and 20.0\n"
     ]
    }
   ],
   "source": [
    "# Take three numbers find the average\n",
    "# WAP ask the user enter 3 numbers\n",
    "# n1=eval(input())\n",
    "# n2=eval(input())\n",
    "# n3=eval(input())\n",
    "# avg=(n1+n2+n3)/3\n",
    "# first write normal code\n",
    "# then implement the function\n",
    "\n",
    "\n",
    "\n",
    "def avg():\n",
    "    num1=eval(input(\"enter a number1\"))\n",
    "    num2=eval(input(\"enter a number2\"))\n",
    "    num3=eval(input(\"enter a number3\"))\n",
    "    avg=(num1+num2+num3)/3\n",
    "    print(\"the average of {} and {}\".format(num1+num2+num3,avg))\n",
    "avg()    "
   ]
  },
  {
   "cell_type": "code",
   "execution_count": 25,
   "id": "88333948",
   "metadata": {},
   "outputs": [
    {
     "ename": "IndentationError",
     "evalue": "expected an indented block after 'try' statement on line 2 (1312684541.py, line 3)",
     "output_type": "error",
     "traceback": [
      "\u001b[1;36m  Cell \u001b[1;32mIn[25], line 3\u001b[1;36m\u001b[0m\n\u001b[1;33m    num1=eval(input(\"enter a number1\"))\u001b[0m\n\u001b[1;37m    ^\u001b[0m\n\u001b[1;31mIndentationError\u001b[0m\u001b[1;31m:\u001b[0m expected an indented block after 'try' statement on line 2\n"
     ]
    }
   ],
   "source": [
    "def avg():\n",
    "    try:\n",
    "    num1=eval(input(\"enter a number1\"))\n",
    "    num2=eval(input(\"enter a number2\"))\n",
    "    num3=eval(input(\"enter a number3\"))\n",
    "    avg=(num1+num2+num3)/3\n",
    "    print(\"the average of {},{} and {}\".format(num1+num2+num3,avg))\n",
    "    except Exception as e:\n",
    "        print(e)\n",
    "avg()    "
   ]
  },
  {
   "cell_type": "code",
   "execution_count": 29,
   "id": "7a1ce88f",
   "metadata": {},
   "outputs": [
    {
     "name": "stdout",
     "output_type": "stream",
     "text": [
      "enter the bill_amount:1000\n",
      "enter the tip_amount:50\n",
      "the total bill of 1050 is 1050:\n"
     ]
    }
   ],
   "source": [
    "#WAP ask the user bill amount\n",
    "#WAP ask the user tip amount\n",
    "# calculate total bill\n",
    "\n",
    "def bill():\n",
    "    try:\n",
    "        bill_amount=eval(input(\"enter the bill_amount:\"))\n",
    "        tip_amount=eval(input(\"enter the tip_amount:\"))\n",
    "        total_bill=bill_amount+tip_amount\n",
    "        print(\"the total bill of {} is {}:\".format(bill_amount+tip_amount,total_bill))\n",
    "    except Exception as e:\n",
    "        print(e)\n",
    "bill()        \n",
    "        \n",
    "        \n"
   ]
  },
  {
   "cell_type": "code",
   "execution_count": 31,
   "id": "defab36f",
   "metadata": {},
   "outputs": [
    {
     "name": "stdout",
     "output_type": "stream",
     "text": [
      "18 is an even number\n"
     ]
    }
   ],
   "source": [
    "# WAP ask the user get a random number between 1 to 100\n",
    "# print it is even or odd number\n",
    "# implement using function\n",
    "# import <packages>\n",
    "# num=<packages>.<method_name>(1,100)\n",
    "# if <condition>:\n",
    "\n",
    "\n",
    "\n",
    "import random\n",
    "num=random.randint(1,100)\n",
    "if num%2==0:\n",
    "    print(\"{} is an even number\".format(num))\n",
    "else:\n",
    "    print(\"{} is an odd number\". format(num))\n",
    "   \n"
   ]
  },
  {
   "cell_type": "code",
   "execution_count": 36,
   "id": "bba11a2a",
   "metadata": {},
   "outputs": [
    {
     "name": "stdout",
     "output_type": "stream",
     "text": [
      "18 is an even number\n"
     ]
    }
   ],
   "source": [
    "import random\n",
    "def even_odd1():\n",
    "    num=random.randint(1,100)\n",
    "if num%2==0:\n",
    "    print(\"{} is an even number\".format(num))\n",
    "else:\n",
    "    print(\"{} is an odd number\".format(num))\n",
    "even_odd1()    "
   ]
  },
  {
   "cell_type": "code",
   "execution_count": 34,
   "id": "6de3aafc",
   "metadata": {},
   "outputs": [
    {
     "name": "stdout",
     "output_type": "stream",
     "text": [
      "the reminder is zero\n",
      "18 is an even number\n",
      "we are implementing even odd function\n",
      "take one number\n"
     ]
    }
   ],
   "source": [
    "import random\n",
    "def even_odd1():\n",
    "    print('we are implementing even odd function')\n",
    "    print(\"take one number\")\n",
    "    num=random.randint(1,100)\n",
    "if num%2==0:\n",
    "    print(\"the reminder is zero\")\n",
    "    print(\"{} is an even number\".format(num))\n",
    "else:\n",
    "    print(\"the remainder is not equal to zero\")\n",
    "    print(\"{} is an odd number\".foramt(num))\n",
    "even_odd1()    \n",
    "        "
   ]
  },
  {
   "cell_type": "code",
   "execution_count": 37,
   "id": "c8977b2b",
   "metadata": {},
   "outputs": [
    {
     "name": "stdout",
     "output_type": "stream",
     "text": [
      "mul function starts\n",
      "subtraction function starts\n",
      "anything remains\n",
      "no\n",
      "then call the function\n",
      "sub: 200\n",
      "sub is done\n",
      "mul: 200\n",
      "mul is done\n",
      "addition: 30\n"
     ]
    }
   ],
   "source": [
    "def addition():\n",
    "    n1=10\n",
    "    n2=20\n",
    "    print('addition:',n1+n2)\n",
    "print(\"mul function starts\")\n",
    "def mul():\n",
    "    n1=10\n",
    "    n2=20\n",
    "    print(\"mul:\",n1*n2)\n",
    "    print(\"mul is done\")\n",
    "print(\"subtraction function starts\")\n",
    "def sub():\n",
    "    n1=10\n",
    "    n2=20\n",
    "    print(\"sub:\",n1*n2)\n",
    "    print(\"sub is done\")\n",
    "print(\"anything remains\")\n",
    "print(\"no\")\n",
    "print(\"then call the function\")\n",
    "sub()\n",
    "mul()\n",
    "addition()\n",
    "    \n",
    "    "
   ]
  },
  {
   "cell_type": "code",
   "execution_count": 44,
   "id": "18875a69",
   "metadata": {},
   "outputs": [
    {
     "name": "stdout",
     "output_type": "stream",
     "text": [
      "the addition of 20 and 30 is 50\n"
     ]
    }
   ],
   "source": [
    "def addition(n1,n2):\n",
    "        n1=20\n",
    "        n2=30\n",
    "        add=n1+n2\n",
    "        print(\"the addition of {} and {} is {}\".format(n1,n2,add))\n",
    "addition(20,30)    "
   ]
  },
  {
   "cell_type": "code",
   "execution_count": 45,
   "id": "78ffca04",
   "metadata": {},
   "outputs": [
    {
     "ename": "TypeError",
     "evalue": "addition11() takes 0 positional arguments but 2 were given",
     "output_type": "error",
     "traceback": [
      "\u001b[1;31m---------------------------------------------------------------------------\u001b[0m",
      "\u001b[1;31mTypeError\u001b[0m                                 Traceback (most recent call last)",
      "Cell \u001b[1;32mIn[45], line 4\u001b[0m\n\u001b[0;32m      2\u001b[0m     add\u001b[38;5;241m=\u001b[39mn111\u001b[38;5;241m+\u001b[39mn222\n\u001b[0;32m      3\u001b[0m     \u001b[38;5;28mprint\u001b[39m(\u001b[38;5;124m\"\u001b[39m\u001b[38;5;124mthe addition11 of \u001b[39m\u001b[38;5;132;01m{}\u001b[39;00m\u001b[38;5;124m and \u001b[39m\u001b[38;5;132;01m{}\u001b[39;00m\u001b[38;5;124m:\u001b[39m\u001b[38;5;124m\"\u001b[39m\u001b[38;5;241m.\u001b[39mformat(n1,n2,add))\n\u001b[1;32m----> 4\u001b[0m addition11(\u001b[38;5;241m200\u001b[39m,\u001b[38;5;241m300\u001b[39m)\n",
      "\u001b[1;31mTypeError\u001b[0m: addition11() takes 0 positional arguments but 2 were given"
     ]
    }
   ],
   "source": [
    "def addition11():\n",
    "    add=n111+n222\n",
    "    print(\"the addition11 of {} and {}:\".format(n1,n2,add))\n",
    "addition11(200,300)    "
   ]
  },
  {
   "cell_type": "code",
   "execution_count": 46,
   "id": "04ea0d07",
   "metadata": {},
   "outputs": [
    {
     "name": "stdout",
     "output_type": "stream",
     "text": [
      "num1: 40\n",
      "num2: 50\n",
      "num3: 60\n",
      "the average of 40,50 and 60 is 50.0\n"
     ]
    }
   ],
   "source": [
    "# implementing code is using with arguements\n",
    "\n",
    "\n",
    "def avg1(num1,num2,num3):\n",
    "    print(\"num1:\",num1)\n",
    "    print(\"num2:\",num2)\n",
    "    print(\"num3:\",num3)\n",
    "    avg=(num1+num2+num3)/3\n",
    "    print(\"the average of {},{} and {} is {}\".format(num1,num2,num3,avg))\n",
    "avg1(40,50,60)    "
   ]
  },
  {
   "cell_type": "code",
   "execution_count": null,
   "id": "21dec5d4",
   "metadata": {},
   "outputs": [],
   "source": [
    "num=12345\n",
    "v1=num%10\n",
    "v2"
   ]
  },
  {
   "cell_type": "code",
   "execution_count": null,
   "id": "0acf5d73",
   "metadata": {},
   "outputs": [],
   "source": []
  },
  {
   "cell_type": "code",
   "execution_count": null,
   "id": "df32e320",
   "metadata": {},
   "outputs": [],
   "source": []
  },
  {
   "cell_type": "code",
   "execution_count": null,
   "id": "53b7c7aa",
   "metadata": {},
   "outputs": [],
   "source": []
  },
  {
   "cell_type": "code",
   "execution_count": null,
   "id": "265c89be",
   "metadata": {},
   "outputs": [],
   "source": []
  },
  {
   "cell_type": "code",
   "execution_count": null,
   "id": "0a5b7905",
   "metadata": {},
   "outputs": [],
   "source": []
  }
 ],
 "metadata": {
  "kernelspec": {
   "display_name": "Python 3 (ipykernel)",
   "language": "python",
   "name": "python3"
  },
  "language_info": {
   "codemirror_mode": {
    "name": "ipython",
    "version": 3
   },
   "file_extension": ".py",
   "mimetype": "text/x-python",
   "name": "python",
   "nbconvert_exporter": "python",
   "pygments_lexer": "ipython3",
   "version": "3.11.5"
  }
 },
 "nbformat": 4,
 "nbformat_minor": 5
}
