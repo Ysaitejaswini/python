{
 "cells": [
  {
   "cell_type": "code",
   "execution_count": null,
   "id": "d69cfd7f",
   "metadata": {},
   "outputs": [],
   "source": [
    "-basic syntax\n",
    "-conditional statements\n",
    "-try-exception\n",
    "-functions\n",
    "-loop\n",
    "    .for\n",
    "    .while"
   ]
  },
  {
   "cell_type": "code",
   "execution_count": null,
   "id": "30ffcbf3",
   "metadata": {},
   "outputs": [],
   "source": [
    "For loop"
   ]
  },
  {
   "cell_type": "code",
   "execution_count": null,
   "id": "de743534",
   "metadata": {},
   "outputs": [],
   "source": [
    "    -you will be in the loop\n",
    "    -when you will enter into the loop\n",
    "    -how much time you will stay in the loop\n",
    "    -how you will come out of the from the loop"
   ]
  },
  {
   "cell_type": "code",
   "execution_count": null,
   "id": "d9da53b5",
   "metadata": {},
   "outputs": [],
   "source": [
    "-intialization\n",
    "-increement/decreement\n",
    "-condition to stop the loop"
   ]
  },
  {
   "cell_type": "code",
   "execution_count": null,
   "id": "6a74f818",
   "metadata": {},
   "outputs": [],
   "source": [
    "# i want to print first 10 numbers\n",
    "# intial point: #\n",
    "# increement\n",
    "# cond=10"
   ]
  },
  {
   "cell_type": "code",
   "execution_count": 2,
   "id": "f0fcff07",
   "metadata": {},
   "outputs": [],
   "source": [
    "i=0\n",
    "i=1\n",
    "i=2\n",
    "i=3\n",
    "i=4"
   ]
  },
  {
   "cell_type": "code",
   "execution_count": null,
   "id": "ef5234d4",
   "metadata": {},
   "outputs": [],
   "source": [
    "pattern -1"
   ]
  },
  {
   "cell_type": "code",
   "execution_count": null,
   "id": "c0536288",
   "metadata": {},
   "outputs": [],
   "source": [
    "for i in range(stop):\n",
    "- in the bracket if we have only single value that is consider as stop value\n",
    "- the default start value is=0\n",
    "- python index always start with :0\n",
    "- if direction sign is not mentioned: increement (+) sign\n",
    "- if direction is positive side then end=stop-1    "
   ]
  },
  {
   "cell_type": "code",
   "execution_count": 3,
   "id": "8f13f51a",
   "metadata": {},
   "outputs": [
    {
     "name": "stdout",
     "output_type": "stream",
     "text": [
      "0\n",
      "1\n",
      "2\n",
      "3\n",
      "4\n",
      "5\n",
      "6\n",
      "7\n",
      "8\n",
      "9\n"
     ]
    }
   ],
   "source": [
    "for i in range(10):\n",
    "    print(i)\n",
    "    \n",
    "# start=0\n",
    "# direc=+\n",
    "#"
   ]
  },
  {
   "cell_type": "code",
   "execution_count": null,
   "id": "ea3c85e7",
   "metadata": {},
   "outputs": [],
   "source": []
  },
  {
   "cell_type": "code",
   "execution_count": 4,
   "id": "8dd5af31",
   "metadata": {},
   "outputs": [
    {
     "name": "stdout",
     "output_type": "stream",
     "text": [
      "0\n",
      "1\n",
      "2\n"
     ]
    }
   ],
   "source": [
    "print(0)\n",
    "print(1)\n",
    "print(2)\n",
    "\n",
    "# generalised:print(i)"
   ]
  },
  {
   "cell_type": "code",
   "execution_count": null,
   "id": "9d93f772",
   "metadata": {},
   "outputs": [],
   "source": [
    "- intialization\n",
    "- increement/decreement\n",
    "- condition"
   ]
  },
  {
   "cell_type": "code",
   "execution_count": 11,
   "id": "1d30dc02",
   "metadata": {},
   "outputs": [
    {
     "name": "stdout",
     "output_type": "stream",
     "text": [
      "0 1 2\n"
     ]
    }
   ],
   "source": [
    "print(0,end=' ')\n",
    "print(1,end=' ')\n",
    "print(2)   # 0 1 2\n",
    "\n",
    "#print(1,end='')"
   ]
  },
  {
   "cell_type": "code",
   "execution_count": 1,
   "id": "91e57fb9",
   "metadata": {},
   "outputs": [
    {
     "name": "stdout",
     "output_type": "stream",
     "text": [
      "0\n",
      "1\n",
      "2\n",
      "3\n",
      "4\n",
      "5\n",
      "6\n",
      "7\n",
      "8\n",
      "9\n",
      "10\n",
      "11\n",
      "12\n",
      "13\n",
      "14\n",
      "15\n",
      "16\n",
      "17\n",
      "18\n",
      "19\n"
     ]
    }
   ],
   "source": [
    "for i in range(20):\n",
    "    print(i)\n",
    "    "
   ]
  },
  {
   "cell_type": "code",
   "execution_count": 2,
   "id": "aeeee94a",
   "metadata": {},
   "outputs": [
    {
     "name": "stdout",
     "output_type": "stream",
     "text": [
      "0 1 2 3 4 5 6 7 8 9 10 11 12 13 14 15 16 17 18 19 "
     ]
    }
   ],
   "source": [
    "for i in range(20):\n",
    "    print(i,end=' ')"
   ]
  },
  {
   "cell_type": "code",
   "execution_count": null,
   "id": "592b9d99",
   "metadata": {},
   "outputs": [],
   "source": [
    "# $ pattern-2 $"
   ]
  },
  {
   "cell_type": "code",
   "execution_count": null,
   "id": "0d61e62c",
   "metadata": {},
   "outputs": [],
   "source": [
    "for i in range(start,stop)\n",
    "\n",
    "-start: start of the loop,intail point\n",
    "-direction sign not mentioned: +ve direction i.e.increement\n",
    "-end=stop-1   "
   ]
  },
  {
   "cell_type": "code",
   "execution_count": 6,
   "id": "ab2b6354",
   "metadata": {},
   "outputs": [
    {
     "name": "stdout",
     "output_type": "stream",
     "text": [
      "80 81 82 83 84 85 86 87 88 89 "
     ]
    }
   ],
   "source": [
    "for i in range(80,90):\n",
    "    print(i,end=' ')\n",
    "    \n",
    "  # start=10  pos  end=20-1=10  #\n"
   ]
  },
  {
   "cell_type": "code",
   "execution_count": null,
   "id": "c08bf857",
   "metadata": {},
   "outputs": [],
   "source": [
    "$ pattern-3 $"
   ]
  },
  {
   "cell_type": "code",
   "execution_count": null,
   "id": "9c7a3bd0",
   "metadata": {},
   "outputs": [],
   "source": [
    "for i in range(start,stop,step)\n",
    "-start: start of the loop,intial point\n",
    "-direction:what is sign of step value,that is the direction\n",
    "    -direction will not decide by start and stop value\n",
    "    -direction will provided by step value\n",
    "-#    "
   ]
  },
  {
   "cell_type": "code",
   "execution_count": 13,
   "id": "c35912c0",
   "metadata": {},
   "outputs": [
    {
     "name": "stdout",
     "output_type": "stream",
     "text": [
      "2  4  6  8  10  12  14  16  18  "
     ]
    }
   ],
   "source": [
    "for i in range(2,20,2):\n",
    "    print(i,end='  ')\n",
    "    \n",
    "# start=2\n",
    "# direction: step=+2\n",
    "# end=stop-1=20 1=10\n",
    "\n",
    "\n",
    "# 2 4 6 8 10 12 14 16 18 <20>\n"
   ]
  },
  {
   "cell_type": "code",
   "execution_count": 7,
   "id": "aea449ee",
   "metadata": {},
   "outputs": [
    {
     "name": "stdout",
     "output_type": "stream",
     "text": [
      "-2  -5  -8  -11  -14  -17  "
     ]
    }
   ],
   "source": [
    "for i in range(-2,-20,-3):\n",
    "    print(i,end='  ')\n",
    "    \n",
    "    \n",
    "# start=-2\n",
    "# direction:step=-2\n",
    "# end=stop+1= -+1=0\n",
    "# is this pos"
   ]
  },
  {
   "cell_type": "code",
   "execution_count": 24,
   "id": "8a9a1b54",
   "metadata": {},
   "outputs": [],
   "source": [
    "for i in range(8,20,-2):\n",
    "    print(i,end=' ')\n"
   ]
  },
  {
   "cell_type": "code",
   "execution_count": null,
   "id": "b3305b68",
   "metadata": {},
   "outputs": [],
   "source": [
    "range(3,25,3)\n",
    "range(3,25,-3)\n",
    "range(3,-25,3)\n",
    "range(3,-25,-3)\n",
    "range(-3,25,3)\n",
    "range(-3,-25,3)\n",
    "range(-3,25,-3)\n",
    "range(-3,-25,-3)"
   ]
  },
  {
   "cell_type": "code",
   "execution_count": 25,
   "id": "1a810199",
   "metadata": {},
   "outputs": [
    {
     "name": "stdout",
     "output_type": "stream",
     "text": [
      "3 6 9 12 15 18 21 24 "
     ]
    }
   ],
   "source": [
    "for i in range(3,25,3):\n",
    "    print(i,end=' ')\n"
   ]
  },
  {
   "cell_type": "code",
   "execution_count": 26,
   "id": "9527a73b",
   "metadata": {},
   "outputs": [],
   "source": [
    "for i in range(3,25,-3):\n",
    "    print(i,end=' ')\n"
   ]
  },
  {
   "cell_type": "code",
   "execution_count": 8,
   "id": "201f9854",
   "metadata": {},
   "outputs": [],
   "source": [
    "for i in range(3,-25,3):\n",
    "    print(i,end=' ')\n"
   ]
  },
  {
   "cell_type": "code",
   "execution_count": 28,
   "id": "96bb2463",
   "metadata": {},
   "outputs": [
    {
     "name": "stdout",
     "output_type": "stream",
     "text": [
      "3 0 -3 -6 -9 -12 -15 -18 -21 -24 "
     ]
    }
   ],
   "source": [
    "for i in range(3,-25,-3):\n",
    "    print(i,end=' ')\n"
   ]
  },
  {
   "cell_type": "code",
   "execution_count": 29,
   "id": "deb36f68",
   "metadata": {},
   "outputs": [
    {
     "name": "stdout",
     "output_type": "stream",
     "text": [
      "-3 0 3 6 9 12 15 18 21 24 "
     ]
    }
   ],
   "source": [
    "for i in range(-3,25,3):\n",
    "    print(i,end=' ')\n"
   ]
  },
  {
   "cell_type": "code",
   "execution_count": 30,
   "id": "7a49b1e9",
   "metadata": {},
   "outputs": [],
   "source": [
    "for i in range(-3,-25,3):\n",
    "    print(i,end=' ')\n"
   ]
  },
  {
   "cell_type": "code",
   "execution_count": 31,
   "id": "3df8ee13",
   "metadata": {},
   "outputs": [],
   "source": [
    "for i in range(-3,25,-3):\n",
    "    print(i,end=' ')\n"
   ]
  },
  {
   "cell_type": "code",
   "execution_count": 32,
   "id": "a43de3a1",
   "metadata": {},
   "outputs": [
    {
     "name": "stdout",
     "output_type": "stream",
     "text": [
      "-3 -6 -9 -12 -15 -18 -21 -24 "
     ]
    }
   ],
   "source": [
    "for i in range(-3,-25,-3):\n",
    "    print(i,end=' ')\n"
   ]
  },
  {
   "cell_type": "code",
   "execution_count": 41,
   "id": "c378ab75",
   "metadata": {},
   "outputs": [
    {
     "name": "stdout",
     "output_type": "stream",
     "text": [
      "sanvi\n",
      "teju\n",
      "sanvi\n",
      "teju\n",
      "sanvi\n",
      "teju\n"
     ]
    }
   ],
   "source": [
    "# WAP print : hello 3 times/iteration =======> loop\n",
    "\n",
    "# first set up the loop\n",
    "for i in range(3):\n",
    "    print('sanvi')\n",
    "    print('teju')"
   ]
  },
  {
   "cell_type": "code",
   "execution_count": 3,
   "id": "ca4aa080",
   "metadata": {},
   "outputs": [
    {
     "name": "stdout",
     "output_type": "stream",
     "text": [
      "hai\n",
      "hello\n",
      "hello\n",
      "hello\n",
      "how do you do\n"
     ]
    }
   ],
   "source": [
    "+print('hai')\n",
    "for i in range(3):\n",
    "    print('hello')\n",
    "print('how do you do')"
   ]
  },
  {
   "cell_type": "code",
   "execution_count": 4,
   "id": "7c191fe7",
   "metadata": {},
   "outputs": [
    {
     "name": "stdout",
     "output_type": "stream",
     "text": [
      "A\n",
      "A\n",
      "A\n",
      "B\n",
      "B\n",
      "C\n",
      "C\n",
      "C\n"
     ]
    }
   ],
   "source": [
    "# A \n",
    "# A\n",
    "# A\n",
    "# B\n",
    "# B\n",
    "# C\n",
    "# C\n",
    "# C\n",
    "\n",
    "\n",
    "for i in range (3):\n",
    "    print('A')\n",
    "for i in range (2):\n",
    "    print('B')\n",
    "for i in range (3):\n",
    "    print('C')"
   ]
  },
  {
   "cell_type": "code",
   "execution_count": 8,
   "id": "432e98cc",
   "metadata": {},
   "outputs": [
    {
     "name": "stdout",
     "output_type": "stream",
     "text": [
      "A\n",
      "B\n",
      "A\n",
      "B\n",
      "A\n",
      "B\n",
      "C\n",
      "C\n",
      "C\n"
     ]
    }
   ],
   "source": [
    "# A\n",
    "# B\n",
    "# A\n",
    "# B\n",
    "# A\n",
    "# B\n",
    "# C\n",
    "# C\n",
    "# C\n",
    "\n",
    "\n",
    "for i in range (3):\n",
    "    print('A')\n",
    "    print('B')\n",
    "for i in range (3):\n",
    "    print('C')\n",
    "    "
   ]
  },
  {
   "cell_type": "code",
   "execution_count": 13,
   "id": "6abc20af",
   "metadata": {},
   "outputs": [
    {
     "name": "stdout",
     "output_type": "stream",
     "text": [
      "the square of 10 is 100\n",
      "the square of 11 is 121\n",
      "the square of 12 is 144\n",
      "the square of 13 is 169\n",
      "the square of 14 is 196\n"
     ]
    }
   ],
   "source": [
    "# WAP ask the user get the square of the numbers \n",
    "# between 10 to 15\n",
    "# square of 10 is 100\n",
    "# square of 11 is 121\n",
    "# square of 12 is 144\n",
    "\n",
    "# first get the numbers from 10 to 15\n",
    "\n",
    "for i in range(10,15):\n",
    "    print(\"the square of {} is {}\".format(i,i*i))"
   ]
  },
  {
   "cell_type": "code",
   "execution_count": 16,
   "id": "6607fe17",
   "metadata": {
    "scrolled": true
   },
   "outputs": [
    {
     "name": "stdout",
     "output_type": "stream",
     "text": [
      "enter the number:10\n",
      "enter the number:16\n",
      "the square of 10 is 100\n",
      "the square of 11 is 121\n",
      "the square of 12 is 144\n",
      "the square of 13 is 169\n",
      "the square of 14 is 196\n",
      "the square of 15 is 225\n"
     ]
    }
   ],
   "source": [
    "# WAP the same above question\n",
    "# take the numbers from keyboard\n",
    "# num1=eval(input())  10\n",
    "# num2=eval(input())  16\n",
    "# replace 10,16 in for loop with variables num1,num2\n",
    "\n",
    "\n",
    "num1=eval(input(\"enter the number:\"))\n",
    "num2=eval(input(\"enter the number:\"))\n",
    "for i in range(num1,num2):\n",
    "    print(\"the square of {} is {}\".format(i,i*i))"
   ]
  },
  {
   "cell_type": "code",
   "execution_count": 26,
   "id": "ee9bcf83",
   "metadata": {},
   "outputs": [
    {
     "name": "stdout",
     "output_type": "stream",
     "text": [
      "enter the number1:20\n",
      "enter the number1:30\n",
      "the square of 20 is 400\n",
      "the square of 21 is 441\n",
      "the square of 22 is 484\n",
      "the square of 23 is 529\n",
      "the square of 24 is 576\n",
      "the square of 25 is 625\n",
      "the square of 26 is 676\n",
      "the square of 27 is 729\n",
      "the square of 28 is 784\n",
      "the square of 29 is 841\n"
     ]
    }
   ],
   "source": [
    "# num1=eval(input(\"enter the number\"))\n",
    "# num2=eval(input(\"enter the number\"))\n",
    "\n",
    "\n",
    "num1=eval(input(\"enter the number1:\"))\n",
    "num2=eval(input(\"enter the number1:\"))\n",
    "for i in range(num1,num2):\n",
    "    print(\"the square of {} is {}\".format(i,i*i))"
   ]
  },
  {
   "cell_type": "code",
   "execution_count": 22,
   "id": "2bca238f",
   "metadata": {},
   "outputs": [
    {
     "name": "stdout",
     "output_type": "stream",
     "text": [
      "enter the number:15\n",
      "enter the number:20\n",
      "the square of 15 is 225\n",
      "the square of 16 is 256\n",
      "the square of 17 is 289\n",
      "the square of 18 is 324\n",
      "the square of 19 is 361\n"
     ]
    }
   ],
   "source": [
    "# function with out arguements\n",
    "def square():\n",
    "    num1=eval(input('enter the number:'))\n",
    "    num2=eval(input('enter the number:'))\n",
    "    for i in range(num1,num2):\n",
    "        print(\"the square of {} is {}\".format(i,i*i))\n",
    "square() \n",
    "\n",
    "\n",
    "\n",
    "\n",
    "# function with arguements\n",
    "def square1(num1,num2):\n",
    "        \n",
    "    for i in range(num1,num2):\n",
    "        print(\"the square of {} is {}\".format(i,i*i))\n",
    "square1(10,20)        \n",
    "        "
   ]
  },
  {
   "cell_type": "code",
   "execution_count": 28,
   "id": "e5a03b9f",
   "metadata": {},
   "outputs": [
    {
     "name": "stdout",
     "output_type": "stream",
     "text": [
      "enter start number:30\n",
      "enter stop number:40\n",
      "the square of 30 is 900\n",
      "the square of 31 is 961\n",
      "the square of 32 is 1024\n",
      "the square of 33 is 1089\n",
      "the square of 34 is 1156\n",
      "the square of 35 is 1225\n",
      "the square of 36 is 1296\n",
      "the square of 37 is 1369\n",
      "the square of 38 is 1444\n",
      "the square of 39 is 1521\n"
     ]
    }
   ],
   "source": [
    "def square1():\n",
    "    num1=eval(input('enter start number:'))\n",
    "    num2=eval(input('enter stop number:'))\n",
    "    for i in range(num1,num2):\n",
    "        print(\"the square of {} is {}\".format(i,i*i))\n",
    "square1()        \n",
    "    "
   ]
  },
  {
   "cell_type": "code",
   "execution_count": 23,
   "id": "b2577374",
   "metadata": {},
   "outputs": [
    {
     "name": "stdout",
     "output_type": "stream",
     "text": [
      "the square of 10 is 100\n",
      "the square of 11 is 121\n",
      "the square of 12 is 144\n",
      "the square of 13 is 169\n",
      "the square of 14 is 196\n",
      "the square of 15 is 225\n",
      "the square of 16 is 256\n",
      "the square of 17 is 289\n",
      "the square of 18 is 324\n",
      "the square of 19 is 361\n"
     ]
    }
   ],
   "source": [
    "# function with arguements\n",
    "def square1(num1,num2):\n",
    "        \n",
    "    for i in range(num1,num2):\n",
    "        print(\"the square of {} is {}\".format(i,i*i))\n",
    "square1(10,20)        \n",
    "        \n",
    "        "
   ]
  },
  {
   "cell_type": "code",
   "execution_count": 48,
   "id": "e8bb31e0",
   "metadata": {},
   "outputs": [
    {
     "name": "stdout",
     "output_type": "stream",
     "text": [
      "enter a number:5\n",
      "the square of 5 is25:\n",
      "enter a number:10\n",
      "the square of 10 is100:\n",
      "enter a number:1000\n",
      "the square of 1000 is1000000:\n",
      "enter a number:2000\n",
      "the square of 2000 is4000000:\n",
      "enter a number:1000000\n",
      "the square of 1000000 is1000000000000:\n"
     ]
    }
   ],
   "source": [
    "# WAP ask the user to print square of the five numbers\n",
    "# and these five numbers you need ask the user every time\n",
    "for i in range(5):\n",
    "    num=eval(input('enter a number:'))\n",
    "    print(\"the square of {} is{}:\".format(num,num*num))"
   ]
  },
  {
   "cell_type": "code",
   "execution_count": 39,
   "id": "ee6dd509",
   "metadata": {},
   "outputs": [
    {
     "name": "stdout",
     "output_type": "stream",
     "text": [
      "the square of 8 is 64:\n",
      "the square of 7 is 49:\n",
      "the square of 3 is 9:\n",
      "the square of 9 is 81:\n",
      "the square of 8 is 64:\n"
     ]
    }
   ],
   "source": [
    "import random\n",
    "for i in range(5):\n",
    "    num=random.randint(1,10)\n",
    "    print(\"the square of {} is {}:\".format(num,num*num))"
   ]
  },
  {
   "cell_type": "code",
   "execution_count": 36,
   "id": "a0abac3a",
   "metadata": {},
   "outputs": [
    {
     "name": "stdout",
     "output_type": "stream",
     "text": [
      "the square of 20 is 400\n",
      "the square of 9 is 81\n",
      "the square of 15 is 225\n",
      "the square of 13 is 169\n",
      "the square of 16 is 256\n"
     ]
    }
   ],
   "source": [
    "# WAP ask the user to print five times square of a number\n",
    "# this time you need to take every time a random between 1 to 20\n",
    "\n",
    "\n",
    "import random\n",
    "for i in range(5):\n",
    "    num=random.randint(1,20)\n",
    "    print(\"the square of {} is {}\".format(num,num*num))"
   ]
  },
  {
   "cell_type": "code",
   "execution_count": 44,
   "id": "46d54545",
   "metadata": {},
   "outputs": [
    {
     "name": "stdout",
     "output_type": "stream",
     "text": [
      "the given 10 is even\n",
      "the given 11 is odd\n",
      "the given 12 is even\n",
      "the given 13 is odd\n",
      "the given 14 is even\n",
      "the given 15 is odd\n",
      "the given 16 is even\n",
      "the given 17 is odd\n",
      "the given 18 is even\n",
      "the given 19 is odd\n",
      "the given 20 is even\n",
      "the given 21 is odd\n",
      "the given 22 is even\n",
      "the given 23 is odd\n",
      "the given 24 is even\n",
      "the given 25 is odd\n",
      "the given 26 is even\n",
      "the given 27 is odd\n",
      "the given 28 is even\n",
      "the given 29 is odd\n",
      "the given 30 is even\n"
     ]
    }
   ],
   "source": [
    "#WAP ask the user print the given number is even or odd\n",
    "# you need to take the number between 10 30\n",
    "\n",
    "# iterate the loop between 10 and 30\n",
    "# every time apply if i%2==0: print even\n",
    "#                else : print odd\n",
    "\n",
    "\n",
    "for num in range(10,31):\n",
    "    if num%2==0:\n",
    "        print(\"the given {} is even\".format(num))\n",
    "    else:\n",
    "        print(\"the given {} is odd\".format(num))"
   ]
  },
  {
   "cell_type": "code",
   "execution_count": 45,
   "id": "3a8bb1d4",
   "metadata": {},
   "outputs": [
    {
     "name": "stdout",
     "output_type": "stream",
     "text": [
      "the given 27 is odd\n",
      "the given 11 is odd\n",
      "the given 12 is even\n",
      "the given 21 is odd\n",
      "the given 22 is even\n"
     ]
    }
   ],
   "source": [
    "# WAP ask the user print the given number is even or odd\n",
    "# you need to take the number between randomly between 10 and 30\n",
    "# this process you need to 5 times\n",
    "\n",
    "# create a for loop to run 5 times\n",
    "# every time get the random number\n",
    "# finally apply if-else condition : it is an even and odd\n",
    "\n",
    "\n",
    "def even_odd(num):\n",
    "    if num%2==0:\n",
    "        print(\"the given {} is even\".format(num))\n",
    "    else:\n",
    "        print(\"the given {} is odd\".format(num))\n",
    "import random\n",
    "for i in range(5):\n",
    "    num=random.randint(10,30)\n",
    "    even_odd(num)"
   ]
  },
  {
   "cell_type": "code",
   "execution_count": 46,
   "id": "bcf5666b",
   "metadata": {},
   "outputs": [
    {
     "name": "stdout",
     "output_type": "stream",
     "text": [
      "enter number between 1 and 10:7\n",
      "you lost\n",
      "enter number between 1 and 10:5\n",
      "you lost\n",
      "enter number between 1 and 10:10\n",
      "you lost\n"
     ]
    }
   ],
   "source": [
    "# 5 lines\n",
    "# take a random number from random package 1 to 10\n",
    "\n",
    "#=========== you need to repeat 3 times=========\n",
    "# ask the user enter a number between 1 to 10\n",
    "# if the number == random number:\n",
    "#           print('you won')\n",
    "# else:\n",
    "#          print('you lost')\n",
    "\n",
    "import random\n",
    "random_num=random.randint(1,10)\n",
    "for i in range(3):\n",
    "    user_num=eval(input(\"enter number between 1 and 10:\"))\n",
    "    if user_num==random_num:\n",
    "            print(\"you won\")\n",
    "            break\n",
    "\n",
    "    else:\n",
    "            print(\"you lost\")\n",
    "    \n"
   ]
  },
  {
   "cell_type": "code",
   "execution_count": 48,
   "id": "8d5d1d21",
   "metadata": {},
   "outputs": [
    {
     "name": "stdout",
     "output_type": "stream",
     "text": [
      "2\n",
      "enter number between 1 and 10:5\n",
      "you lost\n",
      "the number of chances left is: 2\n",
      "enter number between 1 and 10:1\n",
      "you lost\n",
      "the number of chances left is: 1\n",
      "enter number between 1 and 10:3\n",
      "you lost\n",
      "the number of chances left is: 0\n"
     ]
    }
   ],
   "source": [
    "import random\n",
    "random_num=random.randint(1,10)\n",
    "print(random_num)\n",
    "for i in range(3):\n",
    "    user_num=eval(input(\"enter number between 1 and 10:\"))\n",
    "    if user_num==random_num:\n",
    "            print(\"you won\")\n",
    "            break\n",
    "\n",
    "    else:\n",
    "            print(\"you lost\")\n",
    "            print(\"the number of chances left is:\",2-i)\n",
    "    "
   ]
  },
  {
   "cell_type": "code",
   "execution_count": 59,
   "id": "2c13316b",
   "metadata": {},
   "outputs": [
    {
     "name": "stdout",
     "output_type": "stream",
     "text": [
      "enter how many chances you want:3\n",
      "5\n",
      "enter number between 1 and 10:6\n",
      "you lost\n",
      "the number of chances left is: 2\n",
      "enter number between 1 and 10:6\n",
      "you lost\n",
      "the number of chances left is: 1\n",
      "enter number between 1 and 10:7\n",
      "you lost\n",
      "the number of chances left is: 0\n"
     ]
    }
   ],
   "source": [
    "# improvise above code\n",
    "# you need to mention number of chances left\n",
    "# the user whenever he fail/loser\n",
    "\n",
    "\n",
    "import random\n",
    "random_num=random.randint(1,10)\n",
    "chances=eval(input(\"enter how many chances you want:\"))\n",
    "print(random_num)\n",
    "for i in range(3):\n",
    "    user_num=eval(input(\"enter number between 1 and 10:\"))\n",
    "    if user_num==random_num:\n",
    "            print(\"you won\")\n",
    "            break\n",
    "\n",
    "    else:\n",
    "            print(\"you lost\")\n",
    "            print(\"the number of chances left is:\",chances-1-i)\n"
   ]
  },
  {
   "cell_type": "code",
   "execution_count": 69,
   "id": "16a6b8c2",
   "metadata": {},
   "outputs": [
    {
     "name": "stdout",
     "output_type": "stream",
     "text": [
      "1\n",
      "enter how many chances you want:4\n",
      "1\n",
      "enter number between 1 and 10:5\n",
      "you lost\n",
      "the number of chances left is: 3\n",
      "enter number between 1 and 10:6\n",
      "you lost\n",
      "the number of chances left is: 2\n",
      "enter number between 1 and 10:8\n",
      "you lost\n",
      "the number of chances left is: 1\n",
      "enter number between 1 and 10:9\n",
      "you lost\n",
      "all chances are over\n",
      "ple try again \n"
     ]
    }
   ],
   "source": [
    "# improvise above code\n",
    "# whenever the user lost all the chances\n",
    "# it should print all the chances are over\n",
    "# print('ple try again after 10 mins')\n",
    "\n",
    "\n",
    "import random\n",
    "random_num=random.randint(1,10)\n",
    "print(random_num)\n",
    "chances=eval(input(\"enter how many chances you want:\"))\n",
    "print(random_num)\n",
    "for i in range(chances):\n",
    "    user_num=eval(input(\"enter number between 1 and 10:\"))\n",
    "    if user_num==random_num:\n",
    "            print(\"you won\")\n",
    "            break\n",
    "    elif chances-1-i==0:\n",
    "        print(\"you lost\")\n",
    "        print(\"all chances are over\")\n",
    "        print(\"ple try again \")\n",
    "\n",
    "    else:\n",
    "            print(\"you lost\")\n",
    "            print(\"the number of chances left is:\",chances-1-i)"
   ]
  },
  {
   "cell_type": "code",
   "execution_count": 2,
   "id": "1f0ec983",
   "metadata": {},
   "outputs": [
    {
     "name": "stdout",
     "output_type": "stream",
     "text": [
      "0+1 is:\n",
      "1\n",
      "1+2 is:\n",
      "3\n",
      "3+3 is:\n",
      "6\n",
      "6+4 is:\n",
      "10\n",
      "10+5 is:\n",
      "15\n",
      "15+6 is:\n",
      "21\n",
      "21+7 is:\n",
      "28\n",
      "28+8 is:\n",
      "36\n",
      "36+9 is:\n",
      "45\n",
      "45+10 is:\n",
      "55\n",
      "the sum of first 10 natural numbers is: 55\n"
     ]
    }
   ],
   "source": [
    "# WAP ask the user get the sum of 10 natural numbers\n",
    "# 1+2+3+4+5+6+7+8+9+10\n",
    "\n",
    "summ=0\n",
    "for i in range(1,11):\n",
    "        print(\"{}+{} is:\".format(summ,i))\n",
    "        summ=summ+i                            # 1+2=1\n",
    "        print(summ)\n",
    "print(\"the sum of first 10 natural numbers is:\",summ)    # in this loop the last value is 55\n",
    "        \n",
    " # 0+1=1\n",
    " # 1+2=3\n",
    " # 3+3=6\n",
    " # 6+4=10\n",
    " # 10+5=15\n",
    " # 15+6=21\n",
    " # 21+7=28\n",
    " # (sum)+(i)="
   ]
  },
  {
   "cell_type": "code",
   "execution_count": 5,
   "id": "836f2c66",
   "metadata": {},
   "outputs": [
    {
     "name": "stdout",
     "output_type": "stream",
     "text": [
      "0\n",
      "1\n",
      "2\n",
      "3\n",
      "4\n",
      "5\n",
      "6\n",
      "7\n",
      "8\n",
      "9\n"
     ]
    }
   ],
   "source": [
    "for i in range(10):\n",
    "    num=i\n",
    "    print(i)"
   ]
  },
  {
   "cell_type": "raw",
   "id": "e61fb6e5",
   "metadata": {},
   "source": [
    "- whenever if you want implement counter program\n",
    "- summ program\n",
    "- like: summ=0 or count=0\n",
    "- inside the loop based on the problem update the variable\n",
    "- like: summ=summ+i or count=count+i\n",
    "- like: summ+=i or count+=i   "
   ]
  },
  {
   "cell_type": "code",
   "execution_count": 35,
   "id": "eef7c777",
   "metadata": {},
   "outputs": [
    {
     "name": "stdout",
     "output_type": "stream",
     "text": [
      "0\n",
      "the given 18 is even\n",
      "1\n",
      "the given 27 is odd\n",
      "3\n",
      "the given 20 is even\n",
      "6\n",
      "the given 30 is even\n",
      "10\n",
      "the given 16 is even\n"
     ]
    }
   ],
   "source": [
    "# WAP ask the user print the given number is even or odd\n",
    "# you need to take the number between randomly between 10 and 30\n",
    "# this process you need to 5 times\n",
    "\n",
    "# create a for loop to run 5 times\n",
    "# every time get the random number\n",
    "# finally apply if-else condition : it is an even and odd\n",
    "# improvise this problem\n",
    "# by count the number of even and odd number adds you are getting\n",
    "\n",
    "count=0\n",
    "import random\n",
    "for i in range(5):\n",
    "    num=random.randint(10,30)\n",
    "    count=count+i\n",
    "    print(count)\n",
    "    if num%2==0:\n",
    "        print(\"the given {} is even\".format(num))\n",
    "    else:\n",
    "        print(\"the given {} is odd\".format(num))"
   ]
  },
  {
   "cell_type": "code",
   "execution_count": 25,
   "id": "36755a74",
   "metadata": {},
   "outputs": [
    {
     "name": "stdout",
     "output_type": "stream",
     "text": [
      "the given number is 26 even:\n",
      "the given number is 16 even:\n",
      "the given number is 25 odd:\n",
      "the given number is 26 even:\n",
      "the given number is 28 even:\n"
     ]
    }
   ],
   "source": [
    "def even_odd(num):\n",
    "    if num%2==0:\n",
    "        print(\"the given number is {} even:\".format(num))\n",
    "    else:\n",
    "        print(\"the given number is {} odd:\".format(num))\n",
    "import random\n",
    "for i in range(5):\n",
    "    num=random.randint(10,30)\n",
    "    even_odd(num)    \n",
    "        "
   ]
  },
  {
   "cell_type": "code",
   "execution_count": 28,
   "id": "5a075808",
   "metadata": {},
   "outputs": [
    {
     "name": "stdout",
     "output_type": "stream",
     "text": [
      "when is even: 0\n",
      "the given 28 is even\n",
      "when is even: 1\n",
      "the given 20 is even\n",
      "when is odd: 2\n",
      "the given 13 is odd\n",
      "when is even: 3\n",
      "the given 26 is even\n",
      "when is even: 4\n",
      "the given 24 is even\n",
      "when is odd: 5\n",
      "the given 21 is odd\n",
      "when is odd: 6\n",
      "the given 25 is odd\n",
      "when is even: 7\n",
      "the given 14 is even\n",
      "when is odd: 8\n",
      "the given 23 is odd\n",
      "when is odd: 9\n",
      "the given 29 is odd\n",
      "5 5\n"
     ]
    }
   ],
   "source": [
    "odd_count=0\n",
    "even_count=0\n",
    "import random\n",
    "for i in range(10):\n",
    "    num=random.randint(10,30)\n",
    "    if num%2==0:\n",
    "        print('when is even:',i)\n",
    "        print(\"the given {} is even\".format(num))\n",
    "        even_count=even_count+1\n",
    "    else:\n",
    "        print('when is odd:',i)\n",
    "        print(\"the given {} is odd\".format(num))\n",
    "        odd_count=odd_count+1\n",
    "print(even_count,odd_count)        "
   ]
  },
  {
   "cell_type": "code",
   "execution_count": 15,
   "id": "8af83596",
   "metadata": {},
   "outputs": [
    {
     "name": "stdout",
     "output_type": "stream",
     "text": [
      "64\n",
      "79\n",
      "75\n",
      "74\n",
      "94\n",
      "86\n",
      "the number of values more than 50 is: 6\n"
     ]
    }
   ],
   "source": [
    "# WAP ask the user take a random number between 1 to 99\n",
    "# iterate the loop 10 times\n",
    "# count how many times a number is coming and greater than 50\n",
    "\n",
    "import random\n",
    "count=0\n",
    "for i in range(10):\n",
    "    num=random.randint(1,99)\n",
    "    if num>50:\n",
    "        print(num)\n",
    "        count+=1\n",
    "print(\"the number of values more than 50 is:\",count)        "
   ]
  },
  {
   "cell_type": "code",
   "execution_count": 29,
   "id": "5043e3fc",
   "metadata": {},
   "outputs": [
    {
     "name": "stdout",
     "output_type": "stream",
     "text": [
      "enter which number divisiors want to know10\n",
      "10 is divisible by 1\n",
      "10 is divisible by 2\n",
      "10 is divisible by 5\n",
      "10 is divisible by 10\n",
      "the number of dividiors are: 10\n"
     ]
    }
   ],
   "source": [
    "# Number of divisiors program\n",
    "# 10 is divisible by what numbers\n",
    "# 10/1 10/2 10/3 10/4 10/5 10/6 10/7 10/8 10/9 10/10\n",
    "# (num/i)%2==0\n",
    "# 5 divisiors : 1 to 5\n",
    "\n",
    "\n",
    "num=eval(input(\"enter which number divisiors want to know\"))\n",
    "for i in range(1,num+1):\n",
    "    if num%i==0:\n",
    "        print(\"{} is divisible by {}\".format(num,i))\n",
    "        count=count+1\n",
    "print(\"the number of dividiors are:\",count)    \n",
    "    "
   ]
  },
  {
   "cell_type": "code",
   "execution_count": 30,
   "id": "61d21a50",
   "metadata": {},
   "outputs": [
    {
     "name": "stdout",
     "output_type": "stream",
     "text": [
      "enter which number divisiors want to know10\n",
      "10 is divisible by 1\n",
      "10 is divisible by 2\n",
      "10 is divisible by 5\n",
      "10 is divisible by 10\n",
      "the number of divisiors are: 10\n",
      "the number of non divisiors count is: 6\n"
     ]
    }
   ],
   "source": [
    "d_count=0\n",
    "nd_count=0\n",
    "num=eval(input(\"enter which number divisiors want to know\"))\n",
    "for i in range(1,num+1):\n",
    "    if num%i==0:\n",
    "        print(\"{} is divisible by {}\".format(num,i))\n",
    "        d_count=d_count+1\n",
    "    else:\n",
    "        nd_count=nd_count+1\n",
    "print(\"the number of divisiors are:\",count)\n",
    "print(\"the number of non divisiors count is:\",(nd_count))"
   ]
  },
  {
   "cell_type": "code",
   "execution_count": 34,
   "id": "3cbbcb4c",
   "metadata": {},
   "outputs": [
    {
     "name": "stdout",
     "output_type": "stream",
     "text": [
      "enter which number divisiors want to know10\n",
      "10 is divisible by 1\n",
      "10 is divisible by 2\n",
      "10 is divisible by 5\n",
      "10 is divisible by 10\n",
      "the number of divisiors are: 10\n",
      "the number of non divisiors count is: 24\n"
     ]
    }
   ],
   "source": [
    "def counter2():\n",
    "    d_count=0\n",
    "    nd_count=0\n",
    "num=eval(input(\"enter which number divisiors want to know\"))\n",
    "for i in range(1,num+1):\n",
    "    if num%i==0:\n",
    "        print(\"{} is divisible by {}\".format(num,i))\n",
    "        d_count=d_count+1\n",
    "    else:\n",
    "        nd_count=nd_count+1 \n",
    "print(\"the number of divisiors are:\",count)\n",
    "print(\"the number of non divisiors count is:\",(nd_count))\n",
    "counter2()\n"
   ]
  },
  {
   "cell_type": "code",
   "execution_count": 57,
   "id": "ec2ba898",
   "metadata": {},
   "outputs": [
    {
     "name": "stdout",
     "output_type": "stream",
     "text": [
      "enter which number divisiors want to know10\n",
      "10 is divisible by 1\n",
      "10 is divisible by 2\n",
      "10 is divisible by 5\n",
      "10 is divisible by 10\n",
      "enter which number divisiors want to know5\n",
      "5 is divisible by 1\n",
      "5 is divisible by 5\n"
     ]
    },
    {
     "data": {
      "text/plain": [
       "(6, 9)"
      ]
     },
     "execution_count": 57,
     "metadata": {},
     "output_type": "execute_result"
    }
   ],
   "source": [
    "def counter2():\n",
    "    d_count=0\n",
    "    nd_count=0\n",
    "    num=eval(input(\"enter which number divisiors want to know\"))\n",
    "    for i in range(1,num+1):\n",
    "        if num%i==0:\n",
    "            print(\"{} is divisible by {}\".format(num,i))\n",
    "            d_count=d_count+i\n",
    "        else:\n",
    "            nd_count=nd_count+i \n",
    "    return(d_count,nd_count)\n",
    "val1,val2=counter2()\n",
    "counter2()\n"
   ]
  },
  {
   "cell_type": "code",
   "execution_count": null,
   "id": "c7388d28",
   "metadata": {},
   "outputs": [],
   "source": [
    "- whenever if you want implement counter program\n",
    "- "
   ]
  },
  {
   "cell_type": "code",
   "execution_count": 56,
   "id": "63e34779",
   "metadata": {},
   "outputs": [
    {
     "name": "stdout",
     "output_type": "stream",
     "text": [
      "enter which number divisiors want to know5\n",
      "5 is divisible by 1\n",
      "enter which number divisiors want to know7\n",
      "7 is divisible by 1\n"
     ]
    },
    {
     "data": {
      "text/plain": [
       "(1, 0)"
      ]
     },
     "execution_count": 56,
     "metadata": {},
     "output_type": "execute_result"
    }
   ],
   "source": [
    "def counter2():\n",
    "    d_count=0\n",
    "    nd_count=0\n",
    "    num=eval(input(\"enter which number divisiors want to know\"))\n",
    "    for i in range(1,num+1):\n",
    "        if num%i==0:\n",
    "            print(\"{} is divisible by {}\".format(num,i))\n",
    "            d_count=d_count+1\n",
    "        else:\n",
    "            nd_count=nd_count+1 \n",
    "        \n",
    "        return(d_count,nd_count)\n",
    "\n",
    "val,val2=counter2()\n",
    "counter2()"
   ]
  },
  {
   "cell_type": "code",
   "execution_count": 58,
   "id": "89ed580c",
   "metadata": {},
   "outputs": [
    {
     "name": "stdout",
     "output_type": "stream",
     "text": [
      "enter which divisiors want to know:15\n",
      "15 is divisible by 1\n",
      "15 is divisible by 3\n",
      "15 is divisible by 5\n",
      "15 is divisible by 15\n",
      "enter which divisiors want to know:10\n",
      "10 is divisible by 1\n",
      "10 is divisible by 2\n",
      "10 is divisible by 5\n",
      "10 is divisible by 10\n"
     ]
    },
    {
     "data": {
      "text/plain": [
       "(18, 0)"
      ]
     },
     "execution_count": 58,
     "metadata": {},
     "output_type": "execute_result"
    }
   ],
   "source": [
    "def counter2():\n",
    "    d_count=0\n",
    "    nd_count=0\n",
    "    num=eval(input(\"enter which divisiors want to know:\"))\n",
    "    for i in range(1,num+1):\n",
    "        if num%i==0:\n",
    "            print(\"{} is divisible by {}\".format(num,i))\n",
    "            d_count=d_count+i\n",
    "    return(d_count,nd_count)\n",
    "val1,val2=counter2()\n",
    "counter2()        \n",
    "    \n"
   ]
  },
  {
   "cell_type": "code",
   "execution_count": 71,
   "id": "df7ba5cb",
   "metadata": {},
   "outputs": [
    {
     "name": "stdout",
     "output_type": "stream",
     "text": [
      "enter which number divisior want to know1\n",
      "1 is divisible by 1:\n"
     ]
    },
    {
     "ename": "TypeError",
     "evalue": "cannot unpack non-iterable NoneType object",
     "output_type": "error",
     "traceback": [
      "\u001b[1;31m---------------------------------------------------------------------------\u001b[0m",
      "\u001b[1;31mTypeError\u001b[0m                                 Traceback (most recent call last)",
      "Cell \u001b[1;32mIn[71], line 19\u001b[0m\n\u001b[0;32m     17\u001b[0m         d_count,nd_count\u001b[38;5;241m=\u001b[39mcondition(num,d_count,nd_count,\u001b[38;5;241m1\u001b[39m)\n\u001b[0;32m     18\u001b[0m     \u001b[38;5;28;01mreturn\u001b[39;00m(d_count,nd_count)\n\u001b[1;32m---> 19\u001b[0m val1,val2\u001b[38;5;241m=\u001b[39mcounter2()\n\u001b[0;32m     20\u001b[0m \u001b[38;5;28mprint\u001b[39m(val1,val2)\n",
      "Cell \u001b[1;32mIn[71], line 17\u001b[0m, in \u001b[0;36mcounter2\u001b[1;34m()\u001b[0m\n\u001b[0;32m     15\u001b[0m num\u001b[38;5;241m=\u001b[39m\u001b[38;5;28meval\u001b[39m(\u001b[38;5;28minput\u001b[39m(\u001b[38;5;124m\"\u001b[39m\u001b[38;5;124menter which number divisior want to know\u001b[39m\u001b[38;5;124m\"\u001b[39m))\n\u001b[0;32m     16\u001b[0m \u001b[38;5;28;01mfor\u001b[39;00m i \u001b[38;5;129;01min\u001b[39;00m \u001b[38;5;28mrange\u001b[39m(\u001b[38;5;241m1\u001b[39m,num\u001b[38;5;241m+\u001b[39m\u001b[38;5;241m1\u001b[39m):\n\u001b[1;32m---> 17\u001b[0m     d_count,nd_count\u001b[38;5;241m=\u001b[39mcondition(num,d_count,nd_count,\u001b[38;5;241m1\u001b[39m)\n\u001b[0;32m     18\u001b[0m \u001b[38;5;28;01mreturn\u001b[39;00m(d_count,nd_count)\n",
      "\u001b[1;31mTypeError\u001b[0m: cannot unpack non-iterable NoneType object"
     ]
    }
   ],
   "source": [
    "def condition(num,d_count,nd_count,i):\n",
    "    if num%i==0:\n",
    "        print(\"{} is divisible by {}:\".format(num,1))\n",
    "        d_count=d_count+1\n",
    "    else:\n",
    "        nd_count=nd_count\n",
    "        return(d_count,nd_count)\n",
    "    \n",
    "    \n",
    "    \n",
    "    \n",
    "def counter2():\n",
    "    d_count=0\n",
    "    nd_count=0\n",
    "    num=eval(input(\"enter which number divisior want to know\"))\n",
    "    for i in range(1,num+1):\n",
    "        d_count,nd_count=condition(num,d_count,nd_count,1)\n",
    "    return(d_count,nd_count)\n",
    "val1,val2=counter2()\n",
    "print(val1,val2)"
   ]
  },
  {
   "cell_type": "code",
   "execution_count": null,
   "id": "cff28ded",
   "metadata": {},
   "outputs": [],
   "source": []
  },
  {
   "cell_type": "code",
   "execution_count": null,
   "id": "89a8406d",
   "metadata": {},
   "outputs": [],
   "source": []
  },
  {
   "cell_type": "code",
   "execution_count": null,
   "id": "0c5774fb",
   "metadata": {},
   "outputs": [],
   "source": []
  },
  {
   "cell_type": "code",
   "execution_count": null,
   "id": "f44c0b0c",
   "metadata": {},
   "outputs": [],
   "source": []
  },
  {
   "cell_type": "code",
   "execution_count": null,
   "id": "364f6f6f",
   "metadata": {},
   "outputs": [],
   "source": []
  },
  {
   "cell_type": "code",
   "execution_count": null,
   "id": "2c2bb461",
   "metadata": {},
   "outputs": [],
   "source": []
  }
 ],
 "metadata": {
  "kernelspec": {
   "display_name": "Python 3 (ipykernel)",
   "language": "python",
   "name": "python3"
  },
  "language_info": {
   "codemirror_mode": {
    "name": "ipython",
    "version": 3
   },
   "file_extension": ".py",
   "mimetype": "text/x-python",
   "name": "python",
   "nbconvert_exporter": "python",
   "pygments_lexer": "ipython3",
   "version": "3.11.5"
  }
 },
 "nbformat": 4,
 "nbformat_minor": 5
}
