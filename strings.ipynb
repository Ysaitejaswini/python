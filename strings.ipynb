{
 "cells": [
  {
   "cell_type": "code",
   "execution_count": 1,
   "id": "22f9e44a",
   "metadata": {},
   "outputs": [],
   "source": [
    "# iam modifying the code"
   ]
  },
  {
   "cell_type": "code",
   "execution_count": null,
   "id": "5ea68a99",
   "metadata": {},
   "outputs": [],
   "source": [
    "# strings\n",
    "# list\n",
    "# dictionary\n",
    "# tuple\n",
    "# set"
   ]
  },
  {
   "cell_type": "markdown",
   "id": "34171896",
   "metadata": {},
   "source": [
    "** How to read the strings **"
   ]
  },
  {
   "cell_type": "code",
   "execution_count": 2,
   "id": "b4bd8556",
   "metadata": {},
   "outputs": [
    {
     "data": {
      "text/plain": [
       "'python'"
      ]
     },
     "execution_count": 2,
     "metadata": {},
     "output_type": "execute_result"
    }
   ],
   "source": [
    "string1='python'    # single quote\n",
    "string1"
   ]
  },
  {
   "cell_type": "code",
   "execution_count": 3,
   "id": "61839447",
   "metadata": {},
   "outputs": [
    {
     "data": {
      "text/plain": [
       "'python'"
      ]
     },
     "execution_count": 3,
     "metadata": {},
     "output_type": "execute_result"
    }
   ],
   "source": [
    "string2=\"python\"    # double quotes\n",
    "string2"
   ]
  },
  {
   "cell_type": "code",
   "execution_count": null,
   "id": "19cc8a45",
   "metadata": {},
   "outputs": [],
   "source": [
    "### Triple quotes\n",
    "# Doc string is used to say same information about your python code"
   ]
  },
  {
   "cell_type": "code",
   "execution_count": 4,
   "id": "5a07db6c",
   "metadata": {},
   "outputs": [],
   "source": [
    "\"\"\"\n",
    "im creating a while condition\n",
    "arguements: None\n",
    "return:    None\n",
    "\"\"\"\n",
    "def hello():\n",
    "    print(\"good morning\")"
   ]
  },
  {
   "cell_type": "code",
   "execution_count": null,
   "id": "3ce602db",
   "metadata": {},
   "outputs": [],
   "source": [
    "'hello python'  # I want highlite the python"
   ]
  },
  {
   "cell_type": "code",
   "execution_count": 5,
   "id": "66078523",
   "metadata": {},
   "outputs": [
    {
     "name": "stdout",
     "output_type": "stream",
     "text": [
      "hello \"python\"\n"
     ]
    }
   ],
   "source": [
    "string3='hello \"python\"'\n",
    "print(string3)"
   ]
  },
  {
   "cell_type": "code",
   "execution_count": 6,
   "id": "5ce7c9af",
   "metadata": {},
   "outputs": [
    {
     "name": "stdout",
     "output_type": "stream",
     "text": [
      "hello 'python'\n"
     ]
    }
   ],
   "source": [
    "string4=\"hello 'python'\"\n",
    "print(string4)"
   ]
  },
  {
   "cell_type": "code",
   "execution_count": null,
   "id": "5ddac900",
   "metadata": {},
   "outputs": [],
   "source": [
    "-type\n",
    "-len\n",
    "-max\n",
    "-min\n"
   ]
  },
  {
   "cell_type": "raw",
   "id": "c3279aa0",
   "metadata": {},
   "source": [
    "** type:"
   ]
  },
  {
   "cell_type": "code",
   "execution_count": 7,
   "id": "b3010c69",
   "metadata": {},
   "outputs": [
    {
     "data": {
      "text/plain": [
       "'python'"
      ]
     },
     "execution_count": 7,
     "metadata": {},
     "output_type": "execute_result"
    }
   ],
   "source": [
    "string1"
   ]
  },
  {
   "cell_type": "code",
   "execution_count": 8,
   "id": "ad65424d",
   "metadata": {},
   "outputs": [
    {
     "data": {
      "text/plain": [
       "str"
      ]
     },
     "execution_count": 8,
     "metadata": {},
     "output_type": "execute_result"
    }
   ],
   "source": [
    "type(string1)"
   ]
  },
  {
   "cell_type": "markdown",
   "id": "dc1da664",
   "metadata": {},
   "source": [
    "** len:"
   ]
  },
  {
   "cell_type": "code",
   "execution_count": 9,
   "id": "19593ab2",
   "metadata": {},
   "outputs": [
    {
     "data": {
      "text/plain": [
       "6"
      ]
     },
     "execution_count": 9,
     "metadata": {},
     "output_type": "execute_result"
    }
   ],
   "source": [
    "len(string1)          # python #"
   ]
  },
  {
   "cell_type": "markdown",
   "id": "ad4e5142",
   "metadata": {},
   "source": [
    "** max-min:"
   ]
  },
  {
   "cell_type": "code",
   "execution_count": 10,
   "id": "e12c0812",
   "metadata": {},
   "outputs": [
    {
     "data": {
      "text/plain": [
       "'p'"
      ]
     },
     "execution_count": 10,
     "metadata": {},
     "output_type": "execute_result"
    }
   ],
   "source": [
    "string1='pP'\n",
    "max(string1)     # python\n",
    "\n",
    "# ASCII\n",
    "#'A': "
   ]
  },
  {
   "cell_type": "markdown",
   "id": "2319c040",
   "metadata": {},
   "source": [
    "** ord-*chr"
   ]
  },
  {
   "cell_type": "code",
   "execution_count": 11,
   "id": "80399273",
   "metadata": {},
   "outputs": [
    {
     "data": {
      "text/plain": [
       "112"
      ]
     },
     "execution_count": 11,
     "metadata": {},
     "output_type": "execute_result"
    }
   ],
   "source": [
    "ord('p')  # it will provide ascii value of charord"
   ]
  },
  {
   "cell_type": "code",
   "execution_count": 12,
   "id": "35d2851a",
   "metadata": {},
   "outputs": [
    {
     "data": {
      "text/plain": [
       "112"
      ]
     },
     "execution_count": 12,
     "metadata": {},
     "output_type": "execute_result"
    }
   ],
   "source": [
    "ord('p')"
   ]
  },
  {
   "cell_type": "code",
   "execution_count": 13,
   "id": "d78276f1",
   "metadata": {},
   "outputs": [
    {
     "data": {
      "text/plain": [
       "'y'"
      ]
     },
     "execution_count": 13,
     "metadata": {},
     "output_type": "execute_result"
    }
   ],
   "source": [
    "string1='python'\n",
    "max(string1)"
   ]
  },
  {
   "cell_type": "code",
   "execution_count": 14,
   "id": "42204317",
   "metadata": {},
   "outputs": [
    {
     "data": {
      "text/plain": [
       "('y', 'h')"
      ]
     },
     "execution_count": 14,
     "metadata": {},
     "output_type": "execute_result"
    }
   ],
   "source": [
    "string1='python'\n",
    "max(string1),min(string2)"
   ]
  },
  {
   "cell_type": "code",
   "execution_count": 16,
   "id": "365471b2",
   "metadata": {},
   "outputs": [
    {
     "data": {
      "text/plain": [
       "(112, 121, 116, 104, 111, 110)"
      ]
     },
     "execution_count": 16,
     "metadata": {},
     "output_type": "execute_result"
    }
   ],
   "source": [
    "ord('p'),ord('y'),ord('t'),ord('h'),ord('o'),ord('n')"
   ]
  },
  {
   "cell_type": "code",
   "execution_count": 15,
   "id": "8469cd7a",
   "metadata": {},
   "outputs": [
    {
     "data": {
      "text/plain": [
       "('p', 'y', 't', 'h', 'o', 'n')"
      ]
     },
     "execution_count": 15,
     "metadata": {},
     "output_type": "execute_result"
    }
   ],
   "source": [
    "chr(112),chr(121),chr(116),chr(104),chr(111),chr(110)"
   ]
  },
  {
   "cell_type": "code",
   "execution_count": 17,
   "id": "0dc1149b",
   "metadata": {},
   "outputs": [
    {
     "name": "stdout",
     "output_type": "stream",
     "text": [
      "0\n",
      "1\n",
      "2\n",
      "3\n",
      "4\n",
      "5\n"
     ]
    }
   ],
   "source": [
    "for i in range(len('python')):\n",
    "    print(i)"
   ]
  },
  {
   "cell_type": "raw",
   "id": "b121eb8e",
   "metadata": {},
   "source": [
    "# I want print p y t h o n\n",
    "*** in:"
   ]
  },
  {
   "cell_type": "code",
   "execution_count": 20,
   "id": "bc311d53",
   "metadata": {},
   "outputs": [
    {
     "data": {
      "text/plain": [
       "True"
      ]
     },
     "execution_count": 20,
     "metadata": {},
     "output_type": "execute_result"
    }
   ],
   "source": [
    "string1='python'\n",
    "\n",
    "'p' in string1\n",
    "'y' in string1\n",
    "'t' in string1\n",
    "'h' in string1\n",
    "'o' in string1\n",
    "'n' in string1\n",
    "\n",
    "# i in string1"
   ]
  },
  {
   "cell_type": "code",
   "execution_count": 21,
   "id": "67c8277f",
   "metadata": {},
   "outputs": [
    {
     "name": "stdout",
     "output_type": "stream",
     "text": [
      "p\n",
      "y\n",
      "t\n",
      "h\n",
      "o\n",
      "n\n"
     ]
    }
   ],
   "source": [
    "for i in string1:\n",
    "    print(i)\n",
    "    "
   ]
  },
  {
   "cell_type": "raw",
   "id": "1b33fc34",
   "metadata": {},
   "source": [
    "- range() : you need to provide number inside the range\n",
    "- in      : is used only for strings   \n",
    "if you want print the letters using for loop go for in operator"
   ]
  },
  {
   "cell_type": "code",
   "execution_count": 22,
   "id": "bb1b637c",
   "metadata": {},
   "outputs": [
    {
     "name": "stdout",
     "output_type": "stream",
     "text": [
      "112\n",
      "121\n",
      "116\n",
      "104\n",
      "111\n",
      "110\n",
      "110\n"
     ]
    }
   ],
   "source": [
    "print(ord('p'))\n",
    "print(ord('y'))\n",
    "print(ord('t'))\n",
    "print(ord('h'))\n",
    "print(ord('o'))\n",
    "print(ord('n'))\n",
    "\n",
    "print(ord(i))"
   ]
  },
  {
   "cell_type": "code",
   "execution_count": 25,
   "id": "ebc956da",
   "metadata": {},
   "outputs": [
    {
     "name": "stdout",
     "output_type": "stream",
     "text": [
      "112\n",
      "121\n",
      "116\n",
      "104\n",
      "111\n",
      "110\n"
     ]
    }
   ],
   "source": [
    "for i in string1:\n",
    "    print(ord(i))\n",
    "    \n",
    "    # the ascii value of p is 112"
   ]
  },
  {
   "cell_type": "code",
   "execution_count": 26,
   "id": "c183ce76",
   "metadata": {},
   "outputs": [
    {
     "name": "stdout",
     "output_type": "stream",
     "text": [
      "the ascii value of p is 112\n",
      "the ascii value of y is 121\n",
      "the ascii value of t is 116\n",
      "the ascii value of h is 104\n",
      "the ascii value of o is 111\n",
      "the ascii value of n is 110\n"
     ]
    }
   ],
   "source": [
    "for i in (string1):\n",
    "    print(\"the ascii value of {} is {}\".format(i,ord(i)))\n"
   ]
  },
  {
   "cell_type": "code",
   "execution_count": 1,
   "id": "83e34d35",
   "metadata": {},
   "outputs": [],
   "source": [
    "# Ascii value of A to Z\n",
    "# package_name: string\n",
    "import string"
   ]
  },
  {
   "cell_type": "raw",
   "id": "69365266",
   "metadata": {},
   "source": [
    "dir(string)"
   ]
  },
  {
   "cell_type": "code",
   "execution_count": 2,
   "id": "fbec95ea",
   "metadata": {},
   "outputs": [
    {
     "data": {
      "text/plain": [
       "'ABCDEFGHIJKLMNOPQRSTUVWXYZ'"
      ]
     },
     "execution_count": 2,
     "metadata": {},
     "output_type": "execute_result"
    }
   ],
   "source": [
    "string.ascii_uppercase"
   ]
  },
  {
   "cell_type": "code",
   "execution_count": 3,
   "id": "d3e3118e",
   "metadata": {},
   "outputs": [
    {
     "data": {
      "text/plain": [
       "'ABCDEFGHIJKLMNOPQRSTUVWXYZ'"
      ]
     },
     "execution_count": 3,
     "metadata": {},
     "output_type": "execute_result"
    }
   ],
   "source": [
    "'ABCDEFGHIJKLMNOPQRSTUVWXYZ'"
   ]
  },
  {
   "cell_type": "code",
   "execution_count": 4,
   "id": "55a383a1",
   "metadata": {},
   "outputs": [
    {
     "name": "stdout",
     "output_type": "stream",
     "text": [
      "the ascii value of A is 65\n",
      "the ascii value of B is 66\n",
      "the ascii value of C is 67\n",
      "the ascii value of D is 68\n",
      "the ascii value of E is 69\n",
      "the ascii value of F is 70\n",
      "the ascii value of G is 71\n",
      "the ascii value of H is 72\n",
      "the ascii value of I is 73\n",
      "the ascii value of J is 74\n",
      "the ascii value of K is 75\n",
      "the ascii value of L is 76\n",
      "the ascii value of M is 77\n",
      "the ascii value of N is 78\n",
      "the ascii value of O is 79\n",
      "the ascii value of P is 80\n",
      "the ascii value of Q is 81\n",
      "the ascii value of R is 82\n",
      "the ascii value of S is 83\n",
      "the ascii value of T is 84\n",
      "the ascii value of U is 85\n",
      "the ascii value of V is 86\n",
      "the ascii value of W is 87\n",
      "the ascii value of X is 88\n",
      "the ascii value of Y is 89\n",
      "the ascii value of Z is 90\n"
     ]
    }
   ],
   "source": [
    "for i in string.ascii_uppercase:\n",
    "    print(\"the ascii value of {} is {}\".format(i,ord(i)))"
   ]
  },
  {
   "cell_type": "code",
   "execution_count": 5,
   "id": "c5551666",
   "metadata": {},
   "outputs": [
    {
     "name": "stdout",
     "output_type": "stream",
     "text": [
      "the ascii value of A is 65\n",
      "the ascii value of B is 66\n",
      "the ascii value of C is 67\n",
      "the ascii value of D is 68\n",
      "the ascii value of E is 69\n",
      "the ascii value of F is 70\n",
      "the ascii value of G is 71\n",
      "the ascii value of H is 72\n",
      "the ascii value of I is 73\n",
      "the ascii value of J is 74\n",
      "the ascii value of K is 75\n",
      "the ascii value of L is 76\n",
      "the ascii value of M is 77\n",
      "the ascii value of N is 78\n",
      "the ascii value of O is 79\n",
      "the ascii value of P is 80\n",
      "the ascii value of Q is 81\n",
      "the ascii value of R is 82\n",
      "the ascii value of S is 83\n",
      "the ascii value of T is 84\n",
      "the ascii value of U is 85\n",
      "the ascii value of V is 86\n",
      "the ascii value of W is 87\n",
      "the ascii value of X is 88\n",
      "the ascii value of Y is 89\n",
      "the ascii value of Z is 90\n"
     ]
    }
   ],
   "source": [
    "for i in string.ascii_uppercase:\n",
    "    print(\"the ascii value of {} is {}\".format(i,ord(i)))"
   ]
  },
  {
   "cell_type": "code",
   "execution_count": 12,
   "id": "e6029b39",
   "metadata": {},
   "outputs": [
    {
     "name": "stdout",
     "output_type": "stream",
     "text": [
      "the ascii value of a is 97\n",
      "the ascii value of b is 98\n",
      "the ascii value of c is 99\n",
      "the ascii value of d is 100\n",
      "the ascii value of e is 101\n",
      "the ascii value of f is 102\n",
      "the ascii value of g is 103\n",
      "the ascii value of h is 104\n",
      "the ascii value of i is 105\n",
      "the ascii value of j is 106\n",
      "the ascii value of k is 107\n",
      "the ascii value of l is 108\n",
      "the ascii value of m is 109\n",
      "the ascii value of n is 110\n",
      "the ascii value of o is 111\n",
      "the ascii value of p is 112\n",
      "the ascii value of q is 113\n",
      "the ascii value of r is 114\n",
      "the ascii value of s is 115\n",
      "the ascii value of t is 116\n",
      "the ascii value of u is 117\n",
      "the ascii value of v is 118\n",
      "the ascii value of w is 119\n",
      "the ascii value of x is 120\n",
      "the ascii value of y is 121\n",
      "the ascii value of z is 122\n"
     ]
    }
   ],
   "source": [
    "for i in string.ascii_lowercase:\n",
    "    print(\"the ascii value of {} is {}\".format(i,ord(i)))"
   ]
  },
  {
   "cell_type": "code",
   "execution_count": 35,
   "id": "3a749732",
   "metadata": {},
   "outputs": [
    {
     "data": {
      "text/plain": [
       "97"
      ]
     },
     "execution_count": 35,
     "metadata": {},
     "output_type": "execute_result"
    }
   ],
   "source": [
    "# what is the start and end of ascii numbers\n",
    "ord('a')"
   ]
  },
  {
   "cell_type": "code",
   "execution_count": 36,
   "id": "28bc4c48",
   "metadata": {},
   "outputs": [
    {
     "name": "stdout",
     "output_type": "stream",
     "text": [
      "33 !\n",
      "34 \"\n",
      "35 #\n",
      "36 $\n",
      "37 %\n",
      "38 &\n",
      "39 '\n",
      "40 (\n",
      "41 )\n",
      "42 *\n",
      "43 +\n",
      "44 ,\n",
      "45 -\n",
      "46 .\n",
      "47 /\n",
      "48 0\n",
      "49 1\n",
      "50 2\n",
      "51 3\n",
      "52 4\n",
      "53 5\n",
      "54 6\n",
      "55 7\n",
      "56 8\n",
      "57 9\n",
      "58 :\n",
      "59 ;\n",
      "60 <\n",
      "61 =\n",
      "62 >\n",
      "63 ?\n",
      "64 @\n",
      "65 A\n",
      "66 B\n",
      "67 C\n",
      "68 D\n",
      "69 E\n",
      "70 F\n",
      "71 G\n",
      "72 H\n",
      "73 I\n",
      "74 J\n",
      "75 K\n",
      "76 L\n",
      "77 M\n",
      "78 N\n",
      "79 O\n",
      "80 P\n",
      "81 Q\n",
      "82 R\n",
      "83 S\n",
      "84 T\n",
      "85 U\n",
      "86 V\n",
      "87 W\n",
      "88 X\n",
      "89 Y\n",
      "90 Z\n",
      "91 [\n",
      "92 \\\n",
      "93 ]\n",
      "94 ^\n",
      "95 _\n",
      "96 `\n",
      "97 a\n",
      "98 b\n",
      "99 c\n",
      "100 d\n",
      "101 e\n",
      "102 f\n",
      "103 g\n",
      "104 h\n",
      "105 i\n",
      "106 j\n",
      "107 k\n",
      "108 l\n",
      "109 m\n",
      "110 n\n",
      "111 o\n",
      "112 p\n",
      "113 q\n",
      "114 r\n",
      "115 s\n",
      "116 t\n",
      "117 u\n",
      "118 v\n",
      "119 w\n",
      "120 x\n",
      "121 y\n",
      "122 z\n",
      "123 {\n",
      "124 |\n",
      "125 }\n",
      "126 ~\n"
     ]
    }
   ],
   "source": [
    "for i in range(33,127):\n",
    "    print(i,chr(i))"
   ]
  },
  {
   "cell_type": "code",
   "execution_count": 37,
   "id": "e6957d4a",
   "metadata": {},
   "outputs": [
    {
     "name": "stdout",
     "output_type": "stream",
     "text": [
      "938 Ϊ\n",
      "939 Ϋ\n",
      "940 ά\n",
      "941 έ\n",
      "942 ή\n",
      "943 ί\n",
      "944 ΰ\n",
      "945 α\n",
      "946 β\n",
      "947 γ\n",
      "948 δ\n",
      "949 ε\n",
      "950 ζ\n",
      "951 η\n",
      "952 θ\n",
      "953 ι\n",
      "954 κ\n",
      "955 λ\n",
      "956 μ\n",
      "957 ν\n",
      "958 ξ\n",
      "959 ο\n",
      "960 π\n",
      "961 ρ\n",
      "962 ς\n",
      "963 σ\n",
      "964 τ\n",
      "965 υ\n",
      "966 φ\n",
      "967 χ\n",
      "968 ψ\n",
      "969 ω\n",
      "970 ϊ\n",
      "971 ϋ\n",
      "972 ό\n",
      "973 ύ\n",
      "974 ώ\n",
      "975 Ϗ\n",
      "976 ϐ\n",
      "977 ϑ\n",
      "978 ϒ\n",
      "979 ϓ\n",
      "980 ϔ\n",
      "981 ϕ\n",
      "982 ϖ\n",
      "983 ϗ\n",
      "984 Ϙ\n",
      "985 ϙ\n",
      "986 Ϛ\n",
      "987 ϛ\n",
      "988 Ϝ\n",
      "989 ϝ\n",
      "990 Ϟ\n",
      "991 ϟ\n",
      "992 Ϡ\n",
      "993 ϡ\n",
      "994 Ϣ\n",
      "995 ϣ\n",
      "996 Ϥ\n",
      "997 ϥ\n",
      "998 Ϧ\n",
      "999 ϧ\n"
     ]
    }
   ],
   "source": [
    "for i in range(938,1000):\n",
    "    print(i,chr(i))"
   ]
  },
  {
   "cell_type": "code",
   "execution_count": 9,
   "id": "56f72263",
   "metadata": {},
   "outputs": [
    {
     "data": {
      "text/plain": [
       "'abcdefghijklmnopqrstuvwxyzABCDEFGHIJKLMNOPQRSTUVWXYZ'"
      ]
     },
     "execution_count": 9,
     "metadata": {},
     "output_type": "execute_result"
    }
   ],
   "source": [
    "string.ascii_letters"
   ]
  },
  {
   "cell_type": "code",
   "execution_count": 10,
   "id": "451dd241",
   "metadata": {},
   "outputs": [
    {
     "data": {
      "text/plain": [
       "'0123456789abcdefghijklmnopqrstuvwxyzABCDEFGHIJKLMNOPQRSTUVWXYZ!\"#$%&\\'()*+,-./:;<=>?@[\\\\]^_`{|}~ \\t\\n\\r\\x0b\\x0c'"
      ]
     },
     "execution_count": 10,
     "metadata": {},
     "output_type": "execute_result"
    }
   ],
   "source": [
    "string.printable\n",
    "\n",
    "\n",
    "# digits\n",
    "# lower\n",
    "# upper"
   ]
  },
  {
   "cell_type": "code",
   "execution_count": 43,
   "id": "4c5dccd2",
   "metadata": {},
   "outputs": [
    {
     "name": "stdout",
     "output_type": "stream",
     "text": [
      "3\n"
     ]
    }
   ],
   "source": [
    "# WAP ask the user find number of 'a' letters in a given string\n",
    "# string='hai how are you how do you do'\n",
    "# answer:3\n",
    "#\n",
    "# count=0\n",
    "# first itearate the string using in and for loop\n",
    "# print each letter ===== > i\n",
    "# apply the if condition i=='a'\n",
    "#                        count+=1\n",
    "\n",
    "\n",
    "\n",
    "string='hai how are you and how do you do'\n",
    "count=0\n",
    "for i in string:\n",
    "    if i=='a':\n",
    "        count=count+1\n",
    "print(count)        \n",
    "        \n",
    "        \n",
    " # step-1:    i='h'    'h'==='a'  F\n",
    " # step-2:    "
   ]
  },
  {
   "cell_type": "code",
   "execution_count": 44,
   "id": "c4e86962",
   "metadata": {},
   "outputs": [
    {
     "name": "stdout",
     "output_type": "stream",
     "text": [
      "7\n"
     ]
    }
   ],
   "source": [
    "# WAP count the number of vowels in a given string\n",
    "# string='hai how are you'\n",
    "#7\n",
    "\n",
    "string='hai how are you'\n",
    "count=0\n",
    "for i in string:\n",
    "    #print(i)\n",
    "    if i in 'aeiou':\n",
    "        count=count+1\n",
    "print(count)        "
   ]
  },
  {
   "cell_type": "code",
   "execution_count": 50,
   "id": "0e2a6e0d",
   "metadata": {},
   "outputs": [
    {
     "data": {
      "text/plain": [
       "'pyt'"
      ]
     },
     "execution_count": 50,
     "metadata": {},
     "output_type": "execute_result"
    }
   ],
   "source": [
    "''+'p'+'y'+'t'"
   ]
  },
  {
   "cell_type": "code",
   "execution_count": null,
   "id": "af0f29a1",
   "metadata": {},
   "outputs": [],
   "source": [
    "# WAPcount the number of unique vowels in a gievn string\n",
    "# answer:5\n",
    "\n",
    "\n",
    "string='hai how are you'\n",
    "string1=''\n",
    "count=0\n",
    "for i in string:\n",
    "    "
   ]
  },
  {
   "cell_type": "code",
   "execution_count": 51,
   "id": "98ec9fb3",
   "metadata": {},
   "outputs": [
    {
     "name": "stdout",
     "output_type": "stream",
     "text": [
      "python\n"
     ]
    }
   ],
   "source": [
    "string1=''\n",
    "for i in 'python':\n",
    "    string1=string1+i\n",
    "print(string1)    \n",
    "    "
   ]
  },
  {
   "cell_type": "code",
   "execution_count": null,
   "id": "0260b44f",
   "metadata": {},
   "outputs": [],
   "source": [
    "**concatenation **"
   ]
  },
  {
   "cell_type": "code",
   "execution_count": 11,
   "id": "0cc5f104",
   "metadata": {},
   "outputs": [
    {
     "data": {
      "text/plain": [
       "'haihow'"
      ]
     },
     "execution_count": 11,
     "metadata": {},
     "output_type": "execute_result"
    }
   ],
   "source": [
    "str1='hai'\n",
    "str2='how'\n",
    "str1+str2"
   ]
  },
  {
   "cell_type": "code",
   "execution_count": 53,
   "id": "8d9ff7c0",
   "metadata": {},
   "outputs": [
    {
     "ename": "TypeError",
     "evalue": "unsupported operand type(s) for -: 'str' and 'str'",
     "output_type": "error",
     "traceback": [
      "\u001b[1;31m---------------------------------------------------------------------------\u001b[0m",
      "\u001b[1;31mTypeError\u001b[0m                                 Traceback (most recent call last)",
      "Cell \u001b[1;32mIn[53], line 1\u001b[0m\n\u001b[1;32m----> 1\u001b[0m str1\u001b[38;5;241m-\u001b[39mstr2\n",
      "\u001b[1;31mTypeError\u001b[0m: unsupported operand type(s) for -: 'str' and 'str'"
     ]
    }
   ],
   "source": [
    "str1-str2  #"
   ]
  },
  {
   "cell_type": "code",
   "execution_count": 56,
   "id": "ff49e5e9",
   "metadata": {},
   "outputs": [
    {
     "data": {
      "text/plain": [
       "'howhowhow'"
      ]
     },
     "execution_count": 56,
     "metadata": {},
     "output_type": "execute_result"
    }
   ],
   "source": [
    "3*str2"
   ]
  },
  {
   "cell_type": "code",
   "execution_count": 55,
   "id": "845c68e7",
   "metadata": {},
   "outputs": [
    {
     "ename": "TypeError",
     "evalue": "unsupported operand type(s) for /: 'str' and 'str'",
     "output_type": "error",
     "traceback": [
      "\u001b[1;31m---------------------------------------------------------------------------\u001b[0m",
      "\u001b[1;31mTypeError\u001b[0m                                 Traceback (most recent call last)",
      "Cell \u001b[1;32mIn[55], line 1\u001b[0m\n\u001b[1;32m----> 1\u001b[0m str1\u001b[38;5;241m/\u001b[39mstr2\n",
      "\u001b[1;31mTypeError\u001b[0m: unsupported operand type(s) for /: 'str' and 'str'"
     ]
    }
   ],
   "source": [
    "str1/str2"
   ]
  },
  {
   "cell_type": "code",
   "execution_count": 57,
   "id": "e9e47980",
   "metadata": {},
   "outputs": [
    {
     "data": {
      "text/plain": [
       "'haihaihai'"
      ]
     },
     "execution_count": 57,
     "metadata": {},
     "output_type": "execute_result"
    }
   ],
   "source": [
    "str1+str1+str1"
   ]
  },
  {
   "cell_type": "markdown",
   "id": "4278d5e9",
   "metadata": {},
   "source": [
    "- how to read \n",
    "- single/double/triple\n",
    "- type\n",
    "- len\n",
    "- in (how to iterate through the loop)\n",
    "- max\n",
    "- min\n",
    "- concatanation"
   ]
  },
  {
   "cell_type": "raw",
   "id": "c82836b6",
   "metadata": {},
   "source": [
    "*index*"
   ]
  },
  {
   "cell_type": "code",
   "execution_count": 59,
   "id": "3925b155",
   "metadata": {},
   "outputs": [],
   "source": [
    "string1='python'   # 6 letters\n"
   ]
  },
  {
   "cell_type": "code",
   "execution_count": null,
   "id": "ca4094ed",
   "metadata": {},
   "outputs": [],
   "source": [
    "p  y  t  h  o  n\n",
    "0  1  2  3  4  5"
   ]
  },
  {
   "cell_type": "code",
   "execution_count": 63,
   "id": "5f1ea7cb",
   "metadata": {},
   "outputs": [
    {
     "data": {
      "text/plain": [
       "('p', 'y', 't', 'h', 'o', 'n')"
      ]
     },
     "execution_count": 63,
     "metadata": {},
     "output_type": "execute_result"
    }
   ],
   "source": [
    "string1[0],string1[1],string1[2],string1[3],string1[4],string1[5]"
   ]
  },
  {
   "cell_type": "code",
   "execution_count": 64,
   "id": "c5f461a7",
   "metadata": {},
   "outputs": [
    {
     "name": "stdout",
     "output_type": "stream",
     "text": [
      "p\n",
      "y\n",
      "t\n",
      "h\n",
      "o\n"
     ]
    }
   ],
   "source": [
    "for i in range(5):\n",
    "    print(string1[i])\n",
    "    \n",
    "    \n",
    "#\n",
    "#i=1======== string1[1]======'y'\n",
    "\n",
    "# "
   ]
  },
  {
   "cell_type": "code",
   "execution_count": 65,
   "id": "68fe06dc",
   "metadata": {},
   "outputs": [
    {
     "name": "stdout",
     "output_type": "stream",
     "text": [
      "p\n",
      "y\n",
      "t\n",
      "h\n",
      "o\n",
      "n\n",
      "p\n",
      "y\n",
      "t\n",
      "h\n",
      "o\n",
      "n\n"
     ]
    }
   ],
   "source": [
    "string1='python'\n",
    "\n",
    "# i want to print letters using in operator\n",
    "# i want to print letters using range operators\n",
    "for i in string1:\n",
    "    print(i)\n",
    "    \n",
    "for i in range(len(string1)):\n",
    "    print(string1[i])\n"
   ]
  },
  {
   "cell_type": "code",
   "execution_count": 67,
   "id": "0c42fd7b",
   "metadata": {},
   "outputs": [
    {
     "name": "stdout",
     "output_type": "stream",
     "text": [
      "the index no of 'p' is 0\n",
      "the index no of 'y' is 1\n",
      "the index no of 't' is 2\n",
      "the index no of 'h' is 3\n",
      "the index no of 'o' is 4\n",
      "the index no of 'n' is 5\n",
      "the index no of ' ' is 6\n",
      "the index no of 'c' is 7\n",
      "the index no of 'l' is 8\n",
      "the index no of 'a' is 9\n",
      "the index no of 's' is 10\n",
      "the index no of 's' is 11\n"
     ]
    }
   ],
   "source": [
    "name='python class'\n",
    "\n",
    "for i in range(len(name)):\n",
    "    print(\"the index no of '{}' is {}\".format(name[i],i))\n",
    "    \n",
    "   # i='p' name[' p ']='p'\n",
    "# if you want to print any number"
   ]
  },
  {
   "cell_type": "code",
   "execution_count": null,
   "id": "31bbdc41",
   "metadata": {},
   "outputs": [],
   "source": [
    "-How to read the strings\n",
    "-doc string\n",
    "-"
   ]
  },
  {
   "cell_type": "code",
   "execution_count": 20,
   "id": "dc5d8af0",
   "metadata": {},
   "outputs": [],
   "source": [
    "string1='python'"
   ]
  },
  {
   "cell_type": "code",
   "execution_count": null,
   "id": "c807a2ae",
   "metadata": {},
   "outputs": [],
   "source": [
    "string1='python'\n",
    "\n",
    "# i want to print the letters using for loop\n",
    "# in\n",
    "# range"
   ]
  },
  {
   "cell_type": "code",
   "execution_count": 21,
   "id": "62268565",
   "metadata": {},
   "outputs": [
    {
     "name": "stdout",
     "output_type": "stream",
     "text": [
      "p y t h o n 0 y\n",
      "1 y\n",
      "2 y\n",
      "3 y\n",
      "4 y\n",
      "5 y\n"
     ]
    }
   ],
   "source": [
    " for i in string1:   # i means each letter\n",
    "    print(i,end=' ')\n",
    "    \n",
    "    \n",
    "for i in range(len(string1)):  # i means numbers \n",
    "        print(i,string1[1])"
   ]
  },
  {
   "cell_type": "code",
   "execution_count": 11,
   "id": "27dbdb5f",
   "metadata": {},
   "outputs": [
    {
     "data": {
      "text/plain": [
       "'the index of y is 1'"
      ]
     },
     "execution_count": 11,
     "metadata": {},
     "output_type": "execute_result"
    }
   ],
   "source": [
    "'the index of p is 0'\n",
    "'the index of y is 1'\n"
   ]
  },
  {
   "cell_type": "code",
   "execution_count": 22,
   "id": "6fa8e87d",
   "metadata": {},
   "outputs": [
    {
     "name": "stdout",
     "output_type": "stream",
     "text": [
      "the index of p is 0\n",
      "the index of y is 1\n",
      "the index of t is 2\n",
      "the index of h is 3\n",
      "the index of o is 4\n",
      "the index of n is 5\n"
     ]
    }
   ],
   "source": [
    "for i in range(len(string1)):   # i means numbers 0\n",
    "    print('the index of {} is {}'.format (string1[i],i))"
   ]
  },
  {
   "cell_type": "code",
   "execution_count": null,
   "id": "e06a8c69",
   "metadata": {},
   "outputs": [],
   "source": [
    "-6 -5 -4 -3 -2 -1\n",
    "p  y  t  h  o  n\n",
    "0  1  2  3  4  5 ========== >positive index"
   ]
  },
  {
   "cell_type": "code",
   "execution_count": 23,
   "id": "20b75861",
   "metadata": {},
   "outputs": [
    {
     "data": {
      "text/plain": [
       "'n'"
      ]
     },
     "execution_count": 23,
     "metadata": {},
     "output_type": "execute_result"
    }
   ],
   "source": [
    "string1[-1]"
   ]
  },
  {
   "cell_type": "code",
   "execution_count": 95,
   "id": "0735a96b",
   "metadata": {},
   "outputs": [
    {
     "data": {
      "text/plain": [
       "('e', 'l', 'c', 'o', 'm', 'e')"
      ]
     },
     "execution_count": 95,
     "metadata": {},
     "output_type": "execute_result"
    }
   ],
   "source": [
    "string1[-6],string1[-5],string[-4],string[-3],string[-2],string[-1]"
   ]
  },
  {
   "cell_type": "code",
   "execution_count": 17,
   "id": "53d4008a",
   "metadata": {},
   "outputs": [
    {
     "name": "stdout",
     "output_type": "stream",
     "text": [
      "-6\n",
      "-5\n",
      "-4\n",
      "-3\n",
      "-2\n",
      "-1\n"
     ]
    }
   ],
   "source": [
    "# iterate the for loop on string1\n",
    "# print the letters using negative index\n",
    "# the idea is first you need to print the numbers between -6 to -1 using for loop\n",
    "\n",
    "for i in range(-6,0):\n",
    "    print(i)"
   ]
  },
  {
   "cell_type": "code",
   "execution_count": 32,
   "id": "c75f0089",
   "metadata": {},
   "outputs": [
    {
     "name": "stdout",
     "output_type": "stream",
     "text": [
      "the positive index of p is -6\n",
      "the positive index of y is -5\n",
      "the positive index of t is -4\n",
      "the positive index of h is -3\n",
      "the positive index of o is -2\n",
      "the positive index of n is -1\n"
     ]
    }
   ],
   "source": [
    "string1='python'\n",
    "for i in range(-6,0):\n",
    "    print(\"the positive index of {} is {}\".format(string1[i],i))"
   ]
  },
  {
   "cell_type": "code",
   "execution_count": 28,
   "id": "7dd5a246",
   "metadata": {},
   "outputs": [
    {
     "name": "stdout",
     "output_type": "stream",
     "text": [
      "the negative index of p is -12\n",
      "the negative index of y is -11\n",
      "the negative index of t is -10\n",
      "the negative index of h is -9\n",
      "the negative index of o is -8\n",
      "the negative index of n is -7\n"
     ]
    }
   ],
   "source": [
    "string1='python'\n",
    "for i in range(-6,0):\n",
    "    print(\"the negative index of {} is {}\".format(string1[i],i-6))"
   ]
  },
  {
   "cell_type": "code",
   "execution_count": 29,
   "id": "a3066601",
   "metadata": {},
   "outputs": [
    {
     "name": "stdout",
     "output_type": "stream",
     "text": [
      "-6 -5 -4 -3 -2 -1 -6 -5 -4 -3 -2 -1 "
     ]
    }
   ],
   "source": [
    "for i in range(-6,0):print(i,end=' ')\n",
    "for i in range(0,6):print(i-6,end=' ')    # 0------------ -6  i-6\n",
    "                                          # 1------------ -5 "
   ]
  },
  {
   "cell_type": "code",
   "execution_count": 31,
   "id": "dbb588e2",
   "metadata": {},
   "outputs": [
    {
     "name": "stdout",
     "output_type": "stream",
     "text": [
      "the positive index is 0 and negative index is p for -6\n",
      "the positive index is 1 and negative index is y for -5\n",
      "the positive index is 2 and negative index is t for -4\n",
      "the positive index is 3 and negative index is h for -3\n",
      "the positive index is 4 and negative index is o for -2\n",
      "the positive index is 5 and negative index is n for -1\n"
     ]
    }
   ],
   "source": [
    "'the positive index is 0 and negative index is -6 for a letter p'\n",
    "\n",
    "\n",
    "string1='python'\n",
    "for i in range(len(string1)):\n",
    "    print(\"the positive index is {} and negative index is {} for {}\".format(i,string1[i],i-6))"
   ]
  },
  {
   "cell_type": "code",
   "execution_count": 47,
   "id": "f9cb6988",
   "metadata": {},
   "outputs": [],
   "source": [
    "for i in range(-len(string1)):\n",
    "    print(\"the positive index of {} is {}\".format(string1[i],i))\n",
    "    \n",
    "    \n",
    "for i in range(-len(string1)):\n",
    "    print(\"the negative index of {} is {}\".format(string1[i],i))\n",
    "    \n",
    "    \n",
    "for i in range(-len(string1)):\n",
    "    print(\"the positive index of {} and negative index is {} for {}\".format(i,string1[i],i-6))"
   ]
  },
  {
   "cell_type": "code",
   "execution_count": 40,
   "id": "8225abf5",
   "metadata": {},
   "outputs": [
    {
     "name": "stdout",
     "output_type": "stream",
     "text": [
      "the positive index of p is 0\n",
      "the positive index of y is 1\n",
      "the positive index of t is 2\n",
      "the positive index of h is 3\n",
      "the positive index of o is 4\n",
      "the positive index of n is 5\n"
     ]
    }
   ],
   "source": [
    "for i in range(-len(string1),0):\n",
    "    print(\"the positive index of {} is {}\".format(string1[i],i+6))\n",
    "    "
   ]
  },
  {
   "cell_type": "code",
   "execution_count": 43,
   "id": "ec7f6ec6",
   "metadata": {},
   "outputs": [
    {
     "name": "stdout",
     "output_type": "stream",
     "text": [
      "-6 0\n",
      "-5 1\n",
      "-4 2\n",
      "-3 3\n",
      "-2 4\n",
      "-1 5\n"
     ]
    }
   ],
   "source": [
    "for i in range(-len(string1),0):\n",
    "    print(i,i+6)"
   ]
  },
  {
   "cell_type": "code",
   "execution_count": 46,
   "id": "aad9341e",
   "metadata": {},
   "outputs": [
    {
     "name": "stdout",
     "output_type": "stream",
     "text": [
      "the positive index is 0 and negative index is -6 for p\n",
      "the positive index is 1 and negative index is -5 for y\n",
      "the positive index is 2 and negative index is -4 for t\n",
      "the positive index is 3 and negative index is -3 for h\n",
      "the positive index is 4 and negative index is -2 for o\n",
      "the positive index is 5 and negative index is -1 for n\n"
     ]
    }
   ],
   "source": [
    "i=0\n",
    "while i<len(string1):\n",
    "    print(\"the positive index is {} and negative index is {} for {}\".format(i,i-6,string1[i]))\n",
    "    i=i+1"
   ]
  },
  {
   "cell_type": "code",
   "execution_count": 51,
   "id": "cda880dd",
   "metadata": {},
   "outputs": [
    {
     "name": "stdout",
     "output_type": "stream",
     "text": [
      "2\n"
     ]
    }
   ],
   "source": [
    "string1='hai how are you'\n",
    "count=0\n",
    "for i in string1:\n",
    "    if i=='a':\n",
    "        count+=1\n",
    "print(count)        "
   ]
  },
  {
   "cell_type": "code",
   "execution_count": 50,
   "id": "5c999c95",
   "metadata": {},
   "outputs": [
    {
     "name": "stdout",
     "output_type": "stream",
     "text": [
      "2\n"
     ]
    }
   ],
   "source": [
    "string1='hai how are you'\n",
    "count=0\n",
    "for i in range(len(string1)):\n",
    "    if string1[i]=='a':\n",
    "        count+=1\n",
    "print(count)        "
   ]
  },
  {
   "cell_type": "markdown",
   "id": "bd9ae10d",
   "metadata": {},
   "source": [
    "- Mutable and immutable concept \n",
    "- mutable ======we can change\n",
    "- immutable ======we can not change the value by using index operations\n",
    "- strings are immutable "
   ]
  },
  {
   "cell_type": "code",
   "execution_count": 13,
   "id": "1662335d",
   "metadata": {},
   "outputs": [
    {
     "ename": "TypeError",
     "evalue": "'str' object does not support item assignment",
     "output_type": "error",
     "traceback": [
      "\u001b[1;31m---------------------------------------------------------------------------\u001b[0m",
      "\u001b[1;31mTypeError\u001b[0m                                 Traceback (most recent call last)",
      "Cell \u001b[1;32mIn[13], line 4\u001b[0m\n\u001b[0;32m      1\u001b[0m string1\u001b[38;5;241m=\u001b[39m\u001b[38;5;124m'\u001b[39m\u001b[38;5;124mpython\u001b[39m\u001b[38;5;124m'\u001b[39m\n\u001b[0;32m      2\u001b[0m \u001b[38;5;66;03m# i want change 'p' ====== 'p'\u001b[39;00m\n\u001b[0;32m      3\u001b[0m \u001b[38;5;66;03m# o/p:     'python'\u001b[39;00m\n\u001b[1;32m----> 4\u001b[0m string1[\u001b[38;5;241m0\u001b[39m]\u001b[38;5;241m=\u001b[39m\u001b[38;5;124m'\u001b[39m\u001b[38;5;124mp\u001b[39m\u001b[38;5;124m'\u001b[39m\n",
      "\u001b[1;31mTypeError\u001b[0m: 'str' object does not support item assignment"
     ]
    }
   ],
   "source": [
    "string1='python'\n",
    "# i want change 'p' ====== 'p'\n",
    "# o/p:     'python'\n",
    "string1[0]='p'\n"
   ]
  },
  {
   "cell_type": "code",
   "execution_count": 52,
   "id": "2f03c889",
   "metadata": {},
   "outputs": [
    {
     "data": {
      "text/plain": [
       "[1000, 200, 300]"
      ]
     },
     "execution_count": 52,
     "metadata": {},
     "output_type": "execute_result"
    }
   ],
   "source": [
    "list1=[100,200,300]  # 100 ======1000\n",
    "list1[0]=1000\n",
    "list1"
   ]
  },
  {
   "cell_type": "markdown",
   "id": "bab2522b",
   "metadata": {},
   "source": [
    "Slice"
   ]
  },
  {
   "cell_type": "code",
   "execution_count": null,
   "id": "bb7b9b95",
   "metadata": {},
   "outputs": [],
   "source": [
    "h  a  i     h  o  w     a  r  e      y  o  u\n",
    "0  1  2  3  4  5  6  7  8  9 10 11 12  13  14"
   ]
  },
  {
   "cell_type": "code",
   "execution_count": 58,
   "id": "b5bb78b6",
   "metadata": {},
   "outputs": [
    {
     "data": {
      "text/plain": [
       "'i how ar'"
      ]
     },
     "execution_count": 58,
     "metadata": {},
     "output_type": "execute_result"
    }
   ],
   "source": [
    "string1='hai how are you'\n",
    "string1[2:10]"
   ]
  },
  {
   "cell_type": "code",
   "execution_count": 56,
   "id": "798286b5",
   "metadata": {},
   "outputs": [
    {
     "data": {
      "text/plain": [
       "'hai how are you'"
      ]
     },
     "execution_count": 56,
     "metadata": {},
     "output_type": "execute_result"
    }
   ],
   "source": [
    "string='hai how are you'\n",
    "string"
   ]
  },
  {
   "cell_type": "code",
   "execution_count": 57,
   "id": "29a14315",
   "metadata": {},
   "outputs": [
    {
     "data": {
      "text/plain": [
       "'hai how are you'"
      ]
     },
     "execution_count": 57,
     "metadata": {},
     "output_type": "execute_result"
    }
   ],
   "source": [
    "string1[:]\n",
    "\n",
    "# nothing mentioned means take start and last letter"
   ]
  },
  {
   "cell_type": "code",
   "execution_count": 59,
   "id": "30c5aa72",
   "metadata": {},
   "outputs": [
    {
     "data": {
      "text/plain": [
       "'hai how are you'"
      ]
     },
     "execution_count": 59,
     "metadata": {},
     "output_type": "execute_result"
    }
   ],
   "source": [
    "string1[::]\n",
    "\n",
    "# start=0\n",
    "# stop=last letter len(string1)\n",
    "# step=+1"
   ]
  },
  {
   "cell_type": "code",
   "execution_count": 60,
   "id": "2bbb3b1a",
   "metadata": {},
   "outputs": [
    {
     "data": {
      "text/plain": [
       "''"
      ]
     },
     "execution_count": 60,
     "metadata": {},
     "output_type": "execute_result"
    }
   ],
   "source": [
    "string1[2:10:-3]"
   ]
  },
  {
   "cell_type": "code",
   "execution_count": 61,
   "id": "d6833880",
   "metadata": {},
   "outputs": [
    {
     "data": {
      "text/plain": [
       "'hai how are you'"
      ]
     },
     "execution_count": 61,
     "metadata": {},
     "output_type": "execute_result"
    }
   ],
   "source": [
    "string1='hai how are you'\n",
    "string1[2:10]\n",
    "string1[2:10:3]\n",
    "string1[:]\n",
    "string1[::]"
   ]
  },
  {
   "cell_type": "code",
   "execution_count": null,
   "id": "370bf7d1",
   "metadata": {},
   "outputs": [],
   "source": [
    "for i in range(2,10,-3):print(i)"
   ]
  },
  {
   "cell_type": "code",
   "execution_count": null,
   "id": "ca932437",
   "metadata": {},
   "outputs": [],
   "source": [
    "-15    -14   -13    -12    -11    -10    -9     -8     -7     -6     -5      -4      -3      -2     -1\n",
    "h        a    i              h      o      w            a      r      e               y       o       u\n",
    "0        1    2      3       4      5      6     7      8      9      10      11      12      13      14"
   ]
  },
  {
   "cell_type": "code",
   "execution_count": 30,
   "id": "3cd42402",
   "metadata": {},
   "outputs": [
    {
     "ename": "TypeError",
     "evalue": "'module' object is not subscriptable",
     "output_type": "error",
     "traceback": [
      "\u001b[1;31m---------------------------------------------------------------------------\u001b[0m",
      "\u001b[1;31mTypeError\u001b[0m                                 Traceback (most recent call last)",
      "Cell \u001b[1;32mIn[30], line 1\u001b[0m\n\u001b[1;32m----> 1\u001b[0m string[\u001b[38;5;241m-\u001b[39m\u001b[38;5;241m8\u001b[39m:\u001b[38;5;241m-\u001b[39m\u001b[38;5;241m15\u001b[39m:\u001b[38;5;241m-\u001b[39m\u001b[38;5;241m1\u001b[39m]\n",
      "\u001b[1;31mTypeError\u001b[0m: 'module' object is not subscriptable"
     ]
    }
   ],
   "source": [
    "string[-8:-15:-1]"
   ]
  },
  {
   "cell_type": "code",
   "execution_count": null,
   "id": "9b960342",
   "metadata": {},
   "outputs": [],
   "source": [
    "string[2:14:2]     ##possible\n",
    "string[2:14:-2]    ## not possible\n",
    "string[2:-14:2]    ## not possible\n",
    "string[2:-14:-2]   ## possible\n",
    "string[-2:-14:-2]  ## not posible\n",
    "string[-2:14:2]    ## possible\n",
    "string[-2:-14:-2]  ## not possible"
   ]
  },
  {
   "cell_type": "code",
   "execution_count": 63,
   "id": "e276df9d",
   "metadata": {},
   "outputs": [
    {
     "data": {
      "text/plain": [
       "'ihwaey'"
      ]
     },
     "execution_count": 63,
     "metadata": {},
     "output_type": "execute_result"
    }
   ],
   "source": [
    "string[2:14:2]"
   ]
  },
  {
   "cell_type": "code",
   "execution_count": 64,
   "id": "f2bd6104",
   "metadata": {},
   "outputs": [
    {
     "data": {
      "text/plain": [
       "''"
      ]
     },
     "execution_count": 64,
     "metadata": {},
     "output_type": "execute_result"
    }
   ],
   "source": [
    "string[2:14:-2]"
   ]
  },
  {
   "cell_type": "code",
   "execution_count": 65,
   "id": "caf91ba3",
   "metadata": {},
   "outputs": [
    {
     "data": {
      "text/plain": [
       "'i'"
      ]
     },
     "execution_count": 65,
     "metadata": {},
     "output_type": "execute_result"
    }
   ],
   "source": [
    "string[2:-14:-2]\n",
    "\n",
    "\n",
    "# start=2\n",
    "# stop-14+1=-13\n",
    "# 2"
   ]
  },
  {
   "cell_type": "code",
   "execution_count": 66,
   "id": "37631e3b",
   "metadata": {},
   "outputs": [
    {
     "data": {
      "text/plain": [
       "''"
      ]
     },
     "execution_count": 66,
     "metadata": {},
     "output_type": "execute_result"
    }
   ],
   "source": [
    "string[2:-14:2]"
   ]
  },
  {
   "cell_type": "code",
   "execution_count": 67,
   "id": "a2603aca",
   "metadata": {},
   "outputs": [
    {
     "data": {
      "text/plain": [
       "'o r o '"
      ]
     },
     "execution_count": 67,
     "metadata": {},
     "output_type": "execute_result"
    }
   ],
   "source": [
    "string[-2:-14:-2]"
   ]
  },
  {
   "cell_type": "code",
   "execution_count": 68,
   "id": "4cc0cebe",
   "metadata": {},
   "outputs": [
    {
     "data": {
      "text/plain": [
       "'o'"
      ]
     },
     "execution_count": 68,
     "metadata": {},
     "output_type": "execute_result"
    }
   ],
   "source": [
    "string[-2:14:2]"
   ]
  },
  {
   "cell_type": "code",
   "execution_count": 69,
   "id": "02d5348d",
   "metadata": {},
   "outputs": [
    {
     "data": {
      "text/plain": [
       "'o r o '"
      ]
     },
     "execution_count": 69,
     "metadata": {},
     "output_type": "execute_result"
    }
   ],
   "source": [
    "string[-2:-14:-2]"
   ]
  },
  {
   "cell_type": "markdown",
   "id": "e0c826d4",
   "metadata": {},
   "source": [
    "- reading methods\n",
    "- single/double/triple(doc string)\n",
    "- type\n",
    "- len\n",
    "- max\n",
    "- min\n",
    "- concatenation\n",
    "- subtraction/multiply/division\n",
    "- in \n",
    "- index\n",
    "- mutable\n",
    "- immutable"
   ]
  },
  {
   "cell_type": "raw",
   "id": "7c439ba9",
   "metadata": {},
   "source": [
    "String Methods"
   ]
  },
  {
   "cell_type": "code",
   "execution_count": 75,
   "id": "f3a986d5",
   "metadata": {},
   "outputs": [
    {
     "ename": "SyntaxError",
     "evalue": "invalid syntax (2487830194.py, line 1)",
     "output_type": "error",
     "traceback": [
      "\u001b[1;36m  Cell \u001b[1;32mIn[75], line 1\u001b[1;36m\u001b[0m\n\u001b[1;33m    import <package_name>\u001b[0m\n\u001b[1;37m           ^\u001b[0m\n\u001b[1;31mSyntaxError\u001b[0m\u001b[1;31m:\u001b[0m invalid syntax\n"
     ]
    }
   ],
   "source": [
    "import <package_name>    \n",
    "dir(<package_name>)\n",
    "help(<package_name>.<method_name>)"
   ]
  },
  {
   "cell_type": "code",
   "execution_count": 76,
   "id": "f23b941c",
   "metadata": {},
   "outputs": [
    {
     "data": {
      "text/plain": [
       "['__add__',\n",
       " '__class__',\n",
       " '__contains__',\n",
       " '__delattr__',\n",
       " '__dir__',\n",
       " '__doc__',\n",
       " '__eq__',\n",
       " '__format__',\n",
       " '__ge__',\n",
       " '__getattribute__',\n",
       " '__getitem__',\n",
       " '__getnewargs__',\n",
       " '__getstate__',\n",
       " '__gt__',\n",
       " '__hash__',\n",
       " '__init__',\n",
       " '__init_subclass__',\n",
       " '__iter__',\n",
       " '__le__',\n",
       " '__len__',\n",
       " '__lt__',\n",
       " '__mod__',\n",
       " '__mul__',\n",
       " '__ne__',\n",
       " '__new__',\n",
       " '__reduce__',\n",
       " '__reduce_ex__',\n",
       " '__repr__',\n",
       " '__rmod__',\n",
       " '__rmul__',\n",
       " '__setattr__',\n",
       " '__sizeof__',\n",
       " '__str__',\n",
       " '__subclasshook__',\n",
       " 'capitalize',\n",
       " 'casefold',\n",
       " 'center',\n",
       " 'count',\n",
       " 'encode',\n",
       " 'endswith',\n",
       " 'expandtabs',\n",
       " 'find',\n",
       " 'format',\n",
       " 'format_map',\n",
       " 'index',\n",
       " 'isalnum',\n",
       " 'isalpha',\n",
       " 'isascii',\n",
       " 'isdecimal',\n",
       " 'isdigit',\n",
       " 'isidentifier',\n",
       " 'islower',\n",
       " 'isnumeric',\n",
       " 'isprintable',\n",
       " 'isspace',\n",
       " 'istitle',\n",
       " 'isupper',\n",
       " 'join',\n",
       " 'ljust',\n",
       " 'lower',\n",
       " 'lstrip',\n",
       " 'maketrans',\n",
       " 'partition',\n",
       " 'removeprefix',\n",
       " 'removesuffix',\n",
       " 'replace',\n",
       " 'rfind',\n",
       " 'rindex',\n",
       " 'rjust',\n",
       " 'rpartition',\n",
       " 'rsplit',\n",
       " 'rstrip',\n",
       " 'split',\n",
       " 'splitlines',\n",
       " 'startswith',\n",
       " 'strip',\n",
       " 'swapcase',\n",
       " 'title',\n",
       " 'translate',\n",
       " 'upper',\n",
       " 'zfill']"
      ]
     },
     "execution_count": 76,
     "metadata": {},
     "output_type": "execute_result"
    }
   ],
   "source": [
    "dir(' ')"
   ]
  },
  {
   "cell_type": "markdown",
   "id": "4618653a",
   "metadata": {},
   "source": [
    "capitalize"
   ]
  },
  {
   "cell_type": "code",
   "execution_count": 77,
   "id": "c8e81ee0",
   "metadata": {},
   "outputs": [
    {
     "name": "stdout",
     "output_type": "stream",
     "text": [
      "Help on built-in function capitalize:\n",
      "\n",
      "capitalize() method of builtins.str instance\n",
      "    Return a capitalized version of the string.\n",
      "    \n",
      "    More specifically, make the first character have upper case and the rest lower\n",
      "    case.\n",
      "\n"
     ]
    }
   ],
   "source": [
    "string1='welcome'\n",
    "help(string1.capitalize)"
   ]
  },
  {
   "cell_type": "code",
   "execution_count": 78,
   "id": "18f8eed1",
   "metadata": {},
   "outputs": [
    {
     "data": {
      "text/plain": [
       "'Welcome'"
      ]
     },
     "execution_count": 78,
     "metadata": {},
     "output_type": "execute_result"
    }
   ],
   "source": [
    "string1='welcome'\n",
    "string1.capitalize()"
   ]
  },
  {
   "cell_type": "code",
   "execution_count": 79,
   "id": "cdba8e95",
   "metadata": {},
   "outputs": [
    {
     "data": {
      "text/plain": [
       "'WELCOME'"
      ]
     },
     "execution_count": 79,
     "metadata": {},
     "output_type": "execute_result"
    }
   ],
   "source": [
    "string1.upper()\n"
   ]
  },
  {
   "cell_type": "code",
   "execution_count": 81,
   "id": "9c061e7a",
   "metadata": {},
   "outputs": [
    {
     "data": {
      "text/plain": [
       "'welcome'"
      ]
     },
     "execution_count": 81,
     "metadata": {},
     "output_type": "execute_result"
    }
   ],
   "source": [
    "string1.lower()\n"
   ]
  },
  {
   "cell_type": "code",
   "execution_count": 82,
   "id": "b7f574c3",
   "metadata": {},
   "outputs": [
    {
     "name": "stdout",
     "output_type": "stream",
     "text": [
      "Welcome\n",
      "WELCOME\n",
      "welcome\n"
     ]
    }
   ],
   "source": [
    "string1='welcome'\n",
    "print(string1.capitalize())\n",
    "print(string1.upper())\n",
    "print(string1.lower())"
   ]
  },
  {
   "cell_type": "code",
   "execution_count": 88,
   "id": "8b8be02d",
   "metadata": {},
   "outputs": [],
   "source": [
    "string1='hai how are you'\n",
    "# how many 'a's are there"
   ]
  },
  {
   "cell_type": "code",
   "execution_count": 89,
   "id": "ee305914",
   "metadata": {},
   "outputs": [
    {
     "data": {
      "text/plain": [
       "2"
      ]
     },
     "execution_count": 89,
     "metadata": {},
     "output_type": "execute_result"
    }
   ],
   "source": [
    "string1.count('a')"
   ]
  },
  {
   "cell_type": "code",
   "execution_count": 96,
   "id": "0d26c1c9",
   "metadata": {},
   "outputs": [],
   "source": [
    "count=0\n",
    "for i in string1:\n",
    "    if i=='a':\n",
    "        count+=1"
   ]
  },
  {
   "cell_type": "code",
   "execution_count": 18,
   "id": "cae59fc1",
   "metadata": {},
   "outputs": [],
   "source": [
    "string1='welcome'\n",
    "# output: 'welcome'\n",
    "# idea:\n",
    "# str1=we\n",
    "# str2=come\n",
    "# index\n",
    "# slice\n",
    "# concatenation= str1+'L'+str2\n",
    "\n"
   ]
  },
  {
   "cell_type": "code",
   "execution_count": 19,
   "id": "5b3bd7c4",
   "metadata": {},
   "outputs": [
    {
     "data": {
      "text/plain": [
       "'weLcome'"
      ]
     },
     "execution_count": 19,
     "metadata": {},
     "output_type": "execute_result"
    }
   ],
   "source": [
    "string1='welcome'\n",
    "str1=string1[:2]\n",
    "str2=string1[3:]\n",
    "str1+'L'+str2"
   ]
  },
  {
   "cell_type": "code",
   "execution_count": 20,
   "id": "74fa00ce",
   "metadata": {},
   "outputs": [
    {
     "data": {
      "text/plain": [
       "'welcome'"
      ]
     },
     "execution_count": 20,
     "metadata": {},
     "output_type": "execute_result"
    }
   ],
   "source": [
    "string1.replace('1','L')"
   ]
  },
  {
   "cell_type": "code",
   "execution_count": 3,
   "id": "1fd54375",
   "metadata": {},
   "outputs": [
    {
     "data": {
      "text/plain": [
       "2"
      ]
     },
     "execution_count": 3,
     "metadata": {},
     "output_type": "execute_result"
    }
   ],
   "source": [
    "string1='hai how are you'\n",
    "## how many 'a are there'\n",
    "string1.count('a')"
   ]
  },
  {
   "cell_type": "code",
   "execution_count": null,
   "id": "96b43f75",
   "metadata": {},
   "outputs": [],
   "source": [
    "string1='ola ola ola'\n"
   ]
  },
  {
   "cell_type": "code",
   "execution_count": 6,
   "id": "56a7d153",
   "metadata": {},
   "outputs": [
    {
     "name": "stdout",
     "output_type": "stream",
     "text": [
      "2\n",
      "2\n",
      "0\n",
      "1\n",
      "0\n",
      "2\n",
      "0\n"
     ]
    }
   ],
   "source": [
    "string1='ola ola ola'\n",
    "# ola ola ola\n",
    "#012 3 456 7 8910\n",
    "# we are counting the number of 'a' from index 4\n",
    "print(string1.count('a',4))\n",
    "print(string1.count('a',6))\n",
    "print(string1.count('a',4,6))         # 4 and 5\n",
    "print(string1.count('a',4,7))         # 4 5 6\n",
    "print(string1.count('A',4))           # 0\n",
    "print(string1.count('A'.lower(),4))   # 2\n",
    "print(string1.count('a'.upper(),4,7))\n"
   ]
  },
  {
   "cell_type": "code",
   "execution_count": 7,
   "id": "52a5a5c1",
   "metadata": {},
   "outputs": [
    {
     "data": {
      "text/plain": [
       "3"
      ]
     },
     "execution_count": 7,
     "metadata": {},
     "output_type": "execute_result"
    }
   ],
   "source": [
    "'ola ola ola'.count('a')"
   ]
  },
  {
   "cell_type": "code",
   "execution_count": 8,
   "id": "aad24fda",
   "metadata": {},
   "outputs": [
    {
     "name": "stdout",
     "output_type": "stream",
     "text": [
      "3\n"
     ]
    }
   ],
   "source": [
    "string1='ola ola ola'\n",
    "count=0\n",
    "for i in string1:\n",
    "    if i=='a':\n",
    "        count+=1\n",
    "print(count)        "
   ]
  },
  {
   "cell_type": "code",
   "execution_count": 10,
   "id": "97355772",
   "metadata": {},
   "outputs": [
    {
     "name": "stdout",
     "output_type": "stream",
     "text": [
      "3\n"
     ]
    }
   ],
   "source": [
    "# how many 'ola' are there\n",
    "# do till now what we completed use that except count method\n",
    "\n",
    "string='ola ola ola'\n",
    "count=0\n",
    "for i in range(len(string1)):\n",
    "    if string1[i:i+3]=='ola':\n",
    "          count+=1\n",
    "print(count)\n",
    "# i=0   string1[0:3]:   0 1 2    :  ola\n",
    "# i=1   string1[1:4]:   1 2 3    :  la\n",
    "      \n",
    "        "
   ]
  },
  {
   "cell_type": "code",
   "execution_count": 11,
   "id": "99dbfcac",
   "metadata": {},
   "outputs": [
    {
     "data": {
      "text/plain": [
       "3"
      ]
     },
     "execution_count": 11,
     "metadata": {},
     "output_type": "execute_result"
    }
   ],
   "source": [
    "string1.count('a')     # this as developer\n",
    "string1.count('ola')   # as developer mode"
   ]
  },
  {
   "cell_type": "raw",
   "id": "3ac20aaa",
   "metadata": {},
   "source": [
    " replace"
   ]
  },
  {
   "cell_type": "code",
   "execution_count": 12,
   "id": "3ce5c747",
   "metadata": {},
   "outputs": [
    {
     "data": {
      "text/plain": [
       "'welcome'"
      ]
     },
     "execution_count": 12,
     "metadata": {},
     "output_type": "execute_result"
    }
   ],
   "source": [
    "string1='welcome'\n",
    "# replace 'l' with 'L'\n",
    "string1.replace('1','L')"
   ]
  },
  {
   "cell_type": "code",
   "execution_count": 16,
   "id": "96ca0c98",
   "metadata": {},
   "outputs": [
    {
     "data": {
      "text/plain": [
       "'welcome'"
      ]
     },
     "execution_count": 16,
     "metadata": {},
     "output_type": "execute_result"
    }
   ],
   "source": [
    "string1='welcome'\n",
    "# replace 'l' with 'L'\n",
    "string1.replace('1','@')"
   ]
  },
  {
   "cell_type": "code",
   "execution_count": 17,
   "id": "69f92b29",
   "metadata": {},
   "outputs": [
    {
     "ename": "TypeError",
     "evalue": "str.replace() takes no keyword arguments",
     "output_type": "error",
     "traceback": [
      "\u001b[1;31m---------------------------------------------------------------------------\u001b[0m",
      "\u001b[1;31mTypeError\u001b[0m                                 Traceback (most recent call last)",
      "Cell \u001b[1;32mIn[17], line 3\u001b[0m\n\u001b[0;32m      1\u001b[0m string1\u001b[38;5;241m=\u001b[39m\u001b[38;5;124m'\u001b[39m\u001b[38;5;124mrestart\u001b[39m\u001b[38;5;124m'\u001b[39m\n\u001b[0;32m      2\u001b[0m \u001b[38;5;66;03m# replace 'r' with '$'\u001b[39;00m\n\u001b[1;32m----> 3\u001b[0m string1\u001b[38;5;241m.\u001b[39mreplace(\u001b[38;5;124m'\u001b[39m\u001b[38;5;124mr\u001b[39m\u001b[38;5;124m'\u001b[39m,\u001b[38;5;124m'\u001b[39m\u001b[38;5;124m$\u001b[39m\u001b[38;5;124m'\u001b[39m,count\u001b[38;5;241m=\u001b[39m\u001b[38;5;241m1\u001b[39m)\n",
      "\u001b[1;31mTypeError\u001b[0m: str.replace() takes no keyword arguments"
     ]
    }
   ],
   "source": [
    "string1='restart'\n",
    "# replace 'r' with '$'\n",
    "string1.replace('r','$',count=1)"
   ]
  },
  {
   "cell_type": "code",
   "execution_count": 18,
   "id": "b4b9d947",
   "metadata": {},
   "outputs": [
    {
     "data": {
      "text/plain": [
       "'$estart rrr'"
      ]
     },
     "execution_count": 18,
     "metadata": {},
     "output_type": "execute_result"
    }
   ],
   "source": [
    "string1='restart rrr'\n",
    "# replace 'r' with '$'\n",
    "string1.replace('r','$',1)"
   ]
  },
  {
   "cell_type": "code",
   "execution_count": 22,
   "id": "8aa25407",
   "metadata": {},
   "outputs": [
    {
     "data": {
      "text/plain": [
       "'t'"
      ]
     },
     "execution_count": 22,
     "metadata": {},
     "output_type": "execute_result"
    }
   ],
   "source": [
    "len(string1)\n",
    "max(string1)   # string1.max()"
   ]
  },
  {
   "cell_type": "code",
   "execution_count": 25,
   "id": "7d80c5af",
   "metadata": {},
   "outputs": [
    {
     "data": {
      "text/plain": [
       "'resta$t'"
      ]
     },
     "execution_count": 25,
     "metadata": {},
     "output_type": "execute_result"
    }
   ],
   "source": [
    "string1='restart'\n",
    "s1=string1[0]\n",
    "s2=string1[1:].replace('r','$')\n",
    "s1+s2\n",
    "# 0/p:  'resta$t'\n",
    "\n",
    "# do only with what we completed till now"
   ]
  },
  {
   "cell_type": "code",
   "execution_count": 21,
   "id": "cc546a2e",
   "metadata": {},
   "outputs": [
    {
     "data": {
      "text/plain": [
       "'$estart'"
      ]
     },
     "execution_count": 21,
     "metadata": {},
     "output_type": "execute_result"
    }
   ],
   "source": [
    "string1='restart'\n",
    "# replace 'r' with '$\n",
    "string1.replace('r','$',1)"
   ]
  },
  {
   "cell_type": "code",
   "execution_count": 24,
   "id": "23626dc6",
   "metadata": {},
   "outputs": [
    {
     "data": {
      "text/plain": [
       "'resta$t'"
      ]
     },
     "execution_count": 24,
     "metadata": {},
     "output_type": "execute_result"
    }
   ],
   "source": [
    "string1='restart'\n",
    "s1=string1[0]\n",
    "s2=string1[1:].replace('r','$')\n",
    "s1+s2"
   ]
  },
  {
   "cell_type": "code",
   "execution_count": 27,
   "id": "1eef1c42",
   "metadata": {},
   "outputs": [
    {
     "data": {
      "text/plain": [
       "'resta$t'"
      ]
     },
     "execution_count": 27,
     "metadata": {},
     "output_type": "execute_result"
    }
   ],
   "source": [
    "string1[::-1].replace('r','$',1)[::-1]"
   ]
  },
  {
   "cell_type": "markdown",
   "id": "85701f41",
   "metadata": {},
   "source": [
    "index"
   ]
  },
  {
   "cell_type": "code",
   "execution_count": 28,
   "id": "9105d3f1",
   "metadata": {},
   "outputs": [
    {
     "data": {
      "text/plain": [
       "3"
      ]
     },
     "execution_count": 28,
     "metadata": {},
     "output_type": "execute_result"
    }
   ],
   "source": [
    "string1='welcome python'\n",
    "string1.index('c')\n",
    "\n",
    "# index of 'c'"
   ]
  },
  {
   "cell_type": "code",
   "execution_count": 38,
   "id": "bf7466a1",
   "metadata": {},
   "outputs": [
    {
     "name": "stdout",
     "output_type": "stream",
     "text": [
      "0\n"
     ]
    },
    {
     "data": {
      "text/plain": [
       "0"
      ]
     },
     "execution_count": 38,
     "metadata": {},
     "output_type": "execute_result"
    }
   ],
   "source": [
    "sring1='hai how are you and'\n",
    "# how many 'a' are there\n",
    "# what are the indexes of 'a'\n",
    "\n",
    "count=0\n",
    "for i in string1:\n",
    "    if i=='a':\n",
    "        count+=1\n",
    "        \n",
    "print(count) \n",
    "\n",
    "string1.count('a')"
   ]
  },
  {
   "cell_type": "code",
   "execution_count": 53,
   "id": "e911d63a",
   "metadata": {},
   "outputs": [
    {
     "name": "stdout",
     "output_type": "stream",
     "text": [
      "2\n",
      "6\n",
      "10\n"
     ]
    },
    {
     "ename": "IndexError",
     "evalue": "string index out of range",
     "output_type": "error",
     "traceback": [
      "\u001b[1;31m---------------------------------------------------------------------------\u001b[0m",
      "\u001b[1;31mIndexError\u001b[0m                                Traceback (most recent call last)",
      "Cell \u001b[1;32mIn[53], line 2\u001b[0m\n\u001b[0;32m      1\u001b[0m \u001b[38;5;28;01mfor\u001b[39;00m i \u001b[38;5;129;01min\u001b[39;00m \u001b[38;5;28mrange\u001b[39m(\u001b[38;5;28mlen\u001b[39m(string1)):\n\u001b[1;32m----> 2\u001b[0m     \u001b[38;5;28;01mif\u001b[39;00m string[i]\u001b[38;5;241m==\u001b[39m\u001b[38;5;124m'\u001b[39m\u001b[38;5;124ma\u001b[39m\u001b[38;5;124m'\u001b[39m:\n\u001b[0;32m      3\u001b[0m         \u001b[38;5;28mprint\u001b[39m(i)\n",
      "\u001b[1;31mIndexError\u001b[0m: string index out of range"
     ]
    }
   ],
   "source": [
    "for i in range(len(string1)):\n",
    "    if string[i]=='a':\n",
    "        print(i)"
   ]
  },
  {
   "cell_type": "code",
   "execution_count": 54,
   "id": "ffb59888",
   "metadata": {},
   "outputs": [
    {
     "data": {
      "text/plain": [
       "1"
      ]
     },
     "execution_count": 54,
     "metadata": {},
     "output_type": "execute_result"
    }
   ],
   "source": [
    "string1.index('a')   #  only first accurance"
   ]
  },
  {
   "cell_type": "code",
   "execution_count": 57,
   "id": "0988aea1",
   "metadata": {},
   "outputs": [
    {
     "ename": "ValueError",
     "evalue": "substring not found",
     "output_type": "error",
     "traceback": [
      "\u001b[1;31m---------------------------------------------------------------------------\u001b[0m",
      "\u001b[1;31mValueError\u001b[0m                                Traceback (most recent call last)",
      "Cell \u001b[1;32mIn[57], line 6\u001b[0m\n\u001b[0;32m      4\u001b[0m i3\u001b[38;5;241m=\u001b[39m(string1\u001b[38;5;241m.\u001b[39mindex(\u001b[38;5;124m'\u001b[39m\u001b[38;5;124ma\u001b[39m\u001b[38;5;124m'\u001b[39m,i2\u001b[38;5;241m+\u001b[39m\u001b[38;5;241m1\u001b[39m))\n\u001b[0;32m      5\u001b[0m i4\u001b[38;5;241m=\u001b[39m(string1\u001b[38;5;241m.\u001b[39mindex(\u001b[38;5;124m'\u001b[39m\u001b[38;5;124ma\u001b[39m\u001b[38;5;124m'\u001b[39m,i3\u001b[38;5;241m+\u001b[39m\u001b[38;5;241m1\u001b[39m))\n\u001b[1;32m----> 6\u001b[0m i5\u001b[38;5;241m=\u001b[39m(string1\u001b[38;5;241m.\u001b[39mindex(\u001b[38;5;124m'\u001b[39m\u001b[38;5;124ma\u001b[39m\u001b[38;5;124m'\u001b[39m,i4\u001b[38;5;241m+\u001b[39m\u001b[38;5;241m1\u001b[39m))\n\u001b[0;32m      7\u001b[0m \u001b[38;5;28mprint\u001b[39m(i1,i2,i3,i4,i5)\n",
      "\u001b[1;31mValueError\u001b[0m: substring not found"
     ]
    }
   ],
   "source": [
    "string1='hai hai hai hai'\n",
    "i1=(string1.index('a'))\n",
    "i2=(string1.index('a',i1+1))  \n",
    "i3=(string1.index('a',i2+1))\n",
    "i4=(string1.index('a',i3+1))\n",
    "i5=(string1.index('a',i4+1))\n",
    "print(i1,i2,i3,i4,i5)\n"
   ]
  },
  {
   "cell_type": "code",
   "execution_count": 48,
   "id": "419d4595",
   "metadata": {},
   "outputs": [
    {
     "data": {
      "text/plain": [
       "5"
      ]
     },
     "execution_count": 48,
     "metadata": {},
     "output_type": "execute_result"
    }
   ],
   "source": [
    "string1.index('a',string1.index('a')+1)"
   ]
  },
  {
   "cell_type": "code",
   "execution_count": 56,
   "id": "5062545c",
   "metadata": {},
   "outputs": [
    {
     "data": {
      "text/plain": [
       "9"
      ]
     },
     "execution_count": 56,
     "metadata": {},
     "output_type": "execute_result"
    }
   ],
   "source": [
    "string1='hai hai hai hai hai'\n",
    "# i want to first occurance of 'a'\n",
    "string1.index('a')\n",
    "# second occurance of 'a'\n",
    "string1.index('a',i1+1)\n",
    "string1.index('a',i2+1)"
   ]
  },
  {
   "cell_type": "code",
   "execution_count": null,
   "id": "6a8823dc",
   "metadata": {},
   "outputs": [],
   "source": [
    "string1.index('a',string1.index('a',string1.index))"
   ]
  },
  {
   "cell_type": "code",
   "execution_count": null,
   "id": "15574bea",
   "metadata": {},
   "outputs": [],
   "source": [
    "string1='welcome helo'\n",
    "string1.index('1')\n",
    "string1.index('1',string1.index('1')+1)\n",
    " # string1.index('1',string1.index('1',string1.index('L',string1.index)))"
   ]
  },
  {
   "cell_type": "markdown",
   "id": "61e1edf0",
   "metadata": {},
   "source": [
    "find"
   ]
  },
  {
   "cell_type": "code",
   "execution_count": 2,
   "id": "a494e678",
   "metadata": {},
   "outputs": [
    {
     "ename": "ValueError",
     "evalue": "substring not found",
     "output_type": "error",
     "traceback": [
      "\u001b[1;31m---------------------------------------------------------------------------\u001b[0m",
      "\u001b[1;31mValueError\u001b[0m                                Traceback (most recent call last)",
      "Cell \u001b[1;32mIn[2], line 12\u001b[0m\n\u001b[0;32m      8\u001b[0m string1\u001b[38;5;241m.\u001b[39mfind(\u001b[38;5;124m'\u001b[39m\u001b[38;5;124mz\u001b[39m\u001b[38;5;124m'\u001b[39m)      \u001b[38;5;66;03m# no error\u001b[39;00m\n\u001b[0;32m     10\u001b[0m \u001b[38;5;66;03m# if substring not found it returns -1\u001b[39;00m\n\u001b[1;32m---> 12\u001b[0m string1\u001b[38;5;241m.\u001b[39mindex(\u001b[38;5;124m'\u001b[39m\u001b[38;5;124mz\u001b[39m\u001b[38;5;124m'\u001b[39m)\n\u001b[0;32m     13\u001b[0m \u001b[38;5;66;03m# value error: sustring not found\u001b[39;00m\n\u001b[0;32m     15\u001b[0m string1\u001b[38;5;241m.\u001b[39mcount(\u001b[38;5;124m'\u001b[39m\u001b[38;5;124mz\u001b[39m\u001b[38;5;124m'\u001b[39m)\n",
      "\u001b[1;31mValueError\u001b[0m: substring not found"
     ]
    }
   ],
   "source": [
    "# take one string1\n",
    "# string1.find()\n",
    "# apply shift+tab\n",
    "# road what is is says\n",
    "# implement that\n",
    "\n",
    "string1='hai hai'\n",
    "string1.find('z')      # no error\n",
    "\n",
    "# if substring not found it returns -1\n",
    "\n",
    "string1.index('z')\n",
    "# value error: sustring not found\n",
    "\n",
    "string1.count('z')    # no error\n",
    "# returns"
   ]
  },
  {
   "cell_type": "markdown",
   "id": "0f3f646e",
   "metadata": {},
   "source": [
    "- capitalize/upper/lower/casefold\n",
    "- index/find\n",
    "- count\n",
    "- replace"
   ]
  },
  {
   "cell_type": "code",
   "execution_count": 1,
   "id": "2b161576",
   "metadata": {},
   "outputs": [
    {
     "data": {
      "text/plain": [
       "2"
      ]
     },
     "execution_count": 1,
     "metadata": {},
     "output_type": "execute_result"
    }
   ],
   "source": [
    "str1='hai how are you,im good'\n",
    "str1.index('i')  # first accurance"
   ]
  },
  {
   "cell_type": "code",
   "execution_count": 2,
   "id": "b94edc4a",
   "metadata": {},
   "outputs": [
    {
     "data": {
      "text/plain": [
       "16"
      ]
     },
     "execution_count": 2,
     "metadata": {},
     "output_type": "execute_result"
    }
   ],
   "source": [
    "str1.index('i',str1.index('i')+1)"
   ]
  },
  {
   "cell_type": "markdown",
   "id": "cb8e3163",
   "metadata": {},
   "source": [
    " ## strip-lstrip-rstrip"
   ]
  },
  {
   "cell_type": "code",
   "execution_count": 6,
   "id": "9b3a9b16",
   "metadata": {},
   "outputs": [],
   "source": [
    "str1=' hello how are you '\n",
    "str2=\" hello how are you\"\n",
    "str3=\"hello how are you \"\n",
    "\n",
    "# i want remove the spaces\n",
    "# if you want to remove the spaces both side use strip method\n",
    "# if you want to remove the spaces only left side then use lstrip:left strip\n",
    "# if you want to remove the spaces only right side then use rstrip:right strip"
   ]
  },
  {
   "cell_type": "code",
   "execution_count": 7,
   "id": "50e574bd",
   "metadata": {},
   "outputs": [
    {
     "data": {
      "text/plain": [
       "' hello how are you '"
      ]
     },
     "execution_count": 7,
     "metadata": {},
     "output_type": "execute_result"
    }
   ],
   "source": [
    "str1"
   ]
  },
  {
   "cell_type": "code",
   "execution_count": 10,
   "id": "baffa68c",
   "metadata": {},
   "outputs": [
    {
     "name": "stdout",
     "output_type": "stream",
     "text": [
      "hello how are you\n",
      "hello how are you \n",
      " hello how are you\n"
     ]
    }
   ],
   "source": [
    "print(str1.strip())\n",
    "print(str1.lstrip())\n",
    "print(str1.rstrip())"
   ]
  },
  {
   "cell_type": "code",
   "execution_count": 11,
   "id": "dcce14f1",
   "metadata": {},
   "outputs": [
    {
     "name": "stdout",
     "output_type": "stream",
     "text": [
      "hello how are you\n",
      "hello how are you\n",
      " hello how are you\n"
     ]
    }
   ],
   "source": [
    "print(str3.strip())\n",
    "print(str2.lstrip())\n",
    "print(str2.rstrip())"
   ]
  },
  {
   "cell_type": "code",
   "execution_count": 12,
   "id": "0aaac30b",
   "metadata": {},
   "outputs": [
    {
     "name": "stdout",
     "output_type": "stream",
     "text": [
      "hello how are you \n"
     ]
    }
   ],
   "source": [
    "print(str3)"
   ]
  },
  {
   "cell_type": "code",
   "execution_count": 3,
   "id": "86d0eb66",
   "metadata": {},
   "outputs": [
    {
     "ename": "NameError",
     "evalue": "name 'str3' is not defined",
     "output_type": "error",
     "traceback": [
      "\u001b[1;31m---------------------------------------------------------------------------\u001b[0m",
      "\u001b[1;31mNameError\u001b[0m                                 Traceback (most recent call last)",
      "Cell \u001b[1;32mIn[3], line 1\u001b[0m\n\u001b[1;32m----> 1\u001b[0m str3\n",
      "\u001b[1;31mNameError\u001b[0m: name 'str3' is not defined"
     ]
    }
   ],
   "source": [
    "str3"
   ]
  },
  {
   "cell_type": "code",
   "execution_count": 24,
   "id": "73aac99f",
   "metadata": {},
   "outputs": [
    {
     "data": {
      "text/plain": [
       "'c'"
      ]
     },
     "execution_count": 24,
     "metadata": {},
     "output_type": "execute_result"
    }
   ],
   "source": [
    "str1='a.b@c.com'\n",
    "\n",
    "first_dot=str1.index('.')\n",
    "second_dot=str1.index('.',first_dot+1)\n",
    "\n",
    "str1[str1.find('@')+1:second_dot]\n",
    "\n",
    "# extract first name: python\n",
    "# extract second name: anaconda\n",
    "# extract company name: nareshit\n",
    "\n",
    "# do not count it\n",
    "# use methods find/index print(\"extract first name:\".format(python))\n",
    "\n",
    "\n"
   ]
  },
  {
   "cell_type": "code",
   "execution_count": null,
   "id": "65baa45a",
   "metadata": {},
   "outputs": [],
   "source": [
    "str1.find('-')\n",
    "str3 :str3.find('-')"
   ]
  },
  {
   "cell_type": "code",
   "execution_count": 17,
   "id": "673e0a2e",
   "metadata": {},
   "outputs": [
    {
     "data": {
      "text/plain": [
       "6"
      ]
     },
     "execution_count": 17,
     "metadata": {},
     "output_type": "execute_result"
    }
   ],
   "source": [
    "str1[0:6],str1[7:15],str1[16:24]\n",
    "str1.find('.')\n"
   ]
  },
  {
   "cell_type": "code",
   "execution_count": 21,
   "id": "bb7e0087",
   "metadata": {},
   "outputs": [
    {
     "data": {
      "text/plain": [
       "'anaconda'"
      ]
     },
     "execution_count": 21,
     "metadata": {},
     "output_type": "execute_result"
    }
   ],
   "source": [
    "str1[0:str1.find('.')]\n",
    "str1[7:15]"
   ]
  },
  {
   "cell_type": "code",
   "execution_count": 25,
   "id": "706e7daa",
   "metadata": {},
   "outputs": [
    {
     "data": {
      "text/plain": [
       "'3'"
      ]
     },
     "execution_count": 25,
     "metadata": {},
     "output_type": "execute_result"
    }
   ],
   "source": [
    "str1='3.1489'\n",
    "# extract 3\n",
    "# extract 1489\n",
    "\n",
    "str1[0]"
   ]
  },
  {
   "cell_type": "code",
   "execution_count": 26,
   "id": "75abe20e",
   "metadata": {},
   "outputs": [
    {
     "data": {
      "text/plain": [
       "0"
      ]
     },
     "execution_count": 26,
     "metadata": {},
     "output_type": "execute_result"
    }
   ],
   "source": [
    "str1.index('.')-1\n"
   ]
  },
  {
   "cell_type": "code",
   "execution_count": 27,
   "id": "a36a3d71",
   "metadata": {},
   "outputs": [
    {
     "data": {
      "text/plain": [
       "2"
      ]
     },
     "execution_count": 27,
     "metadata": {},
     "output_type": "execute_result"
    }
   ],
   "source": [
    "str1.index('.')+1"
   ]
  },
  {
   "cell_type": "code",
   "execution_count": 28,
   "id": "6d6724b3",
   "metadata": {},
   "outputs": [
    {
     "data": {
      "text/plain": [
       "'1489'"
      ]
     },
     "execution_count": 28,
     "metadata": {},
     "output_type": "execute_result"
    }
   ],
   "source": [
    "str1[str1.index('.')-1]\n",
    "str1[str1.index('.')+1:]"
   ]
  },
  {
   "cell_type": "code",
   "execution_count": 31,
   "id": "8dc9042b",
   "metadata": {},
   "outputs": [
    {
     "data": {
      "text/plain": [
       "2"
      ]
     },
     "execution_count": 31,
     "metadata": {},
     "output_type": "execute_result"
    }
   ],
   "source": [
    "str1.index('.')+1"
   ]
  },
  {
   "cell_type": "markdown",
   "id": "877043fa",
   "metadata": {},
   "source": [
    "Startswith-Endswith"
   ]
  },
  {
   "cell_type": "code",
   "execution_count": 34,
   "id": "4fea37c1",
   "metadata": {},
   "outputs": [],
   "source": [
    "str1='hai how are you'"
   ]
  },
  {
   "cell_type": "code",
   "execution_count": 36,
   "id": "3b589e09",
   "metadata": {},
   "outputs": [
    {
     "data": {
      "text/plain": [
       "True"
      ]
     },
     "execution_count": 36,
     "metadata": {},
     "output_type": "execute_result"
    }
   ],
   "source": [
    "str1.startswith('hai')\n",
    "str1.startswith('h')"
   ]
  },
  {
   "cell_type": "code",
   "execution_count": 37,
   "id": "fa40ea0b",
   "metadata": {},
   "outputs": [
    {
     "data": {
      "text/plain": [
       "True"
      ]
     },
     "execution_count": 37,
     "metadata": {},
     "output_type": "execute_result"
    }
   ],
   "source": [
    "str1.startswith('hai')"
   ]
  },
  {
   "cell_type": "code",
   "execution_count": 38,
   "id": "1c105ed2",
   "metadata": {},
   "outputs": [
    {
     "data": {
      "text/plain": [
       "False"
      ]
     },
     "execution_count": 38,
     "metadata": {},
     "output_type": "execute_result"
    }
   ],
   "source": [
    "str1.endswith('hai')"
   ]
  },
  {
   "cell_type": "code",
   "execution_count": null,
   "id": "af4379f6",
   "metadata": {},
   "outputs": [],
   "source": []
  },
  {
   "cell_type": "code",
   "execution_count": null,
   "id": "d7ef61ce",
   "metadata": {},
   "outputs": [],
   "source": [
    "# take one string1\n",
    "# string1.isalnum()\n",
    "# isalpha\n",
    "# isnumeric\n",
    "# isupper\n",
    "# islower"
   ]
  },
  {
   "cell_type": "code",
   "execution_count": 40,
   "id": "62b6319f",
   "metadata": {},
   "outputs": [
    {
     "ename": "IndentationError",
     "evalue": "unexpected indent (4009342380.py, line 6)",
     "output_type": "error",
     "traceback": [
      "\u001b[1;36m  Cell \u001b[1;32mIn[40], line 6\u001b[1;36m\u001b[0m\n\u001b[1;33m    .isalpha\u001b[0m\n\u001b[1;37m    ^\u001b[0m\n\u001b[1;31mIndentationError\u001b[0m\u001b[1;31m:\u001b[0m unexpected indent\n"
     ]
    }
   ],
   "source": [
    "string1='abc'\n",
    "string2='123'\n",
    "string3='abc123'\n",
    "string4='ABC'\n",
    "string1.isnumeric()\n",
    "        .isalpha\n",
    "        .isnumeric\n",
    "        .isupper\n",
    "        .islower"
   ]
  },
  {
   "cell_type": "code",
   "execution_count": 42,
   "id": "ae996f6e",
   "metadata": {},
   "outputs": [
    {
     "data": {
      "text/plain": [
       "False"
      ]
     },
     "execution_count": 42,
     "metadata": {},
     "output_type": "execute_result"
    }
   ],
   "source": [
    "str1='90hai hello 8 888how are you'\n",
    "str1.isalnum()"
   ]
  },
  {
   "cell_type": "code",
   "execution_count": 44,
   "id": "4f1f1152",
   "metadata": {},
   "outputs": [],
   "source": [
    "str1='abc.123'"
   ]
  },
  {
   "cell_type": "raw",
   "id": "13775718",
   "metadata": {},
   "source": [
    "split"
   ]
  },
  {
   "cell_type": "code",
   "execution_count": 45,
   "id": "9f9b7ed1",
   "metadata": {},
   "outputs": [
    {
     "data": {
      "text/plain": [
       "['hai', 'how', 'are', 'you']"
      ]
     },
     "execution_count": 45,
     "metadata": {},
     "output_type": "execute_result"
    }
   ],
   "source": [
    "str1='hai how are you'\n",
    "str1.split()\n",
    "\n",
    "# if i not provide anything inside brackets space"
   ]
  },
  {
   "cell_type": "code",
   "execution_count": 46,
   "id": "829eb163",
   "metadata": {},
   "outputs": [
    {
     "data": {
      "text/plain": [
       "['hai how', 'are you']"
      ]
     },
     "execution_count": 46,
     "metadata": {},
     "output_type": "execute_result"
    }
   ],
   "source": [
    "str1='hai how,are you'\n",
    "str1.split(',')"
   ]
  },
  {
   "cell_type": "code",
   "execution_count": 47,
   "id": "ba9c327b",
   "metadata": {},
   "outputs": [
    {
     "data": {
      "text/plain": [
       "['h', 'i how,', 're you']"
      ]
     },
     "execution_count": 47,
     "metadata": {},
     "output_type": "execute_result"
    }
   ],
   "source": [
    "str1='hai how,are you'\n",
    "str1.split('a')  #h i how, re you"
   ]
  },
  {
   "cell_type": "code",
   "execution_count": 48,
   "id": "5731d720",
   "metadata": {},
   "outputs": [
    {
     "data": {
      "text/plain": [
       "'hello'"
      ]
     },
     "execution_count": 48,
     "metadata": {},
     "output_type": "execute_result"
    }
   ],
   "source": [
    "str1='%%%%hello%%%%'\n",
    "str1.strip('%')"
   ]
  },
  {
   "cell_type": "code",
   "execution_count": null,
   "id": "aa6b2281",
   "metadata": {},
   "outputs": [],
   "source": [
    "- capitalize/upper/lower/casefold\n",
    "- index/find\n",
    "- count\n",
    "- replace\n",
    "- lstrip/rstrip/strip\n",
    "- startswith/endswith\n",
    "- isalpha/isnumeric/isalnum\n",
    "- split"
   ]
  },
  {
   "cell_type": "code",
   "execution_count": null,
   "id": "e249db55",
   "metadata": {},
   "outputs": [],
   "source": [
    "# WAP to identify the longest word and shortest word in a given sentence\n",
    "# WAP to identify the most repeated word in a given sentence\n",
    "# WAP out of 3 strings 'hyd','blr','mumbai' which is greater and which lower"
   ]
  },
  {
   "cell_type": "code",
   "execution_count": null,
   "id": "430c1fa6",
   "metadata": {},
   "outputs": [],
   "source": [
    "Basic python========== assignment\n",
    "\n",
    "certification\n",
    "\n",
    "\n",
    "writeup on list "
   ]
  },
  {
   "cell_type": "markdown",
   "id": "70aa183b",
   "metadata": {},
   "source": [
    "- how to read the strings\n",
    "- single quotes/double quotes/triple quotes\n",
    "- doc string\n",
    "- type\n",
    "- max\n",
    "- min\n",
    "- len\n",
    "- addition of two strings(concatenation)\n",
    "- multiplication\n",
    "- subtraction\n",
    "- division\n",
    "- in operator(for loop)\n",
    "- index\n",
    "- mutable condition\n",
    "- slice\n",
    "- string method:\n",
    "    -capitalize/upper/lower/casefold\n",
    "    - index/find\n",
    "    - count\n",
    "    - replace\n",
    "    - lstrip/rstrip/strip\n",
    "    - startswith/endswith\n",
    "    - isalpha/isnumeric/isalnum\n",
    "    - split\n",
    "\n"
   ]
  },
  {
   "cell_type": "code",
   "execution_count": null,
   "id": "46bec51c",
   "metadata": {},
   "outputs": [],
   "source": []
  }
 ],
 "metadata": {
  "kernelspec": {
   "display_name": "Python 3 (ipykernel)",
   "language": "python",
   "name": "python3"
  },
  "language_info": {
   "codemirror_mode": {
    "name": "ipython",
    "version": 3
   },
   "file_extension": ".py",
   "mimetype": "text/x-python",
   "name": "python",
   "nbconvert_exporter": "python",
   "pygments_lexer": "ipython3",
   "version": "3.11.5"
  }
 },
 "nbformat": 4,
 "nbformat_minor": 5
}
