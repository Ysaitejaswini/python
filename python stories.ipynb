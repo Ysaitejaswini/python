{
 "cells": [
  {
   "cell_type": "code",
   "execution_count": 2,
   "id": "8e0746f7",
   "metadata": {},
   "outputs": [
    {
     "ename": "NameError",
     "evalue": "name 'number2' is not defined",
     "output_type": "error",
     "traceback": [
      "\u001b[1;31m---------------------------------------------------------------------------\u001b[0m",
      "\u001b[1;31mNameError\u001b[0m                                 Traceback (most recent call last)",
      "Cell \u001b[1;32mIn[2], line 4\u001b[0m\n\u001b[0;32m      2\u001b[0m numner2 \u001b[38;5;241m=\u001b[39m\u001b[38;5;241m200\u001b[39m\n\u001b[0;32m      3\u001b[0m number1    \u001b[38;5;66;03m#100 is not coming\u001b[39;00m\n\u001b[1;32m----> 4\u001b[0m number2\n",
      "\u001b[1;31mNameError\u001b[0m: name 'number2' is not defined"
     ]
    }
   ],
   "source": [
    "number1=100\n",
    "numner2 =200\n",
    "number1    #100 is not coming\n",
    "number2    #200 is latest so it is coming"
   ]
  },
  {
   "cell_type": "code",
   "execution_count": 3,
   "id": "f5ecf44e",
   "metadata": {},
   "outputs": [
    {
     "name": "stdout",
     "output_type": "stream",
     "text": [
      "100\n",
      "200\n"
     ]
    }
   ],
   "source": [
    "number1=100\n",
    "number2=200\n",
    "print(number1)    \n",
    "print(number2)    "
   ]
  },
  {
   "cell_type": "code",
   "execution_count": 4,
   "id": "099c9a73",
   "metadata": {},
   "outputs": [
    {
     "name": "stdout",
     "output_type": "stream",
     "text": [
      "hello\n",
      "how\n",
      "are\n",
      "you\n",
      "hello\n"
     ]
    }
   ],
   "source": [
    "print('hello')    #step1: hello\n",
    "print('how')      #step2: how\n",
    "print('are')      #step3: are\n",
    "print('you')      #step4: you\n",
    "print('hello')    #step5: hello is variable,is hello intoalised above"
   ]
  },
  {
   "cell_type": "code",
   "execution_count": null,
   "id": "70eb0174",
   "metadata": {},
   "outputs": [],
   "source": [
    "# you written 500 lines of code\n",
    "# you got error at 200 line\n",
    "# after 200 line,201 to 500 will not execute"
   ]
  },
  {
   "cell_type": "code",
   "execution_count": 5,
   "id": "4645e742",
   "metadata": {},
   "outputs": [
    {
     "name": "stdout",
     "output_type": "stream",
     "text": [
      "100 200\n"
     ]
    }
   ],
   "source": [
    "print(number1,number2)    # 100,200"
   ]
  },
  {
   "cell_type": "code",
   "execution_count": 6,
   "id": "cafa3779",
   "metadata": {},
   "outputs": [
    {
     "name": "stdout",
     "output_type": "stream",
     "text": [
      "100\n",
      "200\n"
     ]
    }
   ],
   "source": [
    "print(number1)\n",
    "print(number2)"
   ]
  },
  {
   "cell_type": "code",
   "execution_count": 7,
   "id": "fd1cac20",
   "metadata": {},
   "outputs": [
    {
     "name": "stdout",
     "output_type": "stream",
     "text": [
      "100\n",
      "-------\n",
      "200\n",
      "********\n"
     ]
    }
   ],
   "source": [
    "print(number1)\n",
    "print('-------')\n",
    "print(200)\n",
    "print('********')"
   ]
  },
  {
   "cell_type": "code",
   "execution_count": 11,
   "id": "c7c56468",
   "metadata": {},
   "outputs": [
    {
     "name": "stdout",
     "output_type": "stream",
     "text": [
      "hai how are you\n",
      "hai how are you\n"
     ]
    }
   ],
   "source": [
    "print('hai','how','are','you')\n",
    "print('hai how are you')"
   ]
  },
  {
   "cell_type": "code",
   "execution_count": 15,
   "id": "0acc9284",
   "metadata": {},
   "outputs": [
    {
     "name": "stdout",
     "output_type": "stream",
     "text": [
      "hai&  how\n"
     ]
    }
   ],
   "source": [
    "print('hai',end='&  ')\n",
    "print('how')"
   ]
  },
  {
   "cell_type": "code",
   "execution_count": 17,
   "id": "7bc53221",
   "metadata": {},
   "outputs": [
    {
     "name": "stdout",
     "output_type": "stream",
     "text": [
      "hai %how\n"
     ]
    }
   ],
   "source": [
    "  print('hai',end=' ')\n",
    "  print('%how')"
   ]
  },
  {
   "cell_type": "code",
   "execution_count": 19,
   "id": "82a3373e",
   "metadata": {},
   "outputs": [
    {
     "name": "stdout",
     "output_type": "stream",
     "text": [
      "hai "
     ]
    }
   ],
   "source": [
    "print('hai',end=' ')"
   ]
  },
  {
   "cell_type": "code",
   "execution_count": 23,
   "id": "3e5e9986",
   "metadata": {},
   "outputs": [
    {
     "name": "stdout",
     "output_type": "stream",
     "text": [
      "1 2 3\n"
     ]
    }
   ],
   "source": [
    "print('1',end=' ')\n",
    "print('2',end=' ')\n",
    "print('3')"
   ]
  },
  {
   "cell_type": "code",
   "execution_count": 27,
   "id": "29c909e3",
   "metadata": {},
   "outputs": [
    {
     "name": "stdout",
     "output_type": "stream",
     "text": [
      "the addition of number1 and number2 is 60\n"
     ]
    }
   ],
   "source": [
    "number1=20\n",
    "number2=40\n",
    "add=number1+number2\n",
    "print(\"the addition of number1 and number2 is\",add)"
   ]
  },
  {
   "cell_type": "code",
   "execution_count": 30,
   "id": "63d94845",
   "metadata": {},
   "outputs": [
    {
     "name": "stdout",
     "output_type": "stream",
     "text": [
      "the addition of 20 and 40 is 60\n"
     ]
    }
   ],
   "source": [
    "number1=20\n",
    "number2=40\n",
    "add=(number1+number2)\n",
    "print(\"the addition of\", number1,\"and\",number2,\"is\",add)\n",
    "\n",
    "\n"
   ]
  },
  {
   "cell_type": "code",
   "execution_count": 32,
   "id": "689db049",
   "metadata": {},
   "outputs": [],
   "source": [
    "# step-1: variable name='python'\n",
    "#step-2:      city='hyd\n",
    "#step-3:      age=10"
   ]
  },
  {
   "cell_type": "code",
   "execution_count": 33,
   "id": "f1ce3125",
   "metadata": {},
   "outputs": [
    {
     "name": "stdout",
     "output_type": "stream",
     "text": [
      "my name is python im from hyd iam 20 years old\n"
     ]
    }
   ],
   "source": [
    "name=\"python\"\n",
    "city=\"hyd\"\n",
    "age=\"20\"\n",
    "print(\"my name is\",name,'im from',city,\"iam\",age,\"years old\")\n",
    "\n",
    "     "
   ]
  },
  {
   "cell_type": "code",
   "execution_count": null,
   "id": "c7b33dc8",
   "metadata": {},
   "outputs": [],
   "source": [
    "# \"the addition of 200 and 400 is 600\"\n",
    "# the addition of () and () is ()"
   ]
  },
  {
   "cell_type": "code",
   "execution_count": 37,
   "id": "46f8e2a0",
   "metadata": {},
   "outputs": [
    {
     "name": "stdout",
     "output_type": "stream",
     "text": [
      "the addition of 200 and 400 is 600\n"
     ]
    }
   ],
   "source": [
    "num1=200\n",
    "num2=400\n",
    "add=num1+num2\n",
    "print(\"the addition of {} and {} is {}\".format(num1,num2,add))"
   ]
  },
  {
   "cell_type": "code",
   "execution_count": 38,
   "id": "1dbd1af1",
   "metadata": {},
   "outputs": [
    {
     "name": "stdout",
     "output_type": "stream",
     "text": [
      "my name is 20, im from hyd and my age is python year old\n"
     ]
    }
   ],
   "source": [
    "name='python'\n",
    "city='hyd'\n",
    "age=20\n",
    "print(\"my name is {}, im from {} and my age is {} year old\".format(age,city,name))"
   ]
  },
  {
   "cell_type": "code",
   "execution_count": 41,
   "id": "5af4ab34",
   "metadata": {},
   "outputs": [],
   "source": [
    "# step-1:  value1=200\n",
    "# step-2:  value2=300\n",
    "# step-3:  add=value1+value2\n",
    "# step-4:  sub=value1-value2\n",
    "# step-5:  mul=value1*value2\n",
    "# step-6:  div=(round value1/value2)\n",
    "# step-7:  print(\"the addition of {} and {} is {}\".format(value1,value2,add))\n",
    "# step-8:  print(\"the sub of {} and {} is {}\" )"
   ]
  },
  {
   "cell_type": "code",
   "execution_count": 44,
   "id": "4f8a76f6",
   "metadata": {},
   "outputs": [
    {
     "name": "stdout",
     "output_type": "stream",
     "text": [
      "the addition of 200 and 300 is 500\n",
      "the addition of 200 and 300 is -100\n",
      "the addition of 200 and 300 is 60000\n",
      "the addition of 200 and 300 is 1\n"
     ]
    }
   ],
   "source": [
    "value1=200\n",
    "value2=300\n",
    "add=value1+value2\n",
    "sub=value1-value2\n",
    "mul=value1*value2\n",
    "div=round(value1/value2)\n",
    "print(\"the addition of {} and {} is {}\".format(value1,value2,add))\n",
    "print(\"the addition of {} and {} is {}\".format(value1,value2,sub))\n",
    "print(\"the addition of {} and {} is {}\".format(value1,value2,mul))\n",
    "print(\"the addition of {} and {} is {}\".format(value1,value2,div))"
   ]
  },
  {
   "cell_type": "code",
   "execution_count": 45,
   "id": "1f34fcc0",
   "metadata": {},
   "outputs": [
    {
     "ename": "SyntaxError",
     "evalue": "invalid syntax (955282505.py, line 1)",
     "output_type": "error",
     "traceback": [
      "\u001b[1;36m  Cell \u001b[1;32mIn[45], line 1\u001b[1;36m\u001b[0m\n\u001b[1;33m    the division of 200 and 300 is\u001b[0m\n\u001b[1;37m        ^\u001b[0m\n\u001b[1;31mSyntaxError\u001b[0m\u001b[1;31m:\u001b[0m invalid syntax\n"
     ]
    }
   ],
   "source": []
  },
  {
   "cell_type": "code",
   "execution_count": 46,
   "id": "b33d7758",
   "metadata": {},
   "outputs": [
    {
     "name": "stdout",
     "output_type": "stream",
     "text": [
      "the addition of 200 and 300 is 500\n"
     ]
    }
   ],
   "source": [
    "val1 = 200  # manually i provide\n",
    "val2 = 300  # i provided\n",
    "add = val1+val2\n",
    "print(\"the addition of {} and {} is {}\".format(val1,val2,add))"
   ]
  },
  {
   "cell_type": "code",
   "execution_count": 47,
   "id": "53a9b932",
   "metadata": {},
   "outputs": [
    {
     "name": "stdout",
     "output_type": "stream",
     "text": [
      "2.5\n",
      "2\n",
      "1\n"
     ]
    }
   ],
   "source": [
    "print(5/2)     # division\n",
    "print(5//2)    # floor division=qutioent\n",
    "print(5%2)     # modul us=reminder"
   ]
  },
  {
   "cell_type": "markdown",
   "id": "d56dc5f9",
   "metadata": {},
   "source": [
    "** inputs**"
   ]
  },
  {
   "cell_type": "code",
   "execution_count": 48,
   "id": "20df7655",
   "metadata": {},
   "outputs": [
    {
     "name": "stdout",
     "output_type": "stream",
     "text": [
      "670\n"
     ]
    },
    {
     "data": {
      "text/plain": [
       "'670'"
      ]
     },
     "execution_count": 48,
     "metadata": {},
     "output_type": "execute_result"
    }
   ],
   "source": [
    "input()"
   ]
  },
  {
   "cell_type": "code",
   "execution_count": 49,
   "id": "cde6cf49",
   "metadata": {},
   "outputs": [
    {
     "name": "stdout",
     "output_type": "stream",
     "text": [
      "pythonlanguage\n"
     ]
    },
    {
     "data": {
      "text/plain": [
       "'language'"
      ]
     },
     "execution_count": 49,
     "metadata": {},
     "output_type": "execute_result"
    }
   ],
   "source": [
    "input(\"python\")"
   ]
  },
  {
   "cell_type": "code",
   "execution_count": 51,
   "id": "6481ed11",
   "metadata": {},
   "outputs": [
    {
     "name": "stdout",
     "output_type": "stream",
     "text": [
      "what is A for:apple\n",
      "what is B for:boll\n",
      "apple boll\n"
     ]
    }
   ],
   "source": [
    "name1=input(\"what is A for:\")  # 'apple'\n",
    "name2=input(\"what is B for:\")\n",
    "print(name1,name2)"
   ]
  },
  {
   "cell_type": "code",
   "execution_count": 53,
   "id": "4d8e943f",
   "metadata": {
    "scrolled": true
   },
   "outputs": [
    {
     "name": "stdout",
     "output_type": "stream",
     "text": [
      "enter val1:20\n",
      "enter val2:40\n",
      "the addition of 20 and 40 is 2040\n"
     ]
    }
   ],
   "source": [
    "val1 = input(\"enter val1:\")      # int('20')\n",
    "val2 = input(\"enter val2:\")\n",
    "add = val1+val2\n",
    "print(\"the addition of {} and {} is {}\".format(val1,val2,add))\n",
    "    "
   ]
  },
  {
   "cell_type": "code",
   "execution_count": 57,
   "id": "eeea4235",
   "metadata": {},
   "outputs": [
    {
     "name": "stdout",
     "output_type": "stream",
     "text": [
      "enter val1:20\n",
      "enter val2:30\n",
      "The addition of 50 and is 50\n"
     ]
    }
   ],
   "source": [
    "val1 = int(input(\"enter val1:\"))      \n",
    "val2 = int(input(\"enter val2:\"))\n",
    "add = int(val1)+int(val2)\n",
    "print(\"The addition of {} and is {}\".format(val1+val2,add))\n",
    "    "
   ]
  },
  {
   "cell_type": "code",
   "execution_count": 58,
   "id": "820fd787",
   "metadata": {},
   "outputs": [
    {
     "ename": "SyntaxError",
     "evalue": "invalid syntax (2719574104.py, line 3)",
     "output_type": "error",
     "traceback": [
      "\u001b[1;36m  Cell \u001b[1;32mIn[58], line 3\u001b[1;36m\u001b[0m\n\u001b[1;33m    float('200')=====works\u001b[0m\n\u001b[1;37m                  ^\u001b[0m\n\u001b[1;31mSyntaxError\u001b[0m\u001b[1;31m:\u001b[0m invalid syntax\n"
     ]
    }
   ],
   "source": [
    "int('200')------works\n",
    "int('200.5')-----fall\n",
    "float('200')=====works\n",
    "float('200.5')===works"
   ]
  },
  {
   "cell_type": "code",
   "execution_count": 61,
   "id": "df004629",
   "metadata": {},
   "outputs": [
    {
     "name": "stdout",
     "output_type": "stream",
     "text": [
      "enter v1:10\n",
      "enter v2:20\n",
      "enter v3:30\n",
      "enter v4:40\n"
     ]
    }
   ],
   "source": [
    "v1=input('enter v1:')\n",
    "v2=int(input('enter v2:'))\n",
    "v3=float(input('enter v3:'))\n",
    "v4=eval(input('enter v4:'))\n"
   ]
  },
  {
   "cell_type": "code",
   "execution_count": null,
   "id": "b109395a",
   "metadata": {},
   "outputs": [],
   "source": [
    "# WAP ask the user enter a basic_salary\n",
    "# ask the user enter DA amount\n",
    "# ask the user enter HRA amount\n",
    "# calculate total pay = basic_salary+DA+HRA\n",
    "\n",
    "\n",
    "# step-1:\n",
    "basic_salary=eval(input(\"enter a basic salary\"))\n",
    "DA=eval(input(\"enter DA amount\"))\n",
    "HRA=eval(input(\"enter HRA amount\"))\n",
    "total_pay=basic_salary=DA+HRA\n",
    "print(\"the total salary is:\",total\"_pay)\n"
   ]
  },
  {
   "cell_type": "code",
   "execution_count": null,
   "id": "8ba19d28",
   "metadata": {},
   "outputs": [],
   "source": [
    "basic_salary"
   ]
  },
  {
   "cell_type": "code",
   "execution_count": 16,
   "id": "e4626ecc",
   "metadata": {},
   "outputs": [
    {
     "name": "stdout",
     "output_type": "stream",
     "text": [
      "enter the salary10000\n",
      "enter your tax percentage20\n",
      "the total tax is 2000.0\n"
     ]
    }
   ],
   "source": [
    "# WAP ask the user enter salary\n",
    "#  ask the user tax percentage\n",
    "# calculate how much tax user need to pay\n",
    "\n",
    "salary=eval(input(\"enter the salary\"))\n",
    "tax_percentage=eval(input(\"enter your tax percentage\"))\n",
    "tax_amount=(salary*tax_percentage)/100\n",
    "print(\"the total tax is\",tax_amount)"
   ]
  },
  {
   "cell_type": "code",
   "execution_count": 8,
   "id": "cd7c3403",
   "metadata": {},
   "outputs": [
    {
     "name": "stdout",
     "output_type": "stream",
     "text": [
      "enter anumber50\n"
     ]
    },
    {
     "data": {
      "text/plain": [
       "50"
      ]
     },
     "execution_count": 8,
     "metadata": {},
     "output_type": "execute_result"
    }
   ],
   "source": [
    "eval(input(\"enter anumber\"))"
   ]
  },
  {
   "cell_type": "code",
   "execution_count": 10,
   "id": "cc2edcfe",
   "metadata": {},
   "outputs": [
    {
     "data": {
      "text/plain": [
       "1"
      ]
     },
     "execution_count": 10,
     "metadata": {},
     "output_type": "execute_result"
    }
   ],
   "source": [
    "import random\n",
    "random.randint(1,100)"
   ]
  },
  {
   "cell_type": "code",
   "execution_count": 11,
   "id": "2c54c620",
   "metadata": {},
   "outputs": [
    {
     "name": "stdout",
     "output_type": "stream",
     "text": [
      "square of the number\n"
     ]
    }
   ],
   "source": [
    "import random\n",
    "a=random.randint(1,100)\n",
    "b=a*a\n",
    "print(\"square of the number\")"
   ]
  },
  {
   "cell_type": "code",
   "execution_count": 18,
   "id": "cd4d4eec",
   "metadata": {},
   "outputs": [
    {
     "name": "stdout",
     "output_type": "stream",
     "text": [
      "square of {} is {} 2 4\n"
     ]
    }
   ],
   "source": [
    "import random\n",
    "num=random.randint(1,100)\n",
    "square=num*num\n",
    "print(\"square of {} is {}\",num,square)"
   ]
  },
  {
   "cell_type": "code",
   "execution_count": 6,
   "id": "4e164fd1",
   "metadata": {},
   "outputs": [
    {
     "name": "stdout",
     "output_type": "stream",
     "text": [
      "enter a number55\n",
      "square of the number is 166375\n"
     ]
    }
   ],
   "source": [
    "number=eval(input(\"enter a number\"))\n",
    "square=number*number\n",
    "print(\"square of the number is\",number*square) "
   ]
  },
  {
   "cell_type": "code",
   "execution_count": 1,
   "id": "dbbb35f7",
   "metadata": {},
   "outputs": [
    {
     "name": "stdout",
     "output_type": "stream",
     "text": [
      "Enter a distance55\n",
      "enter a rate per distance:20\n",
      "for 55 km the charge is 20 rs\n"
     ]
    }
   ],
   "source": [
    "#WAP ask the user enter a distance\n",
    "#  ask the user enter a rate per distance\n",
    "#calculate total charge\n",
    "\n",
    "\n",
    "\n",
    "\n",
    "distance=eval(input(\"Enter a distance\"))\n",
    "rate=eval(input(\"enter a rate per distance:\"))\n",
    "total_charge=distance+rate\n",
    "print(\"for {} km the charge is {} rs\".format(distance,rate))"
   ]
  },
  {
   "cell_type": "code",
   "execution_count": 11,
   "id": "334ac979",
   "metadata": {},
   "outputs": [],
   "source": [
    "# ask the user enter total bill in dollars : 100\n",
    "# manager: the dollars are not accepted\n",
    "# user: what will accepted\n",
    "# manager: only indian rupees\n",
    "# ask the user enter one dollar is equal to how many rupees:80\n",
    "# totalbill=100*80\n",
    "# manager: thank you !\n"
   ]
  },
  {
   "cell_type": "code",
   "execution_count": 12,
   "id": "18787c1e",
   "metadata": {},
   "outputs": [
    {
     "name": "stdout",
     "output_type": "stream",
     "text": [
      "enter total bill in dollars:10\n",
      "manager cannot accept the dollars\n",
      "customer:only indian rupees are accepted how much the one dollar\n",
      "one dollar equal to 10:10\n"
     ]
    },
    {
     "ename": "NameError",
     "evalue": "name 'cr' is not defined",
     "output_type": "error",
     "traceback": [
      "\u001b[1;31m---------------------------------------------------------------------------\u001b[0m",
      "\u001b[1;31mNameError\u001b[0m                                 Traceback (most recent call last)",
      "Cell \u001b[1;32mIn[12], line 5\u001b[0m\n\u001b[0;32m      3\u001b[0m \u001b[38;5;28mprint\u001b[39m(\u001b[38;5;124m\"\u001b[39m\u001b[38;5;124mcustomer:only indian rupees are accepted how much the one dollar\u001b[39m\u001b[38;5;124m\"\u001b[39m)\n\u001b[0;32m      4\u001b[0m conversion_rate\u001b[38;5;241m=\u001b[39m\u001b[38;5;28meval\u001b[39m(\u001b[38;5;28minput\u001b[39m(\u001b[38;5;124m\"\u001b[39m\u001b[38;5;124mone dollar equal to 10:\u001b[39m\u001b[38;5;124m\"\u001b[39m))\n\u001b[1;32m----> 5\u001b[0m total\u001b[38;5;241m=\u001b[39mbill\u001b[38;5;241m*\u001b[39mcr\n\u001b[0;32m      6\u001b[0m \u001b[38;5;28mprint\u001b[39m(\u001b[38;5;124m\"\u001b[39m\u001b[38;5;124mthe total amount is :\u001b[39m\u001b[38;5;124m\"\u001b[39m,total)\n",
      "\u001b[1;31mNameError\u001b[0m: name 'cr' is not defined"
     ]
    }
   ],
   "source": [
    "bill=eval(input(\"enter total bill in dollars:\"))\n",
    "print(\"manager cannot accept the dollars\")\n",
    "print(\"customer:only indian rupees are accepted how much the one dollar\")\n",
    "conversion_rate=eval(input(\"one dollar equal to 10:\"))\n",
    "total=bill*cr\n",
    "print(\"the total amount is :\",total)"
   ]
  },
  {
   "cell_type": "code",
   "execution_count": 9,
   "id": "506fb294",
   "metadata": {},
   "outputs": [
    {
     "name": "stdout",
     "output_type": "stream",
     "text": [
      "father : which course you wants to do\n",
      "son   :i want to pursue data science course\n",
      "father:oh thats very nice\n",
      "father:may i know your jee rank\n",
      "200000\n",
      "father:then how can you pursue\n",
      "son   :payment seat\n",
      "father :which college is offer\n",
      "ni\n",
      "father :how much is the fee\n",
      "20000\n"
     ]
    },
    {
     "ename": "TypeError",
     "evalue": "'str' object is not callable",
     "output_type": "error",
     "traceback": [
      "\u001b[1;31m---------------------------------------------------------------------------\u001b[0m",
      "\u001b[1;31mTypeError\u001b[0m                                 Traceback (most recent call last)",
      "Cell \u001b[1;32mIn[9], line 31\u001b[0m\n\u001b[0;32m     29\u001b[0m \u001b[38;5;28minput\u001b[39m()\n\u001b[0;32m     30\u001b[0m \u001b[38;5;28mprint\u001b[39m(\u001b[38;5;124m\"\u001b[39m\u001b[38;5;124mfather :how much is the fee\u001b[39m\u001b[38;5;124m\"\u001b[39m)\n\u001b[1;32m---> 31\u001b[0m fee\u001b[38;5;241m=\u001b[39m\u001b[38;5;28meval\u001b[39m(\u001b[38;5;28minput\u001b[39m())\n\u001b[0;32m     32\u001b[0m \u001b[38;5;28mprint\u001b[39m(\u001b[38;5;124m\"\u001b[39m\u001b[38;5;124mfather: how many sem\u001b[39m\u001b[38;5;124m\"\u001b[39m)\n\u001b[0;32m     33\u001b[0m sem\u001b[38;5;241m=\u001b[39m\u001b[38;5;28meval\u001b[39m(\u001b[38;5;28minput\u001b[39m())\n",
      "\u001b[1;31mTypeError\u001b[0m: 'str' object is not callable"
     ]
    }
   ],
   "source": [
    "# father and son\n",
    "# father : which course you wants to do\n",
    "# son    : i want to pursue data science course\n",
    "# father :oh that is very nice\n",
    "# father :may i know your jee rank\n",
    "# son    :200000\n",
    "# father :then how can you pursue\n",
    "# son    :payment seat\n",
    "# father :which college is offer\n",
    "# son    :naresh it\n",
    "# father :how much is the fee\n",
    "# son    :20000\n",
    "# father :how many sems\n",
    "# son    :4\n",
    "# father :how much total cost\n",
    "# son    :4*20000\n",
    "\n",
    "\n",
    "\n",
    "\n",
    "print(\"father : which course you wants to do\")\n",
    "print(\"son   :i want to pursue data science course\")\n",
    "print(\"father:oh thats very nice\")\n",
    "print(\"father:may i know your jee rank\")\n",
    "input()\n",
    "print(\"father:then how can you pursue\") \n",
    "print(\"son   :payment seat\")\n",
    "print(\"father :which college is offer\")\n",
    "input()\n",
    "print(\"father :how much is the fee\")\n",
    "fee=eval(input())\n",
    "print(\"father: how many sem\")\n",
    "sem=eval(input())\n",
    "print(\"father: how much toal cost\")\n",
    "print(\" total fee:\",fee*sem)\n",
    "\n",
    "    "
   ]
  },
  {
   "cell_type": "code",
   "execution_count": null,
   "id": "96098c7c",
   "metadata": {},
   "outputs": [],
   "source": [
    "# father and son/d\n",
    "#father: which cousre you wants to do\n",
    "#s/d: i want to pursue ds course\n",
    "# father: oh! that is very nice!\n",
    "# father: may i know your rank\n",
    "# son:20000 \n",
    "# father: then how can you pursue\n",
    "# son: payment seat\n",
    "# father: which college is offer\n",
    "# son: naresh it\n",
    "# father: how much is the fee\n",
    "# son: 20000\n",
    "# father: how many sem\n",
    "# son: 4\n",
    "# father: how much total cost\n",
    "# son: 4*20000"
   ]
  },
  {
   "cell_type": "code",
   "execution_count": 5,
   "id": "7cc53443",
   "metadata": {},
   "outputs": [
    {
     "name": "stdout",
     "output_type": "stream",
     "text": [
      " which cousre you wants to do\n",
      "i want to pursue ds course\n",
      " oh! that is very nice!\n",
      "may i know your rank\n",
      "20000\n",
      "then how can you pursue\n",
      "payment seat\n",
      "which college is offer\n",
      "ni\n",
      "how much is the fee\n",
      "20000\n",
      "how many sem\n",
      "4\n",
      "how much total cost\n",
      "total fee: 80000\n"
     ]
    }
   ],
   "source": [
    "print(\" which cousre you wants to do\")\n",
    "print(\"i want to pursue ds course\")\n",
    "print(\" oh! that is very nice!\")\n",
    "print(\"may i know your rank\")\n",
    "input()\n",
    "print(\"then how can you pursue\")\n",
    "print(\"payment seat\")\n",
    "print(\"which college is offer\")\n",
    "input()\n",
    "print('how much is the fee')\n",
    "fee=eval(input())\n",
    "print(\"how many sem\")\n",
    "sem=eval(input())\n",
    "print(\"how much total cost\")\n",
    "print(\"total fee:\",fee*sem)"
   ]
  },
  {
   "cell_type": "code",
   "execution_count": null,
   "id": "9cbbef40",
   "metadata": {},
   "outputs": [],
   "source": [
    "#Ask the user to enter a number.print out the square of the number,"
   ]
  },
  {
   "cell_type": "code",
   "execution_count": 3,
   "id": "4cde1bac",
   "metadata": {},
   "outputs": [
    {
     "name": "stdout",
     "output_type": "stream",
     "text": [
      "enter a value15\n",
      "the square of 15 is 225\n"
     ]
    }
   ],
   "source": [
    "number=eval(input(\"enter a value\"))\n",
    "square=number*number\n",
    "print(\"the square of {} is {}\".format(number,square))"
   ]
  },
  {
   "cell_type": "code",
   "execution_count": null,
   "id": "e4b17f20",
   "metadata": {},
   "outputs": [],
   "source": [
    "#WAP a program that asks the user for a weight in kilograms and converts it to pounds.there are 2.2 pounds in a kilogram."
   ]
  },
  {
   "cell_type": "code",
   "execution_count": 6,
   "id": "a64a4c49",
   "metadata": {
    "scrolled": true
   },
   "outputs": [
    {
     "name": "stdout",
     "output_type": "stream",
     "text": [
      "enter a weight in kg to coverted into pounds:50.2\n",
      "50.2 kilo_grams 110.44000000000001 pounds\n"
     ]
    }
   ],
   "source": [
    "kilo_grams=float(input(\"enter a weight in kg to coverted into pounds:\"))\n",
    "pounds=kilo_grams*2.2\n",
    "print(kilo_grams,\"kilo_grams\",pounds,\"pounds\")"
   ]
  },
  {
   "cell_type": "code",
   "execution_count": null,
   "id": "8733f8d8",
   "metadata": {},
   "outputs": [],
   "source": [
    "#Ask the user to enter a number x.print out x,2x,3x,4x,and 5x,each seperated by three dashes,like below."
   ]
  },
  {
   "cell_type": "code",
   "execution_count": 7,
   "id": "e3badefe",
   "metadata": {},
   "outputs": [
    {
     "name": "stdout",
     "output_type": "stream",
     "text": [
      "enter a  number:10\n",
      "10----20----30----40----50\n"
     ]
    }
   ],
   "source": [
    "x=eval(input(\"enter a  number:\"))\n",
    "print(x,2*x,3*x,4*x,5*x,sep='----')"
   ]
  },
  {
   "cell_type": "code",
   "execution_count": null,
   "id": "315fdc94",
   "metadata": {},
   "outputs": [],
   "source": [
    "#WAP that asks the user to enter three numbers(use three seperate input statements).create variables called total and average\n",
    "#that hold the sum and average of the three numbers and print out the values of total and average.\n"
   ]
  },
  {
   "cell_type": "code",
   "execution_count": 14,
   "id": "9b1bf1f7",
   "metadata": {},
   "outputs": [
    {
     "name": "stdout",
     "output_type": "stream",
     "text": [
      "enter the first num10\n",
      "enter the second num20\n",
      "enter the third num30\n",
      "total: 60\n",
      "average: 20.0\n"
     ]
    }
   ],
   "source": [
    "num1=eval(input(\"enter the first num\"))\n",
    "num2=eval(input(\"enter the second num\"))\n",
    "num3=eval(input(\"enter the third num\"))\n",
    "total=num1+num2+num3\n",
    "average=total/3\n",
    "print(\"total:\",total)\n",
    "print(\"average:\",average)"
   ]
  },
  {
   "cell_type": "code",
   "execution_count": null,
   "id": "cee051cd",
   "metadata": {},
   "outputs": [],
   "source": [
    "#A lot of cell phones have tip calculators.write one.Ask the user for the price of the meal and the percent tip they want to \n",
    "#leave.Then print both the tip amount and the total bill with the tip included."
   ]
  },
  {
   "cell_type": "code",
   "execution_count": 13,
   "id": "fde9129a",
   "metadata": {},
   "outputs": [
    {
     "name": "stdout",
     "output_type": "stream",
     "text": [
      "enter the price of the meal:500\n",
      "enter the tip percentage you want to leave:100\n",
      "bill of meal: total_bill: 1000.0\n"
     ]
    }
   ],
   "source": [
    "meal_price=float(input(\"enter the price of the meal:\"))\n",
    "tip_percentage=float(input(\"enter the tip percentage you want to leave:\"))\n",
    "total_bill=meal_price/tip_percentage*100\n",
    "p=meal_price+total_bill\n",
    "print(\"bill of meal:\",\"total_bill:\",p)"
   ]
  },
  {
   "cell_type": "code",
   "execution_count": 1,
   "id": "3c061e6b",
   "metadata": {},
   "outputs": [
    {
     "name": "stdout",
     "output_type": "stream",
     "text": [
      "enter the first num10\n",
      "enter the second num20\n",
      "enter the third num30\n",
      "total: 60.0\n",
      "average: 20.0\n"
     ]
    }
   ],
   "source": [
    "num1=float(input(\"enter the first num\"))\n",
    "num2=float(input(\"enter the second num\"))\n",
    "num3=float(input(\"enter the third num\"))\n",
    "total=num1+num2+num3\n",
    "average=total/3\n",
    "print(\"total:\",total)\n",
    "print(\"average:\",average)"
   ]
  },
  {
   "cell_type": "code",
   "execution_count": null,
   "id": "c89463e9",
   "metadata": {},
   "outputs": [],
   "source": []
  },
  {
   "cell_type": "code",
   "execution_count": 3,
   "id": "84215527",
   "metadata": {},
   "outputs": [
    {
     "name": "stdout",
     "output_type": "stream",
     "text": [
      "enter a number120\n",
      "enter a number240\n",
      "60\n"
     ]
    }
   ],
   "source": [
    "num1=eval(input(\"enter a number1\"))\n",
    "num2=eval(input(\"enter a number2\"))\n",
    "add=num1+num2\n",
    "print(add)"
   ]
  },
  {
   "cell_type": "code",
   "execution_count": 6,
   "id": "d46e2093",
   "metadata": {
    "collapsed": true
   },
   "outputs": [
    {
     "name": "stdout",
     "output_type": "stream",
     "text": [
      "enter a number1:10\n",
      "enter a number2:15\n"
     ]
    },
    {
     "ename": "NameError",
     "evalue": "name 'num6' is not defined",
     "output_type": "error",
     "traceback": [
      "\u001b[1;31m---------------------------------------------------------------------------\u001b[0m",
      "\u001b[1;31mNameError\u001b[0m                                 Traceback (most recent call last)",
      "Cell \u001b[1;32mIn[6], line 3\u001b[0m\n\u001b[0;32m      1\u001b[0m num1\u001b[38;5;241m=\u001b[39m\u001b[38;5;28meval\u001b[39m(\u001b[38;5;28minput\u001b[39m(\u001b[38;5;124m\"\u001b[39m\u001b[38;5;124menter a number1:\u001b[39m\u001b[38;5;124m\"\u001b[39m))\n\u001b[0;32m      2\u001b[0m num2\u001b[38;5;241m=\u001b[39m\u001b[38;5;28meval\u001b[39m(\u001b[38;5;28minput\u001b[39m(\u001b[38;5;124m\"\u001b[39m\u001b[38;5;124menter a number2:\u001b[39m\u001b[38;5;124m\"\u001b[39m))\n\u001b[1;32m----> 3\u001b[0m add\u001b[38;5;241m=\u001b[39mnum1\u001b[38;5;241m+\u001b[39mnum6\n\u001b[0;32m      4\u001b[0m \u001b[38;5;28mprint\u001b[39m(add)\n",
      "\u001b[1;31mNameError\u001b[0m: name 'num6' is not defined"
     ]
    }
   ],
   "source": [
    "num1=eval(input(\"enter a number1:\"))\n",
    "num2=eval(input(\"enter a number2:\"))\n",
    "add=num1+num6\n",
    "print(add)\n"
   ]
  },
  {
   "cell_type": "markdown",
   "id": "888c2a35",
   "metadata": {},
   "source": [
    "# possible errors:\n",
    "1.name error\n",
    "2.syntax errors'(' was never closed\n",
    "3.zero division error:division by zero\n",
    "4.type error:unsupported operand type(s) for/:'str'and'int'\n",
    "5.missing parentheses in call to 'print'.did you mean print(...)        "
   ]
  },
  {
   "cell_type": "code",
   "execution_count": null,
   "id": "f5dc497f",
   "metadata": {},
   "outputs": [],
   "source": [
    "## suppose you have written 500 lines of code 200 you got on error\n"
   ]
  },
  {
   "cell_type": "markdown",
   "id": "cbf36707",
   "metadata": {},
   "source": [
    "# Try except\n",
    "- there are two blocks\n",
    "- one try block\n",
    "- another is exception block\n",
    "- your code will be there in try block\n",
    "- error capture will happens in except block\n",
    "- indentation : space\n",
    "- red : space/indentation not maintained properly\n",
    "- indentation has minimum 4 characters\n",
    "- : is there,then indentation will be there"
   ]
  },
  {
   "cell_type": "code",
   "execution_count": 13,
   "id": "a86da377",
   "metadata": {},
   "outputs": [
    {
     "name": "stdout",
     "output_type": "stream",
     "text": [
      "error is there,check code\n"
     ]
    }
   ],
   "source": [
    "try:\n",
    "    num1=10\n",
    "    num2=0\n",
    "    num3=30\n",
    "    add=num1/num2   #10/0 ====> zero\n",
    "    print(add)\n",
    "except:\n",
    "     print(\"error is there,check code\")\n",
    "        "
   ]
  },
  {
   "cell_type": "code",
   "execution_count": 17,
   "id": "490c0b2f",
   "metadata": {},
   "outputs": [
    {
     "name": "stdout",
     "output_type": "stream",
     "text": [
      "enter number-1:20\n",
      "enter number-2:20\n",
      "enter number-3:30\n",
      "The average of 20,20 and 30 is 23.333333333333332\n"
     ]
    }
   ],
   "source": [
    "#WAP ask the user enter 3 numbers and find the average\n",
    "try:\n",
    "    num1=eval(input(\"enter number-1:\"))\n",
    "    num2=eval(input(\"enter number-2:\"))\n",
    "    num3=eval(input(\"enter number-3:\"))\n",
    "    average=(num1+num2+num3)/3\n",
    "    print(\"The average of {},{} and {} is {}\".format(num1,num2,num3,average))\n",
    "\n",
    "except:\n",
    "    print(\"check the code\")"
   ]
  },
  {
   "cell_type": "code",
   "execution_count": 18,
   "id": "3ca20620",
   "metadata": {},
   "outputs": [
    {
     "name": "stdout",
     "output_type": "stream",
     "text": [
      "enter number-1:5\n",
      "enter number-2:10\n",
      "enter number-3:15\n",
      "division by zero\n"
     ]
    }
   ],
   "source": [
    "try:\n",
    "    num1=eval(input(\"enter number-1:\"))\n",
    "    num2=eval(input(\"enter number-2:\"))\n",
    "    num3=eval(input(\"enter number-3:\"))\n",
    "    average=(num1+num2+num3)/0\n",
    "    print(\"The average of {},{} and {} is {}\".format(num1,num2,num3,average))\n",
    "\n",
    "except Exception as e:\n",
    "       print(e)"
   ]
  },
  {
   "cell_type": "code",
   "execution_count": 20,
   "id": "d598c217",
   "metadata": {},
   "outputs": [
    {
     "name": "stdout",
     "output_type": "stream",
     "text": [
      "enter number-1:10\n",
      "enter number-2:20\n",
      "enter number-3:30\n",
      "The square of 10,20 and 30 is 6000\n"
     ]
    }
   ],
   "source": [
    "#WAP ask the user enter a number ad find the square of the number\n",
    "\n",
    "try:\n",
    "    num1=eval(input(\"enter number-1:\"))\n",
    "    num2=eval(input(\"enter number-2:\"))\n",
    "    num3=eval(input(\"enter number-3:\"))\n",
    "    square=(num1*num2*num3)\n",
    "    print(\"The square of {},{} and {} is {}\".format(num1,num2,num3,square))\n",
    "    \n",
    "except:\n",
    "    print(\"check the code\")"
   ]
  },
  {
   "cell_type": "code",
   "execution_count": 22,
   "id": "6893023a",
   "metadata": {},
   "outputs": [
    {
     "name": "stdout",
     "output_type": "stream",
     "text": [
      "enter a number5\n",
      "name 'num222' is not defined\n",
      "hello\n"
     ]
    }
   ],
   "source": [
    "try:\n",
    "    num=eval(input(\"enter a number\"))\n",
    "    print(\"the square of {} is {} \".format(num,num222*num))\n",
    "except Exception as e:\n",
    "    print(e)\n",
    "    print('hello')\n",
    "            "
   ]
  },
  {
   "cell_type": "code",
   "execution_count": 21,
   "id": "32bcf7ab",
   "metadata": {},
   "outputs": [
    {
     "name": "stdout",
     "output_type": "stream",
     "text": [
      "enter a number:3\n",
      "hai\n",
      "name 'num222' is not defined\n",
      "hello\n"
     ]
    }
   ],
   "source": [
    "try:\n",
    "    num=eval(input(\"enter a number:\"))\n",
    "    print(\"the square of {} is {}\".format(num,num222*num))\n",
    "    \n",
    "except Exception as e:\n",
    "    print('hai')\n",
    "    print(e)\n",
    "    print('hello')\n",
    "            "
   ]
  },
  {
   "cell_type": "code",
   "execution_count": 23,
   "id": "c3d04196",
   "metadata": {},
   "outputs": [
    {
     "name": "stdout",
     "output_type": "stream",
     "text": [
      "enter a number:6\n",
      "hai\n",
      "name 'num222' is not defined\n",
      "hello\n",
      "python\n",
      "1\n",
      "2\n"
     ]
    }
   ],
   "source": [
    "try:\n",
    "    num=eval(input(\"enter a number:\"))\n",
    "    print(\"the square of {} is {}\".format(num,num222*num))\n",
    "    \n",
    "except Exception as e:\n",
    "    print('hai')\n",
    "    print(e)\n",
    "    print('hello')\n",
    "    \n",
    "    print('python')\n",
    "    print(1)\n",
    "    print(2)            "
   ]
  },
  {
   "cell_type": "code",
   "execution_count": 24,
   "id": "112d44d9",
   "metadata": {},
   "outputs": [
    {
     "name": "stdout",
     "output_type": "stream",
     "text": [
      "100\n"
     ]
    }
   ],
   "source": [
    "print('100')"
   ]
  },
  {
   "cell_type": "code",
   "execution_count": null,
   "id": "5e6563f8",
   "metadata": {},
   "outputs": [],
   "source": [
    "# only try block content is printed\n",
    "- if your code is with out error,try block will execute\n",
    "- if your code has error,it will redirect to except block\n",
    "- what ever you written inside except block that will run\n",
    "- try and exception is together\n",
    "- once try and exception code are complete,it try to look any other lines af code are there"
   ]
  },
  {
   "cell_type": "code",
   "execution_count": 28,
   "id": "f4b01edc",
   "metadata": {},
   "outputs": [
    {
     "name": "stdout",
     "output_type": "stream",
     "text": [
      "================\n",
      "8\n",
      "*****************\n",
      "enter a number:10\n",
      "hai\n",
      "name 'num222' is not defined\n",
      "hello\n",
      "python\n",
      "1\n",
      "2\n"
     ]
    }
   ],
   "source": [
    "print(\"================\")\n",
    "print(3+5)\n",
    "print('*****************')\n",
    "\n",
    "try:\n",
    "    num=eval(input(\"enter a number:\"))\n",
    "    print(\"the square of {} is {}\".format(num,num222*num))  \n",
    "    print('out')\n",
    "\n",
    "except Exception as e:\n",
    "    print('hai')\n",
    "    print(e)\n",
    "    print('hello')\n",
    "\n",
    "    print('python')\n",
    "    print(1)\n",
    "    print(2)\n",
    "\n"
   ]
  },
  {
   "cell_type": "code",
   "execution_count": null,
   "id": "4e6fe3ff",
   "metadata": {},
   "outputs": [],
   "source": []
  },
  {
   "cell_type": "code",
   "execution_count": null,
   "id": "4782144e",
   "metadata": {},
   "outputs": [],
   "source": []
  },
  {
   "cell_type": "code",
   "execution_count": null,
   "id": "c0b257e2",
   "metadata": {},
   "outputs": [],
   "source": []
  },
  {
   "cell_type": "code",
   "execution_count": null,
   "id": "295a8826",
   "metadata": {},
   "outputs": [],
   "source": []
  },
  {
   "cell_type": "code",
   "execution_count": null,
   "id": "a675ddaa",
   "metadata": {},
   "outputs": [],
   "source": []
  },
  {
   "cell_type": "code",
   "execution_count": null,
   "id": "78b72775",
   "metadata": {},
   "outputs": [],
   "source": []
  },
  {
   "cell_type": "code",
   "execution_count": null,
   "id": "97145fd4",
   "metadata": {},
   "outputs": [],
   "source": []
  }
 ],
 "metadata": {
  "kernelspec": {
   "display_name": "Python 3 (ipykernel)",
   "language": "python",
   "name": "python3"
  },
  "language_info": {
   "codemirror_mode": {
    "name": "ipython",
    "version": 3
   },
   "file_extension": ".py",
   "mimetype": "text/x-python",
   "name": "python",
   "nbconvert_exporter": "python",
   "pygments_lexer": "ipython3",
   "version": "3.11.5"
  }
 },
 "nbformat": 4,
 "nbformat_minor": 5
}
