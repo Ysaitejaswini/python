{
 "cells": [
  {
   "cell_type": "code",
   "execution_count": 44,
   "id": "749dc668",
   "metadata": {},
   "outputs": [],
   "source": [
    "list1=['Ram','Raheem','Robert']\n",
    "\n",
    "\n",
    "list2=[25,30,35]"
   ]
  },
  {
   "cell_type": "code",
   "execution_count": 45,
   "id": "93c4750d",
   "metadata": {},
   "outputs": [
    {
     "data": {
      "text/plain": [
       "'Robert has age 35'"
      ]
     },
     "execution_count": 45,
     "metadata": {},
     "output_type": "execute_result"
    }
   ],
   "source": [
    "'Ram has age 25'\n",
    "'Raheem has age 30'\n",
    "'Robert has age 35'"
   ]
  },
  {
   "cell_type": "code",
   "execution_count": 46,
   "id": "5b92d527",
   "metadata": {},
   "outputs": [
    {
     "name": "stdout",
     "output_type": "stream",
     "text": [
      "Ram 25\n",
      "Raheem 30\n",
      "Robert 35\n"
     ]
    }
   ],
   "source": [
    "for i,j in zip(list1,list2):\n",
    "    print(i,j)"
   ]
  },
  {
   "cell_type": "code",
   "execution_count": null,
   "id": "d3def7bf",
   "metadata": {},
   "outputs": [],
   "source": [
    "# {key:value}"
   ]
  },
  {
   "cell_type": "code",
   "execution_count": 47,
   "id": "b2b36610",
   "metadata": {},
   "outputs": [
    {
     "data": {
      "text/plain": [
       "{'Ram': 25, 'Raheem': 30, 'Robert': 35}"
      ]
     },
     "execution_count": 47,
     "metadata": {},
     "output_type": "execute_result"
    }
   ],
   "source": [
    "d1={'Ram':25,\n",
    "   'Raheem':30,\n",
    "   'Robert':35}\n",
    "d1\n",
    "\n",
    "# keys='Ram','Raheem','Robert'\n",
    "# values=25,30,35"
   ]
  },
  {
   "cell_type": "code",
   "execution_count": null,
   "id": "a2f1cc2f",
   "metadata": {},
   "outputs": [],
   "source": [
    "{'Ram':25,'Raheem':30,'Robert':35}"
   ]
  },
  {
   "cell_type": "code",
   "execution_count": null,
   "id": "3784ad41",
   "metadata": {},
   "outputs": [],
   "source": [
    "d2={25:'Ram',30:'Raheem'30:'Robert'}"
   ]
  },
  {
   "cell_type": "code",
   "execution_count": 50,
   "id": "33682e6b",
   "metadata": {},
   "outputs": [
    {
     "ename": "TypeError",
     "evalue": "unhashable type: 'list'",
     "output_type": "error",
     "traceback": [
      "\u001b[1;31m---------------------------------------------------------------------------\u001b[0m",
      "\u001b[1;31mTypeError\u001b[0m                                 Traceback (most recent call last)",
      "Cell \u001b[1;32mIn[50], line 1\u001b[0m\n\u001b[1;32m----> 1\u001b[0m d4\u001b[38;5;241m=\u001b[39m{[\u001b[38;5;241m2\u001b[39m,\u001b[38;5;241m6\u001b[39m,\u001b[38;5;241m4\u001b[39m]:\u001b[38;5;124m'\u001b[39m\u001b[38;5;124meven\u001b[39m\u001b[38;5;124m'\u001b[39m,\n\u001b[0;32m      2\u001b[0m    (\u001b[38;5;241m3\u001b[39m,\u001b[38;5;241m5\u001b[39m,\u001b[38;5;241m7\u001b[39m):\u001b[38;5;124m'\u001b[39m\u001b[38;5;124modd\u001b[39m\u001b[38;5;124m'\u001b[39m}\n",
      "\u001b[1;31mTypeError\u001b[0m: unhashable type: 'list'"
     ]
    }
   ],
   "source": [
    "d4={[2,6,4]:'even',\n",
    "   (3,5,7):'odd'}"
   ]
  },
  {
   "cell_type": "code",
   "execution_count": null,
   "id": "09da7bb3",
   "metadata": {},
   "outputs": [],
   "source": [
    "d3={'even':[2,6,4],\n",
    "   'odd':(3,5,7)}"
   ]
  },
  {
   "cell_type": "code",
   "execution_count": 51,
   "id": "c617ffd0",
   "metadata": {},
   "outputs": [
    {
     "data": {
      "text/plain": [
       "{(2, 6, 4): 'even', (3, 5, 7): 'odd'}"
      ]
     },
     "execution_count": 51,
     "metadata": {},
     "output_type": "execute_result"
    }
   ],
   "source": [
    "d4={(2,6,4):'even',\n",
    "   (3,5,7):'odd'}\n",
    "d4"
   ]
  },
  {
   "cell_type": "code",
   "execution_count": 52,
   "id": "a5af242c",
   "metadata": {},
   "outputs": [
    {
     "data": {
      "text/plain": [
       "{'item_list': {'fruits': 'apple'}}"
      ]
     },
     "execution_count": 52,
     "metadata": {},
     "output_type": "execute_result"
    }
   ],
   "source": [
    "#{'key':<{}>}\n",
    "d5={'item_list':{'fruits':'apple'}}\n",
    "d5"
   ]
  },
  {
   "cell_type": "code",
   "execution_count": 53,
   "id": "50c8f7aa",
   "metadata": {},
   "outputs": [
    {
     "ename": "TypeError",
     "evalue": "unhashable type: 'dict'",
     "output_type": "error",
     "traceback": [
      "\u001b[1;31m---------------------------------------------------------------------------\u001b[0m",
      "\u001b[1;31mTypeError\u001b[0m                                 Traceback (most recent call last)",
      "Cell \u001b[1;32mIn[53], line 1\u001b[0m\n\u001b[1;32m----> 1\u001b[0m d6\u001b[38;5;241m=\u001b[39m{{\u001b[38;5;124m'\u001b[39m\u001b[38;5;124mfruits\u001b[39m\u001b[38;5;124m'\u001b[39m:\u001b[38;5;124m'\u001b[39m\u001b[38;5;124mApple\u001b[39m\u001b[38;5;124m'\u001b[39m}:\u001b[38;5;124m'\u001b[39m\u001b[38;5;124mitem_list\u001b[39m\u001b[38;5;124m'\u001b[39m}\n\u001b[0;32m      2\u001b[0m d6\n",
      "\u001b[1;31mTypeError\u001b[0m: unhashable type: 'dict'"
     ]
    }
   ],
   "source": [
    "d6={{'fruits':'Apple'}:'item_list'}\n",
    "d6"
   ]
  },
  {
   "cell_type": "code",
   "execution_count": null,
   "id": "69c64e05",
   "metadata": {},
   "outputs": [],
   "source": [
    "a=[1,2]\n",
    "b=[1,2]"
   ]
  },
  {
   "cell_type": "code",
   "execution_count": 54,
   "id": "ac7760ec",
   "metadata": {},
   "outputs": [
    {
     "data": {
      "text/plain": [
       "2"
      ]
     },
     "execution_count": 54,
     "metadata": {},
     "output_type": "execute_result"
    }
   ],
   "source": [
    "a,b=[1,2]\n",
    "c,d=(1,2)\n",
    "d"
   ]
  },
  {
   "cell_type": "code",
   "execution_count": 55,
   "id": "7a1d29f6",
   "metadata": {},
   "outputs": [
    {
     "data": {
      "text/plain": [
       "(1, 2)"
      ]
     },
     "execution_count": 55,
     "metadata": {},
     "output_type": "execute_result"
    }
   ],
   "source": [
    "a=(1,2)\n",
    "a"
   ]
  },
  {
   "cell_type": "code",
   "execution_count": 56,
   "id": "ff8c6e92",
   "metadata": {},
   "outputs": [
    {
     "data": {
      "text/plain": [
       "{'A': 1, 'B': 2}"
      ]
     },
     "execution_count": 56,
     "metadata": {},
     "output_type": "execute_result"
    }
   ],
   "source": [
    "d1={'A':1,'B':2,'A':1}\n",
    "d1"
   ]
  },
  {
   "cell_type": "code",
   "execution_count": 57,
   "id": "b90eb74a",
   "metadata": {},
   "outputs": [
    {
     "data": {
      "text/plain": [
       "{'A': 3, 'B': 2}"
      ]
     },
     "execution_count": 57,
     "metadata": {},
     "output_type": "execute_result"
    }
   ],
   "source": [
    "d1={'A':1,'B':2,'A':3}\n",
    "d1"
   ]
  },
  {
   "cell_type": "markdown",
   "id": "61e8d333",
   "metadata": {},
   "source": [
    "- Dictionary is a key:value pair\n",
    "- at values position you cant take any data type\n",
    "- at keys position list and dictionary will fail\n",
    "- Duplicates are not allowed\n",
    "- if you will update a key values,latest value it will take"
   ]
  },
  {
   "cell_type": "markdown",
   "id": "8e78e564",
   "metadata": {},
   "source": [
    "$Type$"
   ]
  },
  {
   "cell_type": "code",
   "execution_count": 58,
   "id": "b2773710",
   "metadata": {},
   "outputs": [
    {
     "data": {
      "text/plain": [
       "dict"
      ]
     },
     "execution_count": 58,
     "metadata": {},
     "output_type": "execute_result"
    }
   ],
   "source": [
    "type(d1)"
   ]
  },
  {
   "cell_type": "markdown",
   "id": "2466812b",
   "metadata": {},
   "source": [
    "- str\n",
    "- list\n",
    "- dict\n",
    "- int\n",
    "- float\n",
    "- bool\n",
    "- complex\n",
    "- tuple\n",
    "- set"
   ]
  },
  {
   "cell_type": "code",
   "execution_count": 59,
   "id": "9b558c09",
   "metadata": {},
   "outputs": [
    {
     "data": {
      "text/plain": [
       "'Robert'"
      ]
     },
     "execution_count": 59,
     "metadata": {},
     "output_type": "execute_result"
    }
   ],
   "source": [
    "d1={'Ram':25,\n",
    "   'Raheem':30,\n",
    "   'Robert':35}\n",
    "max(d1)\n",
    "# this maximum we are getting based on key or value"
   ]
  },
  {
   "cell_type": "markdown",
   "id": "1f0864a5",
   "metadata": {},
   "source": [
    "- maximum and minimum value based on key only"
   ]
  },
  {
   "cell_type": "code",
   "execution_count": 60,
   "id": "17a200ab",
   "metadata": {},
   "outputs": [
    {
     "data": {
      "text/plain": [
       "'Robert'"
      ]
     },
     "execution_count": 60,
     "metadata": {},
     "output_type": "execute_result"
    }
   ],
   "source": [
    "min(d1)\n",
    "'Ram',   ord('m')\n",
    "'Raheem',ord('h')\n",
    "'Robert'"
   ]
  },
  {
   "cell_type": "code",
   "execution_count": 61,
   "id": "c1fd130e",
   "metadata": {},
   "outputs": [
    {
     "data": {
      "text/plain": [
       "3"
      ]
     },
     "execution_count": 61,
     "metadata": {},
     "output_type": "execute_result"
    }
   ],
   "source": [
    "len(d1)"
   ]
  },
  {
   "cell_type": "code",
   "execution_count": 62,
   "id": "bfe4f81a",
   "metadata": {},
   "outputs": [
    {
     "ename": "TypeError",
     "evalue": "unsupported operand type(s) for +: 'int' and 'str'",
     "output_type": "error",
     "traceback": [
      "\u001b[1;31m---------------------------------------------------------------------------\u001b[0m",
      "\u001b[1;31mTypeError\u001b[0m                                 Traceback (most recent call last)",
      "Cell \u001b[1;32mIn[62], line 1\u001b[0m\n\u001b[1;32m----> 1\u001b[0m \u001b[38;5;28msum\u001b[39m(d1)\n",
      "\u001b[1;31mTypeError\u001b[0m: unsupported operand type(s) for +: 'int' and 'str'"
     ]
    }
   ],
   "source": [
    "sum(d1)"
   ]
  },
  {
   "cell_type": "code",
   "execution_count": 63,
   "id": "b4e8894d",
   "metadata": {},
   "outputs": [
    {
     "data": {
      "text/plain": [
       "400"
      ]
     },
     "execution_count": 63,
     "metadata": {},
     "output_type": "execute_result"
    }
   ],
   "source": [
    "d2={100:2,300:4}\n",
    "sum(d2)"
   ]
  },
  {
   "cell_type": "markdown",
   "id": "fbe96823",
   "metadata": {},
   "source": [
    "- if keys has numeric then we can do sum\n",
    "\n",
    "\n",
    "completed topics\n",
    "- type\n",
    "- len\n",
    "- max\n",
    "- min\n",
    "- sum\n"
   ]
  },
  {
   "cell_type": "code",
   "execution_count": null,
   "id": "134ac6c4",
   "metadata": {},
   "outputs": [],
   "source": [
    "d1={'Ram':25,\n",
    "   'Raheem':30,\n",
    "   'Robert':35}\n",
    "# 'Ram':25 in d1   # fails\n",
    "\n",
    "'Ram':in d1  # works\n",
    "    \n",
    "# 25 in d1   # fails\n",
    "\n",
    "# only keys will be run"
   ]
  },
  {
   "cell_type": "code",
   "execution_count": 64,
   "id": "1d538184",
   "metadata": {},
   "outputs": [
    {
     "name": "stdout",
     "output_type": "stream",
     "text": [
      "1\n",
      "2\n",
      "3\n"
     ]
    }
   ],
   "source": [
    "str1='apple'\n",
    "'a' in str1\n",
    "\n",
    "list1=[1,2,3]\n",
    "1 in list1\n",
    "\n",
    "for i in list1:\n",
    "    print(i)"
   ]
  },
  {
   "cell_type": "markdown",
   "id": "d4b0e385",
   "metadata": {},
   "source": [
    "$Index$"
   ]
  },
  {
   "cell_type": "code",
   "execution_count": 65,
   "id": "37624e35",
   "metadata": {},
   "outputs": [
    {
     "data": {
      "text/plain": [
       "'a'"
      ]
     },
     "execution_count": 65,
     "metadata": {},
     "output_type": "execute_result"
    }
   ],
   "source": [
    "list1=[10,20,30,40]\n",
    "list1[0]\n",
    "\n",
    "str1='apple'\n",
    "str1[0]"
   ]
  },
  {
   "cell_type": "code",
   "execution_count": 66,
   "id": "ccb1c10d",
   "metadata": {},
   "outputs": [
    {
     "ename": "KeyError",
     "evalue": "0",
     "output_type": "error",
     "traceback": [
      "\u001b[1;31m---------------------------------------------------------------------------\u001b[0m",
      "\u001b[1;31mKeyError\u001b[0m                                  Traceback (most recent call last)",
      "Cell \u001b[1;32mIn[66], line 4\u001b[0m\n\u001b[0;32m      1\u001b[0m d1\u001b[38;5;241m=\u001b[39m{\u001b[38;5;124m'\u001b[39m\u001b[38;5;124mRam\u001b[39m\u001b[38;5;124m'\u001b[39m:\u001b[38;5;241m25\u001b[39m,\n\u001b[0;32m      2\u001b[0m    \u001b[38;5;124m'\u001b[39m\u001b[38;5;124mRaheem\u001b[39m\u001b[38;5;124m'\u001b[39m:\u001b[38;5;241m30\u001b[39m,\n\u001b[0;32m      3\u001b[0m    \u001b[38;5;124m'\u001b[39m\u001b[38;5;124mRobert\u001b[39m\u001b[38;5;124m'\u001b[39m:\u001b[38;5;241m35\u001b[39m}\n\u001b[1;32m----> 4\u001b[0m d1[\u001b[38;5;241m0\u001b[39m]\n",
      "\u001b[1;31mKeyError\u001b[0m: 0"
     ]
    }
   ],
   "source": [
    "d1={'Ram':25,\n",
    "   'Raheem':30,\n",
    "   'Robert':35}\n",
    "d1[0]"
   ]
  },
  {
   "cell_type": "code",
   "execution_count": 67,
   "id": "e0492f78",
   "metadata": {},
   "outputs": [
    {
     "data": {
      "text/plain": [
       "25"
      ]
     },
     "execution_count": 67,
     "metadata": {},
     "output_type": "execute_result"
    }
   ],
   "source": [
    "d1={'Ram':25,\n",
    "   'Raheem':30,\n",
    "   'Robert':35}\n",
    "d1['Ram']\n",
    "\n",
    "# can we get values using for loop"
   ]
  },
  {
   "cell_type": "code",
   "execution_count": 68,
   "id": "eb7565c3",
   "metadata": {},
   "outputs": [
    {
     "name": "stdout",
     "output_type": "stream",
     "text": [
      "the age of Ram,is 25\n",
      "the age of Raheem,is 30\n",
      "the age of Robert,is 35\n"
     ]
    }
   ],
   "source": [
    "for key in d1:\n",
    "    print(\"the age of {},is {}\".format(key,d1[key]))"
   ]
  },
  {
   "cell_type": "code",
   "execution_count": 69,
   "id": "f2909213",
   "metadata": {},
   "outputs": [
    {
     "name": "stdout",
     "output_type": "stream",
     "text": [
      "Ram\n",
      "Raheem\n",
      "Robert\n"
     ]
    }
   ],
   "source": [
    "for key in d1:\n",
    "    print(key)"
   ]
  },
  {
   "cell_type": "code",
   "execution_count": 70,
   "id": "5a411eb3",
   "metadata": {},
   "outputs": [
    {
     "name": "stdout",
     "output_type": "stream",
     "text": [
      "0 10\n",
      "1 20\n",
      "2 30\n",
      "3 40\n"
     ]
    }
   ],
   "source": [
    "for i in range(len(list1)):\n",
    "    print(i,list1[i])"
   ]
  },
  {
   "cell_type": "code",
   "execution_count": 71,
   "id": "36ef99b1",
   "metadata": {},
   "outputs": [
    {
     "name": "stdout",
     "output_type": "stream",
     "text": [
      "0\n",
      "1\n",
      "2\n"
     ]
    }
   ],
   "source": [
    "for key in range(len(d1)):\n",
    "    print(key)\n",
    "    # print(\"the age of {},is {}\".format(key,d1[key]))"
   ]
  },
  {
   "cell_type": "markdown",
   "id": "51f1a622",
   "metadata": {},
   "source": [
    " Creating a empty dictionary and update "
   ]
  },
  {
   "cell_type": "code",
   "execution_count": 73,
   "id": "35a0ce7a",
   "metadata": {},
   "outputs": [
    {
     "name": "stdout",
     "output_type": "stream",
     "text": [
      " apple\n"
     ]
    }
   ],
   "source": [
    "s=' '\n",
    "for i in 'apple':\n",
    "    s=s+i\n",
    "    \n",
    "print(s)"
   ]
  },
  {
   "cell_type": "code",
   "execution_count": 9,
   "id": "0f202a3d",
   "metadata": {},
   "outputs": [
    {
     "name": "stdout",
     "output_type": "stream",
     "text": [
      "even.append the values in even list4:\n",
      "even.append the values in even list6:\n",
      "odd.append the value in odd list1:\n",
      "odd.append the value in odd list3:\n",
      "even.append the values in even list6:\n"
     ]
    },
    {
     "data": {
      "text/plain": [
       "{'even': [4, 6, 6], 'odd': [1, 3]}"
      ]
     },
     "execution_count": 9,
     "metadata": {},
     "output_type": "execute_result"
    }
   ],
   "source": [
    "# WAP take 5 random numbers\n",
    "# and create a dictionary with even and odd\n",
    "# output:'even:[20,22]','odd':[19,21,23]\n",
    "# step-1: take empty ditionary\n",
    "# step-2: take two even and odd list\n",
    "# step-3: import random\n",
    "# step-4: for i in range(5):\n",
    "# step-5: num=random.randint(a,b)\n",
    "# step-6: if<even>:\n",
    "# step-7: append the value in even list\n",
    "# step-8: else:\n",
    "# step-9: append the value in odd list\n",
    "# step-10: create dictionary\n",
    "\n",
    "import random\n",
    "d1={}\n",
    "even=[]\n",
    "odd=[]\n",
    "for i in range(5):\n",
    "    num=random.randint(1,10)\n",
    "    if num%2==0:\n",
    "        print(\"even.append the values in even list{}:\".format(num))\n",
    "        even.append(num)\n",
    "    else:\n",
    "        print(\"odd.append the value in odd list{}:\".format(num))\n",
    "        odd.append(num)\n",
    "d1['even']=even\n",
    "d1['odd']=odd\n",
    "d1"
   ]
  },
  {
   "cell_type": "code",
   "execution_count": 11,
   "id": "f62d4f69",
   "metadata": {},
   "outputs": [],
   "source": [
    "import os"
   ]
  },
  {
   "cell_type": "code",
   "execution_count": 12,
   "id": "799f5a2f",
   "metadata": {},
   "outputs": [
    {
     "data": {
      "text/plain": [
       "'C:\\\\Users\\\\ysait\\\\OneDrive\\\\Untitled Folder'"
      ]
     },
     "execution_count": 12,
     "metadata": {},
     "output_type": "execute_result"
    }
   ],
   "source": [
    "os.getcwd()"
   ]
  },
  {
   "cell_type": "markdown",
   "id": "198a6079",
   "metadata": {},
   "source": [
    "$DICTIONARY METHODS$"
   ]
  },
  {
   "cell_type": "code",
   "execution_count": null,
   "id": "d31a29f1",
   "metadata": {},
   "outputs": [],
   "source": []
  },
  {
   "cell_type": "code",
   "execution_count": null,
   "id": "5c5875f0",
   "metadata": {},
   "outputs": [],
   "source": []
  },
  {
   "cell_type": "code",
   "execution_count": null,
   "id": "8cce5cce",
   "metadata": {},
   "outputs": [],
   "source": []
  },
  {
   "cell_type": "code",
   "execution_count": 41,
   "id": "cff36835",
   "metadata": {},
   "outputs": [
    {
     "data": {
      "text/plain": [
       "['__class__',\n",
       " '__class_getitem__',\n",
       " '__contains__',\n",
       " '__delattr__',\n",
       " '__delitem__',\n",
       " '__dir__',\n",
       " '__doc__',\n",
       " '__eq__',\n",
       " '__format__',\n",
       " '__ge__',\n",
       " '__getattribute__',\n",
       " '__getitem__',\n",
       " '__getstate__',\n",
       " '__gt__',\n",
       " '__hash__',\n",
       " '__init__',\n",
       " '__init_subclass__',\n",
       " '__ior__',\n",
       " '__iter__',\n",
       " '__le__',\n",
       " '__len__',\n",
       " '__lt__',\n",
       " '__ne__',\n",
       " '__new__',\n",
       " '__or__',\n",
       " '__reduce__',\n",
       " '__reduce_ex__',\n",
       " '__repr__',\n",
       " '__reversed__',\n",
       " '__ror__',\n",
       " '__setattr__',\n",
       " '__setitem__',\n",
       " '__sizeof__',\n",
       " '__str__',\n",
       " '__subclasshook__',\n",
       " 'clear',\n",
       " 'copy',\n",
       " 'fromkeys',\n",
       " 'get',\n",
       " 'items',\n",
       " 'keys',\n",
       " 'pop',\n",
       " 'popitem',\n",
       " 'setdefault',\n",
       " 'update',\n",
       " 'values']"
      ]
     },
     "execution_count": 41,
     "metadata": {},
     "output_type": "execute_result"
    }
   ],
   "source": [
    "dir({})\n",
    "\n",
    "# str=''\n",
    "#"
   ]
  },
  {
   "cell_type": "code",
   "execution_count": 3,
   "id": "92cb3eeb",
   "metadata": {},
   "outputs": [],
   "source": [
    "d1={'Ram':25,\n",
    "    'Raheem':30,\n",
    "    'Robert':35}"
   ]
  },
  {
   "cell_type": "code",
   "execution_count": 4,
   "id": "1a2320df",
   "metadata": {},
   "outputs": [
    {
     "data": {
      "text/plain": [
       "{'Ram': 25, 'Raheem': 30, 'Robert': 35}"
      ]
     },
     "execution_count": 4,
     "metadata": {},
     "output_type": "execute_result"
    }
   ],
   "source": [
    "d1"
   ]
  },
  {
   "cell_type": "code",
   "execution_count": 5,
   "id": "0ca2a9e3",
   "metadata": {},
   "outputs": [
    {
     "data": {
      "text/plain": [
       "dict_items([('Ram', 25), ('Raheem', 30), ('Robert', 35)])"
      ]
     },
     "execution_count": 5,
     "metadata": {},
     "output_type": "execute_result"
    }
   ],
   "source": [
    "#items\n",
    "items=d1.items()\n",
    "items"
   ]
  },
  {
   "cell_type": "code",
   "execution_count": 6,
   "id": "cb2f0e42",
   "metadata": {},
   "outputs": [
    {
     "data": {
      "text/plain": [
       "dict_keys(['Ram', 'Raheem', 'Robert'])"
      ]
     },
     "execution_count": 6,
     "metadata": {},
     "output_type": "execute_result"
    }
   ],
   "source": [
    "#keys\n",
    "keys=d1.keys()\n",
    "keys"
   ]
  },
  {
   "cell_type": "code",
   "execution_count": 7,
   "id": "b96a6474",
   "metadata": {},
   "outputs": [
    {
     "data": {
      "text/plain": [
       "<function dict.values>"
      ]
     },
     "execution_count": 7,
     "metadata": {},
     "output_type": "execute_result"
    }
   ],
   "source": [
    "# values\n",
    "d1.values"
   ]
  },
  {
   "cell_type": "code",
   "execution_count": 11,
   "id": "4f6c687a",
   "metadata": {},
   "outputs": [
    {
     "data": {
      "text/plain": [
       "dict_keys"
      ]
     },
     "execution_count": 11,
     "metadata": {},
     "output_type": "execute_result"
    }
   ],
   "source": [
    "type(keys)"
   ]
  },
  {
   "cell_type": "code",
   "execution_count": 14,
   "id": "fae2cb50",
   "metadata": {},
   "outputs": [
    {
     "data": {
      "text/plain": [
       "dict_values([25, 30, 35])"
      ]
     },
     "execution_count": 14,
     "metadata": {},
     "output_type": "execute_result"
    }
   ],
   "source": [
    "# values\n",
    "values=d1.values()\n",
    "values"
   ]
  },
  {
   "cell_type": "code",
   "execution_count": 15,
   "id": "46b9b2ba",
   "metadata": {},
   "outputs": [
    {
     "data": {
      "text/plain": [
       "dict_values"
      ]
     },
     "execution_count": 15,
     "metadata": {},
     "output_type": "execute_result"
    }
   ],
   "source": [
    "type(values)"
   ]
  },
  {
   "cell_type": "code",
   "execution_count": 12,
   "id": "684a92ad",
   "metadata": {},
   "outputs": [
    {
     "data": {
      "text/plain": [
       "[25, 30, 35, 400]"
      ]
     },
     "execution_count": 12,
     "metadata": {},
     "output_type": "execute_result"
    }
   ],
   "source": [
    "l1=[25,30,35]\n",
    "l1.append(400)\n",
    "l1"
   ]
  },
  {
   "cell_type": "code",
   "execution_count": 16,
   "id": "2aa8f703",
   "metadata": {},
   "outputs": [
    {
     "data": {
      "text/plain": [
       "[25, 30, 35]"
      ]
     },
     "execution_count": 16,
     "metadata": {},
     "output_type": "execute_result"
    }
   ],
   "source": [
    "values                           # i want to convert into a list\n",
    "values_list=list(values)\n",
    "values_list                # then you can apply list methods"
   ]
  },
  {
   "cell_type": "code",
   "execution_count": 8,
   "id": "fc99d4d7",
   "metadata": {},
   "outputs": [
    {
     "data": {
      "text/plain": [
       "['Ram', 'Raheem', 'Robert']"
      ]
     },
     "execution_count": 8,
     "metadata": {},
     "output_type": "execute_result"
    }
   ],
   "source": [
    "keys\n",
    "keys_list=list(keys)\n",
    "keys_list"
   ]
  },
  {
   "cell_type": "code",
   "execution_count": null,
   "id": "d6287945",
   "metadata": {},
   "outputs": [],
   "source": [
    "# i will give the dictionary\n",
    "#\n",
    "\n",
    "# i will give two list keys and values\n",
    "# can you create a dictinary\n"
   ]
  },
  {
   "cell_type": "code",
   "execution_count": 17,
   "id": "adeb3d05",
   "metadata": {},
   "outputs": [],
   "source": [
    "d1={'Ram':25,\n",
    "   'Raheem':30,\n",
    "   'Robert':35}\n",
    "\n",
    "keys=list(d1.keys())\n",
    "values=list(d1.values())"
   ]
  },
  {
   "cell_type": "code",
   "execution_count": 20,
   "id": "0103a5ab",
   "metadata": {},
   "outputs": [
    {
     "data": {
      "text/plain": [
       "(['Ram', 'Raheem', 'Robert'], [25, 30, 35])"
      ]
     },
     "execution_count": 20,
     "metadata": {},
     "output_type": "execute_result"
    }
   ],
   "source": [
    "keys,values"
   ]
  },
  {
   "cell_type": "code",
   "execution_count": 22,
   "id": "28d7b62b",
   "metadata": {},
   "outputs": [
    {
     "data": {
      "text/plain": [
       "{'Ram': 25, 'Raheem': 30, 'Robert': 35}"
      ]
     },
     "execution_count": 22,
     "metadata": {},
     "output_type": "execute_result"
    }
   ],
   "source": [
    "{i:j for i,j in zip(keys,values)}"
   ]
  },
  {
   "cell_type": "code",
   "execution_count": 24,
   "id": "cdf62329",
   "metadata": {},
   "outputs": [
    {
     "data": {
      "text/plain": [
       "{'Ram': 25, 'Raheem': 30, 'Robert': 35}"
      ]
     },
     "execution_count": 24,
     "metadata": {},
     "output_type": "execute_result"
    }
   ],
   "source": [
    "d1={}\n",
    "for i in range(len(keys)):\n",
    "    d1[keys[i]]=values[i]    # d1=[keys[0]]=values[0]   d1['Ram']=25\n",
    "    \n",
    "d1    "
   ]
  },
  {
   "cell_type": "code",
   "execution_count": 25,
   "id": "48691dec",
   "metadata": {},
   "outputs": [
    {
     "data": {
      "text/plain": [
       "{'Ram': 25, 'Raheem': 30, 'Robert': 35}"
      ]
     },
     "execution_count": 25,
     "metadata": {},
     "output_type": "execute_result"
    }
   ],
   "source": [
    "dict(zip(keys,values))\n"
   ]
  },
  {
   "cell_type": "code",
   "execution_count": 26,
   "id": "3ea2572f",
   "metadata": {},
   "outputs": [],
   "source": [
    "s1='virat.kohli@blr.com,Rohit.sharma@mumbai.com,kl.rahul@lucknow.com'\n",
    "\n",
    "# {'first_name':['Virat','Rohit','KL'],\n",
    "# 'Second_name':['Kohli','Sharma','Rahul'],\n",
    "# 'company':['blr','mumbai','lucknow']}"
   ]
  },
  {
   "cell_type": "code",
   "execution_count": 17,
   "id": "dc0d0612",
   "metadata": {
    "scrolled": true
   },
   "outputs": [
    {
     "data": {
      "text/plain": [
       "{'first_name': ['virat', 'rohit', 'kl'],\n",
       " 'second_name': ['kohli', 'sharma', 'rahul'],\n",
       " 'third_name': ['blr', 'mumbai', 'lucknow']}"
      ]
     },
     "execution_count": 17,
     "metadata": {},
     "output_type": "execute_result"
    }
   ],
   "source": [
    "d1={}\n",
    "list1=[\"virat\",\"rohit\",\"kl\"]\n",
    "list2=[\"kohli\",\"sharma\",\"rahul\"]\n",
    "list3=[\"blr\",\"mumbai\",\"lucknow\"]\n",
    "d1[\"first_name\"]=list1\n",
    "d1[\"second_name\"]=list2\n",
    "d1[\"third_name\"]=list3\n",
    "d1\n"
   ]
  },
  {
   "cell_type": "code",
   "execution_count": 29,
   "id": "78027359",
   "metadata": {},
   "outputs": [
    {
     "data": {
      "text/plain": [
       "['virat.kohli@blr.com', 'Rohit.sharma@mumbai.com', 'kl.rahul@lucknow.com']"
      ]
     },
     "execution_count": 29,
     "metadata": {},
     "output_type": "execute_result"
    }
   ],
   "source": [
    "s1.split(',')"
   ]
  },
  {
   "cell_type": "code",
   "execution_count": 40,
   "id": "3da95f31",
   "metadata": {},
   "outputs": [
    {
     "data": {
      "text/plain": [
       "{'first_name': ['virat.kohli@blr.co'],\n",
       " 'second_name': ['virat.kohli'],\n",
       " 'company_name': ['blr.co']}"
      ]
     },
     "execution_count": 40,
     "metadata": {},
     "output_type": "execute_result"
    }
   ],
   "source": [
    "s1='virat.kohli@blr.com'\n",
    "d1={}\n",
    "f_name=[str1[:str1.find(',')] for str1 in s1.split(',')]\n",
    "s_name=[str1[str1.find(',')+1:str1.find('@')] for str1 in s1.split(',')]\n",
    "c_name=[str1[str1.find('@')+1:str1.find(',',str1.find(',')+1)] for str1 in s1.split(',')]\n",
    "f_name,s_name,c_name\n",
    "\n",
    "d1[\"first_name\"]=f_name\n",
    "d1[\"second_name\"]=s_name\n",
    "d1[\"company_name\"]=c_name\n",
    "d1\n"
   ]
  },
  {
   "cell_type": "markdown",
   "id": "19502bb1",
   "metadata": {},
   "source": [
    "$ Words-frequency $"
   ]
  },
  {
   "cell_type": "code",
   "execution_count": 41,
   "id": "f8c90a1a",
   "metadata": {},
   "outputs": [
    {
     "data": {
      "text/plain": [
       "{'can': 4, 'you': 2, 'canner': 2, 'able': 1, 'to': 1}"
      ]
     },
     "execution_count": 41,
     "metadata": {},
     "output_type": "execute_result"
    }
   ],
   "source": [
    "'can can you canner can you able to can canner'\n",
    "#{'can':4,'you':2,'canner':2,'able':1,'to':1}\n",
    "\n",
    "# d={}\n",
    "# step-1: split the str1=======> you will get a list\n",
    "# step-2: iterate loop=========> each word will print\n",
    "# step-3: list1.count(<word>): number\n",
    "# step-4: make the dictinary\n",
    "    \n",
    "str1='can can you canner can you able to can canner'    \n",
    "l1=str1.split(' ')       #step-1\n",
    "d1={}\n",
    "\n",
    "for i in l1:              # step-2\n",
    "    d1[i]=l1.count(i)     # step-3\n",
    "d1    \n"
   ]
  },
  {
   "cell_type": "code",
   "execution_count": 42,
   "id": "1e0d071e",
   "metadata": {},
   "outputs": [
    {
     "data": {
      "text/plain": [
       "['can', 'can', 'you', 'canner', 'can', 'you', 'able', 'to', 'can', 'canner']"
      ]
     },
     "execution_count": 42,
     "metadata": {},
     "output_type": "execute_result"
    }
   ],
   "source": [
    "str1='can can you canner can you able to can canner'\n",
    "str1.split()"
   ]
  },
  {
   "cell_type": "code",
   "execution_count": 20,
   "id": "4e40b538",
   "metadata": {},
   "outputs": [],
   "source": [
    "keys=list(d1.values())\n"
   ]
  },
  {
   "cell_type": "code",
   "execution_count": 21,
   "id": "5cb57d94",
   "metadata": {},
   "outputs": [],
   "source": [
    "values=list(d1.values())"
   ]
  },
  {
   "cell_type": "code",
   "execution_count": 23,
   "id": "57ead21a",
   "metadata": {},
   "outputs": [
    {
     "data": {
      "text/plain": [
       "([4, 2, 2, 1, 1], [4, 2, 2, 1, 1])"
      ]
     },
     "execution_count": 23,
     "metadata": {},
     "output_type": "execute_result"
    }
   ],
   "source": [
    "keys,values"
   ]
  },
  {
   "cell_type": "code",
   "execution_count": 24,
   "id": "2434a513",
   "metadata": {},
   "outputs": [],
   "source": [
    "i=max(values)"
   ]
  },
  {
   "cell_type": "code",
   "execution_count": 25,
   "id": "b9b2246e",
   "metadata": {},
   "outputs": [
    {
     "data": {
      "text/plain": [
       "0"
      ]
     },
     "execution_count": 25,
     "metadata": {},
     "output_type": "execute_result"
    }
   ],
   "source": [
    "values.index(i)"
   ]
  },
  {
   "cell_type": "code",
   "execution_count": 26,
   "id": "65946cba",
   "metadata": {},
   "outputs": [
    {
     "data": {
      "text/plain": [
       "4"
      ]
     },
     "execution_count": 26,
     "metadata": {},
     "output_type": "execute_result"
    }
   ],
   "source": [
    "keys[values.index(max(values))]"
   ]
  },
  {
   "cell_type": "code",
   "execution_count": 27,
   "id": "559ecdba",
   "metadata": {},
   "outputs": [],
   "source": [
    "d1={'a':20,'b':30,'c':40}\n",
    "d2={'a':50,'b':100,'c':200}\n",
    "\n",
    "# o/p={'a':70,'b':30,'c':240}"
   ]
  },
  {
   "cell_type": "code",
   "execution_count": 28,
   "id": "9bb73370",
   "metadata": {},
   "outputs": [
    {
     "data": {
      "text/plain": [
       "{'a': 70, 'b': 130, 'c': 240}"
      ]
     },
     "execution_count": 28,
     "metadata": {},
     "output_type": "execute_result"
    }
   ],
   "source": [
    "d1= {'a':20,'b':30,'c':40}\n",
    "d2= {'a':50,'b':100,'c':200}\n",
    "for i in d2:\n",
    "    d1[i]+=d2[i]\n",
    "d1\n",
    "\n",
    " "
   ]
  },
  {
   "cell_type": "code",
   "execution_count": 55,
   "id": "b9b670e6",
   "metadata": {},
   "outputs": [
    {
     "data": {
      "text/plain": [
       "{'a': 70, 'b': 130, 'c': 240}"
      ]
     },
     "execution_count": 55,
     "metadata": {},
     "output_type": "execute_result"
    }
   ],
   "source": [
    "d1= {'a':20,'b':30,'c':40}\n",
    "d2= {'a':50,'b':100,'c':200}\n",
    "d3={}\n",
    "if len(d1)==len(d2):\n",
    "    for i in d1:\n",
    "        d3[i]=d1[i]+d2[i]\n",
    "        # d3['a']=d1['a']+d2['a']\n",
    "        \n",
    "d3        "
   ]
  },
  {
   "cell_type": "code",
   "execution_count": 37,
   "id": "506b2574",
   "metadata": {},
   "outputs": [
    {
     "data": {
      "text/plain": [
       "{'a': 20, 'b': 30, 'c': 40, 'd': 500}"
      ]
     },
     "execution_count": 37,
     "metadata": {},
     "output_type": "execute_result"
    }
   ],
   "source": [
    "d1= {'a':20,'b':30,'c':40,'d':500}\n",
    "d2= {'a':50,'b':100,'c':200}\n",
    "d3={}\n",
    "if (len(d1)==len(d2)):\n",
    "     for i in d1:\n",
    "        d3[i]=d1[i]+d2[i]\n",
    "        # d3['a']=d1['a']+d2['a']\n",
    "d1         "
   ]
  },
  {
   "cell_type": "markdown",
   "id": "a900a86a",
   "metadata": {},
   "source": [
    "$Clear-Copy$"
   ]
  },
  {
   "cell_type": "code",
   "execution_count": 1,
   "id": "b997e9d3",
   "metadata": {},
   "outputs": [
    {
     "name": "stdout",
     "output_type": "stream",
     "text": [
      "{}\n",
      "{'a': 20, 'b': 30, 'c': 40, 'd': 500}\n"
     ]
    }
   ],
   "source": [
    "# take one dictionary\n",
    "# take second dictionary\n",
    "# copy first dict into second\n",
    "# clear first dict\n",
    "# and print both\n",
    "\n",
    "d1={'a':20,'b':30,'c':40,'d':500}  #\n",
    "d2=d1.copy()\n",
    "d1.clear()\n",
    "print(d1)  # {}\n",
    "print(d2)  #{'a':20,'b':30,'c':40,'d':500}\n",
    "\n"
   ]
  },
  {
   "cell_type": "code",
   "execution_count": 38,
   "id": "d3a1a89b",
   "metadata": {},
   "outputs": [
    {
     "name": "stdout",
     "output_type": "stream",
     "text": [
      "{}\n",
      "{'a': 50, 'b': 60, 'c': 70}\n"
     ]
    }
   ],
   "source": [
    "# take one dictionary\n",
    "# take second dictionary\n",
    "# copy first dict into second\n",
    "# clear first dict\n",
    "# and print both\n",
    "\n",
    "d1={'a':50,'b':60,'c':70}\n",
    "d2=d1.copy()\n",
    "d1.clear()\n",
    "print(d1)\n",
    "print(d2)\n"
   ]
  },
  {
   "cell_type": "markdown",
   "id": "947d91b2",
   "metadata": {},
   "source": [
    "$pop-popitem-del$"
   ]
  },
  {
   "cell_type": "code",
   "execution_count": null,
   "id": "206da9c4",
   "metadata": {},
   "outputs": [],
   "source": [
    "- what is pop\n",
    "      - pop will remove specify key\n",
    "      - return item\n",
    "- what is popitem\n",
    "      - remove the last value \n",
    "      - return the pair\n",
    "- what is del\n",
    "      - del is a keyword\n",
    "      - "
   ]
  },
  {
   "cell_type": "code",
   "execution_count": 2,
   "id": "4d2a0d2f",
   "metadata": {},
   "outputs": [
    {
     "data": {
      "text/plain": [
       "{'a': 20, 'b': 30, 'c': 40, 'd': 500}"
      ]
     },
     "execution_count": 2,
     "metadata": {},
     "output_type": "execute_result"
    }
   ],
   "source": [
    "d2"
   ]
  },
  {
   "cell_type": "code",
   "execution_count": 3,
   "id": "eacebf63",
   "metadata": {},
   "outputs": [
    {
     "data": {
      "text/plain": [
       "20"
      ]
     },
     "execution_count": 3,
     "metadata": {},
     "output_type": "execute_result"
    }
   ],
   "source": [
    "d2.pop('a')"
   ]
  },
  {
   "cell_type": "code",
   "execution_count": 4,
   "id": "114b3262",
   "metadata": {},
   "outputs": [
    {
     "data": {
      "text/plain": [
       "('d', 500)"
      ]
     },
     "execution_count": 4,
     "metadata": {},
     "output_type": "execute_result"
    }
   ],
   "source": [
    "d2.popitem()"
   ]
  },
  {
   "cell_type": "code",
   "execution_count": 6,
   "id": "bf86b52f",
   "metadata": {},
   "outputs": [],
   "source": [
    "# del is a keyword\n",
    "del d2['c']"
   ]
  },
  {
   "cell_type": "code",
   "execution_count": 7,
   "id": "3e329895",
   "metadata": {},
   "outputs": [
    {
     "data": {
      "text/plain": [
       "{'b': 30}"
      ]
     },
     "execution_count": 7,
     "metadata": {},
     "output_type": "execute_result"
    }
   ],
   "source": [
    "d2"
   ]
  },
  {
   "cell_type": "code",
   "execution_count": 9,
   "id": "2c16840c",
   "metadata": {},
   "outputs": [],
   "source": [
    "l1=[10,20,30,40,50]\n",
    "del l1[1]   # list is access by index"
   ]
  },
  {
   "cell_type": "code",
   "execution_count": 10,
   "id": "5e2b3ca7",
   "metadata": {},
   "outputs": [
    {
     "data": {
      "text/plain": [
       "[10, 30, 40, 50]"
      ]
     },
     "execution_count": 10,
     "metadata": {},
     "output_type": "execute_result"
    }
   ],
   "source": [
    "l1"
   ]
  },
  {
   "cell_type": "code",
   "execution_count": 12,
   "id": "e31ea244",
   "metadata": {},
   "outputs": [
    {
     "ename": "NameError",
     "evalue": "name 'd2' is not defined",
     "output_type": "error",
     "traceback": [
      "\u001b[1;31m---------------------------------------------------------------------------\u001b[0m",
      "\u001b[1;31mNameError\u001b[0m                                 Traceback (most recent call last)",
      "Cell \u001b[1;32mIn[12], line 1\u001b[0m\n\u001b[1;32m----> 1\u001b[0m \u001b[38;5;28;01mdel\u001b[39;00m(d2)\n",
      "\u001b[1;31mNameError\u001b[0m: name 'd2' is not defined"
     ]
    }
   ],
   "source": [
    "del(d2)"
   ]
  },
  {
   "cell_type": "code",
   "execution_count": null,
   "id": "5182bc1b",
   "metadata": {},
   "outputs": [],
   "source": [
    "d1={'a':1,'b':2,'c':3}\n",
    "del d1['c']\n",
    "\n",
    "d1.pop('c')\n",
    "\n",
    "d1.popitem()   # LIFO\n",
    "######################################\n",
    "del(d1)"
   ]
  },
  {
   "cell_type": "markdown",
   "id": "c477b734",
   "metadata": {},
   "source": [
    "- items/values/keys\n",
    "- if i provide two list you know how to make dict\n",
    "- if i provide dict,you know how to generate list\n",
    "- create an empty string/list/dictionary\n",
    "- counter\n",
    "- summ\n",
    "- function\n",
    "- pop/popitem/del\n",
    "- copy/clear"
   ]
  },
  {
   "cell_type": "markdown",
   "id": "b646b1e9",
   "metadata": {},
   "source": [
    "$fromkeys-get$"
   ]
  },
  {
   "cell_type": "code",
   "execution_count": 39,
   "id": "6d7b36ce",
   "metadata": {},
   "outputs": [
    {
     "data": {
      "text/plain": [
       "40"
      ]
     },
     "execution_count": 39,
     "metadata": {},
     "output_type": "execute_result"
    }
   ],
   "source": [
    "d1={'a':20,'b':30,'c':40,'d':500}\n",
    "d1['c']"
   ]
  },
  {
   "cell_type": "code",
   "execution_count": 40,
   "id": "98d2ffd0",
   "metadata": {},
   "outputs": [
    {
     "data": {
      "text/plain": [
       "40"
      ]
     },
     "execution_count": 40,
     "metadata": {},
     "output_type": "execute_result"
    }
   ],
   "source": [
    "d1.get('c')"
   ]
  },
  {
   "cell_type": "code",
   "execution_count": 17,
   "id": "0b4f6be0",
   "metadata": {},
   "outputs": [],
   "source": [
    "d1.get('z')"
   ]
  },
  {
   "cell_type": "code",
   "execution_count": 18,
   "id": "48609591",
   "metadata": {},
   "outputs": [
    {
     "ename": "KeyError",
     "evalue": "'z'",
     "output_type": "error",
     "traceback": [
      "\u001b[1;31m---------------------------------------------------------------------------\u001b[0m",
      "\u001b[1;31mKeyError\u001b[0m                                  Traceback (most recent call last)",
      "Cell \u001b[1;32mIn[18], line 1\u001b[0m\n\u001b[1;32m----> 1\u001b[0m d1[\u001b[38;5;124m'\u001b[39m\u001b[38;5;124mz\u001b[39m\u001b[38;5;124m'\u001b[39m]\n",
      "\u001b[1;31mKeyError\u001b[0m: 'z'"
     ]
    }
   ],
   "source": [
    "d1['z']"
   ]
  },
  {
   "cell_type": "markdown",
   "id": "db1032f4",
   "metadata": {},
   "source": [
    "- How many ways we can do\n",
    "- what output it is returning\n",
    "- what is the difference\n",
    "- we can access the values by providing key as index and key in get method\n",
    "- but if the key is not present in dictionary,key as index will give key error\n",
    "- get method will not return anything and no error"
   ]
  },
  {
   "cell_type": "markdown",
   "id": "07912a3e",
   "metadata": {},
   "source": [
    "$ fromkeys $"
   ]
  },
  {
   "cell_type": "markdown",
   "id": "c9d85232",
   "metadata": {},
   "source": [
    "it creates a new dictionary\n",
    "create a new dictionary from the given sequence of elements\n",
    "create new dictionary with iterable key"
   ]
  },
  {
   "cell_type": "code",
   "execution_count": 21,
   "id": "224d3085",
   "metadata": {},
   "outputs": [
    {
     "data": {
      "text/plain": [
       "{'h': 25, 'i': 25, 'm': 25, 'e': 25, 's': 25}"
      ]
     },
     "execution_count": 21,
     "metadata": {},
     "output_type": "execute_result"
    }
   ],
   "source": [
    "d2=d1.fromkeys('himesh',25)\n",
    "d2"
   ]
  },
  {
   "cell_type": "code",
   "execution_count": 22,
   "id": "e55fff66",
   "metadata": {},
   "outputs": [
    {
     "data": {
      "text/plain": [
       "{'a': 20, 'b': 30, 'c': 40, 'd': 500}"
      ]
     },
     "execution_count": 22,
     "metadata": {},
     "output_type": "execute_result"
    }
   ],
   "source": [
    "d1"
   ]
  },
  {
   "cell_type": "code",
   "execution_count": 23,
   "id": "934fd2fe",
   "metadata": {},
   "outputs": [],
   "source": [
    "name='teju'\n",
    "new=name.capitalize()"
   ]
  },
  {
   "cell_type": "code",
   "execution_count": 24,
   "id": "74af9021",
   "metadata": {},
   "outputs": [
    {
     "data": {
      "text/plain": [
       "('teju', 'Teju')"
      ]
     },
     "execution_count": 24,
     "metadata": {},
     "output_type": "execute_result"
    }
   ],
   "source": [
    "name,new"
   ]
  },
  {
   "cell_type": "code",
   "execution_count": 25,
   "id": "79147af0",
   "metadata": {},
   "outputs": [
    {
     "data": {
      "text/plain": [
       "{1: 'odd', 3: 'odd', 5: 'odd'}"
      ]
     },
     "execution_count": 25,
     "metadata": {},
     "output_type": "execute_result"
    }
   ],
   "source": [
    "d3={}.fromkeys([1,3,5],'odd')\n",
    "d3"
   ]
  },
  {
   "cell_type": "code",
   "execution_count": 26,
   "id": "6cd97d2d",
   "metadata": {},
   "outputs": [
    {
     "name": "stdout",
     "output_type": "stream",
     "text": [
      "1\n",
      "3\n",
      "5\n"
     ]
    }
   ],
   "source": [
    "for i in[1,3,5]:\n",
    "    print(i)"
   ]
  },
  {
   "cell_type": "markdown",
   "id": "3ebfa828",
   "metadata": {},
   "source": [
    " set as default"
   ]
  },
  {
   "cell_type": "markdown",
   "id": "6618e0af",
   "metadata": {},
   "source": [
    "-returns value of the key\n",
    "-if key is not present returns default"
   ]
  },
  {
   "cell_type": "code",
   "execution_count": 28,
   "id": "cf4d6d49",
   "metadata": {},
   "outputs": [
    {
     "data": {
      "text/plain": [
       "{'nareshit': ['Ds', 'MLops', 'DE'], 'city': None}"
      ]
     },
     "execution_count": 28,
     "metadata": {},
     "output_type": "execute_result"
    }
   ],
   "source": [
    "d1={}\n",
    "d1.setdefault('nareshit','Ds')\n",
    "d1.setdefault('city')\n",
    "d1.setdefault('nareshit',['Ds','MLops','DE'])\n",
    "d1['nareshit']=['Ds','MLops','DE']\n",
    "d1.setdefault('city','hys')\n",
    "d1"
   ]
  },
  {
   "cell_type": "code",
   "execution_count": 29,
   "id": "20d496f1",
   "metadata": {},
   "outputs": [
    {
     "ename": "KeyError",
     "evalue": "'city'",
     "output_type": "error",
     "traceback": [
      "\u001b[1;31m---------------------------------------------------------------------------\u001b[0m",
      "\u001b[1;31mKeyError\u001b[0m                                  Traceback (most recent call last)",
      "Cell \u001b[1;32mIn[29], line 3\u001b[0m\n\u001b[0;32m      1\u001b[0m d2\u001b[38;5;241m=\u001b[39m{}\n\u001b[0;32m      2\u001b[0m d2[\u001b[38;5;124m'\u001b[39m\u001b[38;5;124mnareshit\u001b[39m\u001b[38;5;124m'\u001b[39m]\u001b[38;5;241m=\u001b[39m\u001b[38;5;124m'\u001b[39m\u001b[38;5;124mDs\u001b[39m\u001b[38;5;124m'\u001b[39m\n\u001b[1;32m----> 3\u001b[0m d2[\u001b[38;5;124m'\u001b[39m\u001b[38;5;124mcity\u001b[39m\u001b[38;5;124m'\u001b[39m]\n",
      "\u001b[1;31mKeyError\u001b[0m: 'city'"
     ]
    }
   ],
   "source": [
    "d2={}\n",
    "d2['nareshit']='Ds'\n",
    "d2['city']         #"
   ]
  },
  {
   "cell_type": "markdown",
   "id": "ea26a0ce",
   "metadata": {},
   "source": [
    "$ Update $"
   ]
  },
  {
   "cell_type": "code",
   "execution_count": 35,
   "id": "4028dc1e",
   "metadata": {},
   "outputs": [
    {
     "name": "stdout",
     "output_type": "stream",
     "text": [
      "{'a': 4, 'b': 1, 'c': 6, 'd': 2}\n"
     ]
    }
   ],
   "source": [
    "# it inserts the particular items to the dictionary\n",
    "\n",
    "d1 = {'a': 4,'b': 5,'c': 6}\n",
    "d2 = {'b': 1,'d': 2}\n",
    "d1.update(d2)\n",
    "print(d1)"
   ]
  },
  {
   "cell_type": "code",
   "execution_count": null,
   "id": "ef5412d8",
   "metadata": {},
   "outputs": [],
   "source": [
    "l1=[1,4,5]\n",
    "l2"
   ]
  },
  {
   "cell_type": "markdown",
   "id": "4a60f3db",
   "metadata": {},
   "source": [
    "Update method will update a dictionary with elements from dictionary.\n",
    "It modifies the dictionary"
   ]
  },
  {
   "cell_type": "code",
   "execution_count": 36,
   "id": "454458cb",
   "metadata": {},
   "outputs": [
    {
     "data": {
      "text/plain": [
       "{1: 2, 2: 3}"
      ]
     },
     "execution_count": 36,
     "metadata": {},
     "output_type": "execute_result"
    }
   ],
   "source": [
    "t1=[(1,2),(2,3)]\n",
    "d1={}\n",
    "d1.update(t1)\n",
    "d1"
   ]
  },
  {
   "cell_type": "code",
   "execution_count": null,
   "id": "2feb6e0c",
   "metadata": {},
   "outputs": [],
   "source": [
    "- tuple\n",
    "write an article on tuple"
   ]
  },
  {
   "cell_type": "code",
   "execution_count": null,
   "id": "1cc34aba",
   "metadata": {},
   "outputs": [],
   "source": [
    "- how to read\n",
    "- type/max/min/len/sum\n",
    "- index/mutable/\n",
    "- in/for\n",
    "- slice\n",
    "- methods"
   ]
  },
  {
   "cell_type": "code",
   "execution_count": null,
   "id": "cfcbe737",
   "metadata": {},
   "outputs": [],
   "source": []
  },
  {
   "cell_type": "code",
   "execution_count": null,
   "id": "a7d67356",
   "metadata": {},
   "outputs": [],
   "source": []
  },
  {
   "cell_type": "code",
   "execution_count": null,
   "id": "21fd1396",
   "metadata": {},
   "outputs": [],
   "source": []
  },
  {
   "cell_type": "code",
   "execution_count": null,
   "id": "e7bf4273",
   "metadata": {},
   "outputs": [],
   "source": []
  },
  {
   "cell_type": "code",
   "execution_count": null,
   "id": "f56ce1ca",
   "metadata": {},
   "outputs": [],
   "source": []
  },
  {
   "cell_type": "code",
   "execution_count": null,
   "id": "29fec311",
   "metadata": {},
   "outputs": [],
   "source": []
  },
  {
   "cell_type": "code",
   "execution_count": null,
   "id": "9ff8a2b0",
   "metadata": {},
   "outputs": [],
   "source": []
  },
  {
   "cell_type": "code",
   "execution_count": null,
   "id": "b99abd7b",
   "metadata": {},
   "outputs": [],
   "source": []
  }
 ],
 "metadata": {
  "kernelspec": {
   "display_name": "Python 3 (ipykernel)",
   "language": "python",
   "name": "python3"
  },
  "language_info": {
   "codemirror_mode": {
    "name": "ipython",
    "version": 3
   },
   "file_extension": ".py",
   "mimetype": "text/x-python",
   "name": "python",
   "nbconvert_exporter": "python",
   "pygments_lexer": "ipython3",
   "version": "3.11.5"
  }
 },
 "nbformat": 4,
 "nbformat_minor": 5
}
