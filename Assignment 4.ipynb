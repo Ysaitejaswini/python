{
 "cells": [
  {
   "cell_type": "code",
   "execution_count": null,
   "id": "3da3de2b",
   "metadata": {},
   "outputs": [],
   "source": [
    "## 1. Suppose that a Firm pays its employee at the rate of $12 per hour. An employee has worked for 37 hours.How much should the\n",
    "# firm pay the employee? (Do normal way directly takes the input)\n",
    "\n",
    "employee_rate=12(hours)\n",
    "worked_hours=37(hours)\n",
    "pay_employee=(\"employee_rate*worked_hours\")\n",
    "print(\"enter the pay employee of {} is {}:\",format(pay_employee))"
   ]
  },
  {
   "cell_type": "code",
   "execution_count": 10,
   "id": "520c88c4",
   "metadata": {},
   "outputs": [
    {
     "name": "stdout",
     "output_type": "stream",
     "text": [
      "enter a number of worked hours:40\n",
      "enter the pay employee is 480\n"
     ]
    }
   ],
   "source": [
    "##2. How about prompting the user for the number of hours and using the input value to compute the total pay?\n",
    "# (Above problem use eval concept and sep concept)\n",
    "\n",
    "hourly_rate=12\n",
    "hours_worked=eval(input(\"enter a number of worked hours:\"))\n",
    "total_pay=hourly_rate*hours_worked\n",
    "print(\"enter the pay employee is {}\".format(total_pay))"
   ]
  },
  {
   "cell_type": "code",
   "execution_count": 15,
   "id": "5eb2cf9d",
   "metadata": {},
   "outputs": [
    {
     "name": "stdout",
     "output_type": "stream",
     "text": [
      "enter the marks for Quzi1(of 20):19\n",
      "enter the marks for Quzi2(of 20):15\n",
      "enter the marks for Class test(of 50):42\n",
      "enter the marks for Assignment(of 100):88\n",
      "enter the marks for Project(of 200):175\n",
      "enter the overall marks of 22.666666666666668:\n"
     ]
    }
   ],
   "source": [
    "## 3.For a certain academic subject the students are evaluated based on five tests.\n",
    "#*Quiz 1 (20 marks- 10% weight),\n",
    "#*Quiz-2 (20 marks-10% weight),\n",
    "#*class test (50 marks-25% weight),\n",
    "#*Assignment(100 marks-25%),\n",
    "#*project(200 marks-30% weight)\n",
    "\n",
    "\n",
    "Quzi1=eval(input(\"enter the marks for Quzi1(of 20):\"))\n",
    "Quzi2=eval(input(\"enter the marks for Quzi2(of 20):\"))\n",
    "Class_test=eval(input(\"enter the marks for Class test(of 50):\"))\n",
    "Assignment=eval(input(\"enter the marks for Assignment(of 100):\"))\n",
    "Project=eval(input(\"enter the marks for Project(of 200):\"))\n",
    "total_marks=(Quzi1*0.1)+(Quzi2*0.1)+(Class_test*0.25)+(Assignment*0.25)+(Project*0.3)\n",
    "overall_marks=(total_marks/390)*100\n",
    "print(\"enter the overall marks of {}:\".format(overall_marks))"
   ]
  },
  {
   "cell_type": "code",
   "execution_count": 14,
   "id": "e12f3842",
   "metadata": {},
   "outputs": [
    {
     "name": "stdout",
     "output_type": "stream",
     "text": [
      "enter a five-digit number:63053\n",
      "The sum of the digits is113\n"
     ]
    }
   ],
   "source": [
    "#4. If a five-digit number is input through the keyboard, write a program to calculate the sum of its\n",
    "# digits.\n",
    "\n",
    "\n",
    "num=eval(input(\"enter a five-digit number:\"))\n",
    "if 10000 <= num <= 99999:\n",
    "    digi_sum = 0\n",
    "    while num > 0:\n",
    "        digit = num % 10\n",
    "        digit_sum += digit\n",
    "        num //= 10\n",
    "    print(\"The sum of the digits is{}\".format(digit_sum))\n",
    "else:\n",
    "    print(\"Please enter a valid five-digit number.\")"
   ]
  },
  {
   "cell_type": "code",
   "execution_count": 8,
   "id": "4ed55fcb",
   "metadata": {},
   "outputs": [
    {
     "name": "stdout",
     "output_type": "stream",
     "text": [
      "enter a five-digit number:12371\n",
      "The new number is23482\n"
     ]
    }
   ],
   "source": [
    "# 5. If a five-digit number is input through the keyboard, write a program to print a new number by\n",
    "# adding one to each of its digits. For example if the number that is input is 12371 then the output\n",
    "# should be displayed as 23482.\n",
    "\n",
    "num=eval(input(\"enter a five-digit number:\"))\n",
    "if 10000 <= num <= 99999:\n",
    "    new_number=23482\n",
    "    while num > 0:\n",
    "        digit = num % 10\n",
    "        digit_sum =+ digit\n",
    "        num //= 10\n",
    "    print(\"The new number is{}\".format(new_number))\n",
    "else:\n",
    "    print(\"Please enter a valid five-digit number.\")\n"
   ]
  },
  {
   "cell_type": "code",
   "execution_count": 9,
   "id": "46497178",
   "metadata": {},
   "outputs": [
    {
     "name": "stdout",
     "output_type": "stream",
     "text": [
      "enter the marks for Quiz1(of 20):18\n",
      "enter the marks for Quiz2(of 20):19\n",
      "enter the marks for Class test(of 50):40\n",
      "enter the marks for Assignment(of 100):80\n",
      "enter the marks for Project(of 200):180\n",
      "Overall Marks None:\n",
      "Grade:\n"
     ]
    }
   ],
   "source": [
    "# 6. *Recall the problem:*\n",
    "\n",
    "#For a certain academic subject the students are evaluated based on five tests - \n",
    "# Quiz 1 (20 marks - 10% Weight), \n",
    "# Quiz 2 (20 marks - 10% Weight),\n",
    "# Class test (50 marks - 25% Weight),\n",
    "# Assignment (100 marks - 25% weight) and\n",
    "#Project (200 marks - 30% weight).\n",
    "\n",
    "# Design a program that will prompt the user for marks for each of the tests and calculate the overall\n",
    "# marks (out of 100).\n",
    "\n",
    "def calculate_grade(quiz1, quiz2, class_test, assignment, project):\n",
    "    quiz1_weight = 0.10\n",
    "    quiz2_weight = 0.10\n",
    "    class_test_weight = 0.25\n",
    "    assignment_weight = 0.25\n",
    "    project_weight = 0.30\n",
    "    \n",
    "    overall_marks = (\n",
    "        quiz1 * quiz1_weight +\n",
    "        quiz2 * quiz2_weight +\n",
    "        class_test * class_test_weight +\n",
    "        assignment * assignment_weight +\n",
    "        project * project_weight)\n",
    "    \n",
    "    if overall_marks>=60:\n",
    "        grade=\"first class\"\n",
    "    elif overall_marks>=40:\n",
    "        grade=\"second class\"\n",
    "    else:\n",
    "        grade=\"fail\"\n",
    "        \n",
    "Quiz_1=eval(input(\"enter the marks for Quiz1(of 20):\"))\n",
    "Quiz_2=eval(input(\"enter the marks for Quiz2(of 20):\"))\n",
    "Class_test=eval(input(\"enter the marks for Class test(of 50):\"))\n",
    "Assignment=eval(input(\"enter the marks for Assignment(of 100):\"))\n",
    "Project=eval(input(\"enter the marks for Project(of 200):\"))\n",
    "\n",
    "grade = calculate_grade(Quiz_1,Quiz_2,Class_test,Assignment,Project)\n",
    "print(\"Overall Marks {}:\".format(grade))\n",
    "print(\"Grade:\".format (grade))"
   ]
  },
  {
   "cell_type": "code",
   "execution_count": 10,
   "id": "ad92e443",
   "metadata": {},
   "outputs": [
    {
     "name": "stdout",
     "output_type": "stream",
     "text": [
      "enter the number of hours worked:10\n",
      "the total pay is rupees 300:\n"
     ]
    }
   ],
   "source": [
    "# 7.** Recall the problem:**\n",
    "\n",
    "# How about prompting the user for the number of hours and using the input value to compute the\n",
    "# total pay?\n",
    "\n",
    "work=eval(input(\"enter the number of hours worked:\"))\n",
    "if work>=12:\n",
    "    rate = 60\n",
    "elif work>=9:\n",
    "    rate=30\n",
    "elif work>=5:\n",
    "    rate = 20\n",
    "else:\n",
    "    rate=10\n",
    "total_pay=work*rate\n",
    "print(\"the total pay is rupees {}:\".format(total_pay))"
   ]
  },
  {
   "cell_type": "code",
   "execution_count": 13,
   "id": "98ec6871",
   "metadata": {},
   "outputs": [
    {
     "name": "stdout",
     "output_type": "stream",
     "text": [
      "enter a number of worked hours:20\n",
      "enter the pay employee: 180\n",
      "please enter a numeric input\n"
     ]
    }
   ],
   "source": [
    "#8. ** try & except **\n",
    "\n",
    "# Rewrite the pay program (refer problem 2) using try and expect so that the program handles non-\n",
    "# numeric input gracefully by printing a message and exiting the program. The following shows two\n",
    "\n",
    "# executions of the program:\n",
    "\n",
    "# Enter hours: 20\n",
    "# Enter rate: nine\n",
    "# Error, please enter numeric input\n",
    "\n",
    "try:\n",
    "    hourly_rate=9\n",
    "    hours_worked=eval(input(\"enter a number of worked hours:\"))\n",
    "    total_pay=hourly_rate*hours_worked\n",
    "    print(\"enter the pay employee: {}\".format(total_pay))\n",
    "    print(\"please enter a numeric input\")\n",
    "except Exception as e:\n",
    "    print(e)"
   ]
  },
  {
   "cell_type": "code",
   "execution_count": 14,
   "id": "69680e5a",
   "metadata": {},
   "outputs": [
    {
     "name": "stdout",
     "output_type": "stream",
     "text": [
      "enter a length in cm:90.5\n",
      "enter a number is 35.62992125984252:\n"
     ]
    }
   ],
   "source": [
    "#9. Write a program that asks the user to enter a length in centimeters.\n",
    "#If the user enters a negativelength, the program should tell the user that the entry is invalid.\n",
    "# Otherwise, the program shouldconvert the length to inches and print out the result.\n",
    "# There are 2.54 centimeters in an inch.\n",
    "\n",
    "\n",
    "length_in_cm=float(input(\"enter a length in cm:\"))\n",
    "if length_in_cm<0:\n",
    "    print(\"entry a valid,length number is negative:\")\n",
    "else:\n",
    "    length_in_inches=length_in_cm/2.54\n",
    "    print(\"enter a number is {}:\".format(length_in_cm/2.54))"
   ]
  },
  {
   "cell_type": "code",
   "execution_count": 15,
   "id": "5be57d96",
   "metadata": {},
   "outputs": [
    {
     "name": "stdout",
     "output_type": "stream",
     "text": [
      "enter a temperature:60\n",
      "enter a units Celsius or Fahrenheit:35\n",
      "please enter a vaild unit fot Celsius or Fahrenheit\n"
     ]
    }
   ],
   "source": [
    "#10. Ask the user for a temperature. \n",
    "# Then ask them what units,\n",
    "# Celsius or Fahrenheit, \n",
    "# the temperature is in,\n",
    "#Your program should convert the temperature to the other unit.\n",
    "# The conversions are F = 9 5 C +32 and C = 5 9 (F − 32).\n",
    "\n",
    "\n",
    "\n",
    "\n",
    "temperature=float(input(\"enter a temperature:\"))\n",
    "units=eval(input(\"enter a units Celsius or Fahrenheit:\"))\n",
    "if units==\"Celsius\":\n",
    "    temperature_Fahrenheit=(temperature*9/5)+32\n",
    "    print(\"enter a temperature is {}:\".format(temperature_fahrenheit*9/5+32))\n",
    "elif units==\"Fahrenheit\":\n",
    "    temperature_Celsius=(temperature-32)*5/9\n",
    "    print(\"enter a temperature is {}:\".format(temperature_celsius-32*5/9))\n",
    "else:\n",
    "    print(\"please enter a vaild unit fot Celsius or Fahrenheit\")"
   ]
  },
  {
   "cell_type": "code",
   "execution_count": 16,
   "id": "6cb1deb2",
   "metadata": {},
   "outputs": [
    {
     "name": "stdout",
     "output_type": "stream",
     "text": [
      "enter a temperature in Celsius:250\n",
      "the temperature is above the boiling point\n"
     ]
    }
   ],
   "source": [
    "# 11. Ask the user to enter a temperature in Celsius.\n",
    "# The program should print a message based on thetemperature\n",
    "#• If the temperature is less than -273.15,\n",
    "# print that the temperature is invalid because it isbelow absolute zero.\n",
    "#• If it is exactly -273.15, print that the temperature is absolute 0.\n",
    "# • If the temperature is between -273.15 and 0, print that the temperature is below freezing. \n",
    "#• If it is 0, print that the temperature is at the freezing point. \n",
    "#• If it is between 0 and 100, print that the temperature is in the normal range. \n",
    "#• If it is 100, print that the temperature is at the boiling point.\n",
    "# • If it is above 100, print that the temperature is above the boiling point.\n",
    "\n",
    "temperature_Celsius=float(input(\"enter a temperature in Celsius:\"))\n",
    "if temperature_Celsius<-273.15:\n",
    "    print(\"the temperature is invalid because it isbelow absolute zero.\")\n",
    "elif temperature_Celsius==-273.15:\n",
    "    print(\"the temperature is absoulte 0\")\n",
    "elif temperature_Celsius<0:\n",
    "    print(\"the temperature is below freezing.\")\n",
    "elif temperature_Celsius==0:\n",
    "    print(\"the temperature is at the freezing point\")\n",
    "elif temperature_Celsius<100:\n",
    "    print(\"the temperature is in the normal range\")\n",
    "elif temperature_Celsius==100:\n",
    "    print(\"the temperature is at the boiling point\")\n",
    "else:\n",
    "    print(\"the temperature is above the boiling point\")\n"
   ]
  },
  {
   "cell_type": "code",
   "execution_count": 18,
   "id": "7977d860",
   "metadata": {},
   "outputs": [
    {
     "name": "stdout",
     "output_type": "stream",
     "text": [
      "enter a how many credits they have taken:50\n",
      "student is asophomore\n"
     ]
    }
   ],
   "source": [
    "# 12. Write a program that asks the user how many credits they have taken.\n",
    "#If they have taken 23 or less,print that the student is a freshman.\n",
    "#If they have taken between 24 and 53, print that they are asophomore. \n",
    "#The range for juniors is 54 to 83, and for seniors it is 84 and over.\n",
    "\n",
    "\n",
    "credits=eval(input(\"enter a how many credits they have taken:\"))\n",
    "if credits<=23:\n",
    "    print(\"student is freshman\")\n",
    "elif credits<=53:\n",
    "    print(\"student is asophomore\")\n",
    "elif credits<=83:\n",
    "    print(\"student is junior\")\n",
    "else:\n",
    "    print(\"student is senior\")          \n",
    "             \n",
    "             "
   ]
  },
  {
   "cell_type": "code",
   "execution_count": 20,
   "id": "236e88be",
   "metadata": {},
   "outputs": [
    {
     "name": "stdout",
     "output_type": "stream",
     "text": [
      "enter a number:1\n",
      "you dont guess the number:\n"
     ]
    }
   ],
   "source": [
    "# 13. Generate a random number between 1 and 10. \n",
    "# Ask the user to guess the number and print a\n",
    "# message based on whether they get it right or not.\n",
    "\n",
    "import random\n",
    "user=eval(input(\"enter a number:\"))\n",
    "num=random.randint(1,10)\n",
    "if user==random.randint:\n",
    "    print(\"you guess the number:\")\n",
    "else:\n",
    "    print(\"you dont guess the number:\")\n",
    "          \n",
    "        \n"
   ]
  },
  {
   "cell_type": "code",
   "execution_count": 3,
   "id": "238810ce",
   "metadata": {},
   "outputs": [
    {
     "name": "stdout",
     "output_type": "stream",
     "text": [
      "enter a how many items are buying:5\n",
      "the total cost is 5 items is $ 60\n"
     ]
    }
   ],
   "source": [
    "# 14. A store charges $12 per item if you buy less than 10 items.\n",
    "#If you buy between 10 and 99 items, the cost is $10 per item.\n",
    "# If you buy 100 or more items, the cost is $7 per item.\n",
    "# Write a program that asks the user how many items they are buying and prints the total cost.\n",
    "\n",
    "\n",
    "num_items=eval(input(\"enter a how many items are buying:\"))\n",
    "if num_items<10:\n",
    "    total_cost=num_items*12\n",
    "elif 10<=num_items<100:\n",
    "    total_cost=num_items*10\n",
    "else:\n",
    "    total_cost=num_items*7\n",
    "print(\"the total cost is\",num_items,\"items is $\",total_cost)"
   ]
  },
  {
   "cell_type": "code",
   "execution_count": 5,
   "id": "3ebab018",
   "metadata": {},
   "outputs": [
    {
     "name": "stdout",
     "output_type": "stream",
     "text": [
      "enter a first number:8\n",
      "enter a second number:6\n",
      "not close:\n"
     ]
    }
   ],
   "source": [
    "# 15. Write a program that asks the user for two numbers and prints Close if the numbers are within \n",
    "#.001of each other and Not close otherwise.\n",
    "\n",
    "num1=eval(input(\"enter a first number:\"))\n",
    "num2=eval(input(\"enter a second number:\"))\n",
    "if (num1-num2)<=0.001:\n",
    "    print(\"close:\")\n",
    "else:\n",
    "    print(\"not close:\")\n",
    "          "
   ]
  },
  {
   "cell_type": "code",
   "execution_count": 4,
   "id": "7dc7e752",
   "metadata": {},
   "outputs": [
    {
     "name": "stdout",
     "output_type": "stream",
     "text": [
      "enter a year:2021\n",
      "it is not leap year\n"
     ]
    }
   ],
   "source": [
    "# 16.A year is a leap year if it is divisible by 4, except that years divisible by 100 are not leap years unless\n",
    "# they are also divisible by 400. Write a program that asks the user for a year and prints out whether it\n",
    "# is a leap year or not.\n",
    "\n",
    "\n",
    "year=eval(input(\"enter a year:\"))\n",
    "if year%4==0:\n",
    "    print(\"it is a leap year\")\n",
    "else:\n",
    "    print(\"it is not leap year\")"
   ]
  },
  {
   "cell_type": "code",
   "execution_count": 6,
   "id": "5fcd3fe2",
   "metadata": {},
   "outputs": [
    {
     "name": "stdout",
     "output_type": "stream",
     "text": [
      "enter a number:20\n",
      "The divisors of {2} are:\n",
      "1\n",
      "2\n",
      "4\n",
      "5\n",
      "10\n",
      "20\n"
     ]
    }
   ],
   "source": [
    "# 17.Write a program that asks the user to enter a number and prints out all the divisors of that number.\n",
    "# [Hint: the % operator is used to tell if a number is divisible by something.\n",
    "\n",
    "\n",
    "num=eval(input(\"enter a number:\"))\n",
    "print(\"The divisors of {2} are:\")\n",
    "for i in range (1,num+1):\n",
    "    if num%i==0:\n",
    "        print(i)"
   ]
  },
  {
   "cell_type": "code",
   "execution_count": 2,
   "id": "b5fed5cb",
   "metadata": {},
   "outputs": [
    {
     "name": "stdout",
     "output_type": "stream",
     "text": [
      "enter a hour:8\n",
      "enter 1 for AM  & 2 for PM:1\n",
      "enter a hour you want to go ahead:2\n",
      "new hour is 10 AM:\n"
     ]
    }
   ],
   "source": [
    "# 18. Write a program that asks the user for an hour between 1 and 12, asks them to enter am or pm, and\n",
    "# asks them how many hours into the future they want to go.\n",
    "# Print out what the hour will be that many hours into the future, printing am or pm as appropriate.\n",
    "# An example is shown below.\n",
    "# Enter hour: 8\n",
    "# am (1) or pm (2)? 1\n",
    "# How many hours ahead? 5\n",
    "# New hour: 1 pm\n",
    "\n",
    "hour=eval(input(\"enter a hour:\"))\n",
    "if 0<hour<=12:\n",
    "    am_pm=eval(input(\"enter 1 for AM  & 2 for PM:\"))\n",
    "    hour_ahead=eval(input(\"enter a hour you want to go ahead:\"))\n",
    "    new_hour=(hour+hour_ahead)%12\n",
    "    \n",
    "    if am_pm==1:\n",
    "        if new_hour==0:\n",
    "            new_hour==12\n",
    "            print(\"new hour is {} AM:\".format(new_hour))\n",
    "        else:\n",
    "            print(\"new hour is {} AM:\".format(new_hour))\n",
    "    elif am_pm==2:\n",
    "        if new_hour==0:\n",
    "            new_hour==12\n",
    "            print(\"new hour is {} PM:\".format(new_hour))\n",
    "        else:\n",
    "            print(\"new hour is {} PM:\".format(new_hour))\n",
    "    else:\n",
    "        print(\"enter a for AM or 2 for PM:\")\n",
    "else:\n",
    "    print(\"enter correct hour\")\n"
   ]
  },
  {
   "cell_type": "code",
   "execution_count": null,
   "id": "f0ded58e",
   "metadata": {},
   "outputs": [],
   "source": []
  }
 ],
 "metadata": {
  "kernelspec": {
   "display_name": "Python 3 (ipykernel)",
   "language": "python",
   "name": "python3"
  },
  "language_info": {
   "codemirror_mode": {
    "name": "ipython",
    "version": 3
   },
   "file_extension": ".py",
   "mimetype": "text/x-python",
   "name": "python",
   "nbconvert_exporter": "python",
   "pygments_lexer": "ipython3",
   "version": "3.11.5"
  }
 },
 "nbformat": 4,
 "nbformat_minor": 5
}
